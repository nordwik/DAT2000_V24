{
 "cells": [
  {
   "cell_type": "markdown",
   "source": [
    "## DAT2000 Våren 2024\n",
    "## Oppvarming til 29. Januar\n",
    "\n",
    "Som sist, så bruker vi smilefjesordningen:\n",
    "\n",
    "- [Smilefjestilsyn på serveringssteder](https://data.norge.no/datasets/288aa74c-e3d3-492e-9ede-e71503b3bfd9)\n",
    "- [Kravpunkter for smilefjestilsyn på serveringssteder](https://data.norge.no/datasets/1bf96c45-f8ac-4f2d-bca1-4e5ab4e7c6c6)\n",
    "\n",
    "Kan være interessant å lese om karakterskalaen for disse kontrollene:\n",
    "\n",
    "> Karakterskala: \n",
    "> 0 = Ingen brudd på regelverket funnet. Stort smil.\n",
    "> 1 = Mindre brudd på regelverket som ikke krever oppfølging. Stort smil. \n",
    "> 2 = Brudd på regelverket som krever oppfølging. Strekmunn. \n",
    "> 3 = Alvorlig brudd på regelverket. Sur munn.\n",
    "> 4 = Ikke aktuelt - Virksomheten har ikke denne aktiviteten ved tilsynsobjektet. Påvirker ikke smilefjeskarakter. \n",
    "> 5 = Ikke vurdert - Mattilsynet har ikke vurdert kravpunktet ved dette tilsynet. Påvirker ikke smilefjeskarakter. Dersom det hadde blitt avdekket mistanke om vesentlige eller åpenbare avvik i forbindelse med inspeksjonen, ville kravpunktet blitt vurdert.\n",
    "\n",
    "fra: https://data.norge.no/datasets/288aa74c-e3d3-492e-9ede-e71503b3bfd9 (hentet 21.01.2024)\n",
    "\n",
    "Disse kan du laste ned her: \n",
    "- [tilsyn.csv](https://hotell.difi.no/download/mattilsynet/smilefjes/tilsyn?download)\n",
    "- [kravpunkter.csv](https://hotell.difi.no/download/mattilsynet/smilefjes/kravpunkter)\n",
    "\n",
    "Plasser de i mappen jan29.\n",
    "\n",
    "Deretter kan du installere noen pakker vi trenger:\n",
    "\n",
    "```bash\n",
    "pip install polars hvplot\n",
    "```"
   ],
   "metadata": {
    "collapsed": false
   },
   "id": "731a1d44e4077498"
  },
  {
   "cell_type": "markdown",
   "source": [
    "## Kort om Polars\n",
    "Polars er en minnebasert database for dataanalyse, som lar deg manipulere og analysere store datasett i minne. APIet er basert på såkalte DataFrames - vi har allerede sett disse i Pandas. Pandas er mer populært, men Polars har vesentlige forbedringer sammenlignet med Pandas:\n",
    "\n",
    "- Pandas lar deg gjennomføre ulike operasjoner på datasett, mens Polars bygger disse som en spørring på datasettet, og lager en optimalisert spørringsplan når spørringen gjennomføres. Umiddelbar eksekvering kaller vi _eager_, mens når vi samler instruksjonene til en plan så kaller vi det _lazy_ eksekvering. \n",
    "- Polars er implementert i Rust og paralleliserer eksekveringen, Pandas bruker kun én tråd. \n",
    "\n",
    "Polars bruker flere av optimaliseringene for kolonnebaserte databaser som vi diskuterte på forelesning, blant annet så bruker den SIMD.  \n",
    "\n",
    "Her er user guide: https://docs.pola.rs/ \n",
    "Her er API-dokumentasjonen: https://docs.pola.rs/py-polars/html/reference/ "
   ],
   "metadata": {
    "collapsed": false
   },
   "id": "613737701bf7a9d2"
  },
  {
   "cell_type": "code",
   "outputs": [],
   "source": [
    "import polars as pl"
   ],
   "metadata": {
    "collapsed": false
   },
   "id": "56900ca20cc135b1",
   "execution_count": null
  },
  {
   "cell_type": "code",
   "outputs": [],
   "source": [
    "df_t = pl.read_csv(\"tilsyn.csv\", separator=\";\", dtypes={\"postnr\":str})\n",
    "df_t"
   ],
   "metadata": {
    "collapsed": false
   },
   "id": "22b559459776913e",
   "execution_count": null
  },
  {
   "cell_type": "code",
   "outputs": [],
   "source": [
    "# Vi kan skrive til CSV\n",
    "df_t.write_csv(\"tilsyn2.csv\")"
   ],
   "metadata": {
    "collapsed": false
   },
   "id": "1d1a9ac0a4e16e09",
   "execution_count": null
  },
  {
   "cell_type": "code",
   "outputs": [],
   "source": [
    "# Vi kan skrive til Parquet\n",
    "df_t.write_parquet(\"tilsyn.parquet\")"
   ],
   "metadata": {
    "collapsed": false
   },
   "id": "a3decef2310e3125",
   "execution_count": null
  },
  {
   "cell_type": "code",
   "outputs": [],
   "source": [
    "#Vi kan velge en serie:\n",
    "df_t[\"navn\"]"
   ],
   "metadata": {
    "collapsed": false
   },
   "id": "fcc20f2abf3d6d8",
   "execution_count": null
  },
  {
   "cell_type": "code",
   "outputs": [],
   "source": [
    "# Vi kan velge én eller flere kolonner - dette blir en ny DataFrame\n",
    "df_t[[\"navn\", \"postnr\"]]"
   ],
   "metadata": {
    "collapsed": false
   },
   "id": "8f9e59acc11e84af",
   "execution_count": null
  },
  {
   "cell_type": "code",
   "outputs": [],
   "source": [
    "# Men helst så burde vi bruke denne syntaksen til å velge flere kolonner:\n",
    "df_t.select(\"navn\", \"postnr\")"
   ],
   "metadata": {
    "collapsed": false
   },
   "id": "cd1a5cfc3f1db336",
   "execution_count": null
  },
  {
   "cell_type": "code",
   "outputs": [],
   "source": [
    "# Vi kan også velge noe som er et uttrykk - legg merke til at \"A\" repeteres\n",
    "# pl.lit(\"A\") betyr en literal\n",
    "df_t.select(pl.lit(\"A\"), \"postnr\")"
   ],
   "metadata": {
    "collapsed": false
   },
   "id": "acee21694f306fa8",
   "execution_count": null
  },
  {
   "cell_type": "code",
   "outputs": [],
   "source": [
    "# Strengt tatt så kan vi bruke pl.col(\"postnr\") for å si at vi vil ha kolonnen postnummer\n",
    "df_t.select(pl.lit(\"A\"), pl.col(\"postnr\"))"
   ],
   "metadata": {
    "collapsed": false
   },
   "id": "87c2110f6db37ad5",
   "execution_count": null
  },
  {
   "cell_type": "code",
   "outputs": [],
   "source": [
    "# Vi kan filtrere på uttrykk:\n",
    "df_t.filter(pl.col(\"postnr\") == pl.lit(\"3179\"))"
   ],
   "metadata": {
    "collapsed": false
   },
   "id": "f891c1e3c8182c3c",
   "execution_count": null
  },
  {
   "cell_type": "code",
   "outputs": [],
   "source": [
    "# Dette endrer ikke df_t\n",
    "df_t"
   ],
   "metadata": {
    "collapsed": false
   },
   "id": "9bf8d99a5741d4d8",
   "execution_count": null
  },
  {
   "cell_type": "code",
   "outputs": [],
   "source": [
    "# Vi må gjøre assignment for å endre noe.\n",
    "# Bruk ~ for negasjon, | for or og & for and. \n",
    "# Husk å sette parantes rundt uttrykkene.. \n",
    "\n",
    "df_t2 = df_t.filter((pl.col(\"postnr\") == \"3179\") | (pl.col(\"poststed\") == \"HORTEN\"))\n",
    "df_t2"
   ],
   "metadata": {
    "collapsed": false
   },
   "id": "3d90d64fffddf5e8",
   "execution_count": null
  },
  {
   "cell_type": "code",
   "outputs": [],
   "source": [
    "# Vi kan tilordne til kolonner\n",
    "df_t3 = df_t.with_columns(\n",
    "    (pl.col(\"postnr\") + pl.lit(\" \") + pl.col(\"poststed\")).alias(\"postnr poststed\")\n",
    ")\n",
    "df_t3"
   ],
   "metadata": {
    "collapsed": false
   },
   "id": "dcfcd60588f59df5",
   "execution_count": null
  },
  {
   "cell_type": "code",
   "outputs": [],
   "source": [
    "# Vi fikser opp i datoen\n",
    "df_t = df_t.with_columns(\n",
    "    pl.col(\"dato\").cast(str).str.pad_start(8, \"0\").str.to_date(format=\"%d%m%Y\")\n",
    ")"
   ],
   "metadata": {
    "collapsed": false
   },
   "id": "62d1e1e6950e9833",
   "execution_count": null
  },
  {
   "cell_type": "code",
   "outputs": [],
   "source": [
    "# Vi kan lage mer kompliserte uttrykk\n",
    "# .str inneholder en del streng-metoder, viktig at datatypen er string i dette tilfellet.\n",
    "df_t.with_columns(\n",
    "    (pl.col(\"poststed\").str.slice(0,1) + \n",
    "     pl.col(\"poststed\").str.slice(1, None).str.to_lowercase()).alias(\"poststed\"))"
   ],
   "metadata": {
    "collapsed": false
   },
   "id": "408f7eabd34a73a9",
   "execution_count": null
  },
  {
   "cell_type": "code",
   "outputs": [],
   "source": [
    "df_k = pl.read_csv(\"kravpunkter.csv\", separator=\";\").with_columns(\n",
    "    pl.col(\"dato\").cast(str).str.pad_start(8, \"0\").str.to_date(format=\"%d%m%Y\")\n",
    ")\n",
    "df_k"
   ],
   "metadata": {
    "collapsed": false
   },
   "id": "b7ec683f48bcaafd",
   "execution_count": null
  },
  {
   "cell_type": "code",
   "outputs": [],
   "source": [
    "# Vi kan joine:\n",
    "df_j = df_t.select(\n",
    "    pl.col(\"navn\"), pl.col(\"orgnummer\"), pl.col(\"tilsynid\")\n",
    "    ).join(\n",
    "    df_k.select(\n",
    "        pl.col(\"tilsynid\"), pl.col(\"ordningsverdi\"), pl.col(\"karakter\"), pl.col(\"kravpunktnavn_no\")\n",
    "    ), on=\"tilsynid\",how=\"left\")\n",
    "df_j"
   ],
   "metadata": {
    "collapsed": false
   },
   "id": "9eecf87a39eeba1c",
   "execution_count": null
  },
  {
   "cell_type": "code",
   "outputs": [],
   "source": [
    "# Vi kan gruppere og aggregere\n",
    "df_j.group_by(\"tilsynid\", \"orgnummer\", \"navn\").agg(\n",
    "    (pl.col(\"karakter\") == 3).any().alias(\"noen_karakter_3\")\n",
    ")"
   ],
   "metadata": {
    "collapsed": false
   },
   "id": "2a41da691de135c1",
   "execution_count": null
  },
  {
   "cell_type": "code",
   "outputs": [],
   "source": [
    "# Vi kan kombinere flere uttrykk\n",
    "# Vi kan gruppere og aggregere og deretter sortere\n",
    "df_j.group_by(\"tilsynid\", \"orgnummer\", \"navn\").agg(\n",
    "    (pl.col(\"karakter\") == 3).any().alias(\"noen_karakter_3\")\n",
    ").sort(\"noen_karakter_3\", descending=True)"
   ],
   "metadata": {
    "collapsed": false
   },
   "id": "835163d90cf250be",
   "execution_count": null
  },
  {
   "cell_type": "code",
   "outputs": [],
   "source": [
    "# Vi bruker .lazy() for å lage en spørringsplan, og .collect() for å eksekvere spørringsplanen. \n",
    "# Vi bruker .scan_csv() for å bare lage en plan om å lese CSV.\n",
    "# Optimaliseringene gjør at vi kun leser inn de kolonnene som faktisk blir brukt!\n",
    "# Dette kalles en LazyFrame, ikke en DataFrame\n",
    "lf_t = pl.scan_csv(\"tilsyn.csv\", separator=\";\", dtypes={\"postnr\":str})\n",
    "df_t = lf_t.select(\"orgnummer\", \"navn\", \"dato\", \"total_karakter\", \"poststed\").with_columns(\n",
    "    pl.col(\"dato\").cast(str).str.pad_start(8, \"0\").str.to_date(format=\"%d%m%Y\")\n",
    ").filter(\n",
    "    pl.col(\"total_karakter\").is_in([2,3])\n",
    ").filter(\n",
    "    pl.col(\"dato\").dt.year() == 2018\n",
    ").filter(\n",
    "    pl.col(\"poststed\") == \"HORTEN\"\n",
    ").collect()\n",
    "df_t"
   ],
   "metadata": {
    "collapsed": false
   },
   "id": "a26044f94a8b8c3",
   "execution_count": null
  },
  {
   "cell_type": "code",
   "outputs": [],
   "source": [],
   "metadata": {
    "collapsed": false
   },
   "id": "62045dabd88d5ce0"
  }
 ],
 "metadata": {
  "kernelspec": {
   "display_name": "Python 3",
   "language": "python",
   "name": "python3"
  },
  "language_info": {
   "codemirror_mode": {
    "name": "ipython",
    "version": 2
   },
   "file_extension": ".py",
   "mimetype": "text/x-python",
   "name": "python",
   "nbconvert_exporter": "python",
   "pygments_lexer": "ipython2",
   "version": "2.7.6"
  }
 },
 "nbformat": 4,
 "nbformat_minor": 5
}
