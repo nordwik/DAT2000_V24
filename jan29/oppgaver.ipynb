{
 "cells": [
  {
   "cell_type": "markdown",
   "source": [
    "## Oppgaver\n",
    "1. Finn antall unike serveringssted (bruk navn og orgnummer), se [her](https://docs.pola.rs/py-polars/html/reference/dataframe/api/polars.DataFrame.unique.html)\n",
    "2. Lag en ny kolonne som er true hvis kontrollen er surmunn (bruk total_karakter), false hvis ikke. Kall kolonnen \"surmunn\". Se: [her](https://docs.pola.rs/py-polars/html/reference/expressions/api/polars.Expr.alias.html#polars.Expr.alias) og [her](https://docs.pola.rs/py-polars/html/reference/expressions/api/polars.Expr.eq.html) \n",
    "3. Lag en ny kolonne med årstallet for kontrollen. Kall denne kolonnen for \"år\". \n",
    "4. Tell antall kontroller pr. serveringssted, se [her](https://docs.pola.rs/py-polars/html/reference/dataframe/api/polars.dataframe.group_by.GroupBy.agg.html#polars.dataframe.group_by.GroupBy.agg)\n",
    "5. Finn serveringsstedet med flest antall kontroller.\n",
    "6. Finn serveringsstedet med flest antall kontroller i et år - hint: bruk pl.col(\"dato\").dt.year() i grupperingen. \n",
    "7. Tell antall surmunn pr. serveringssted, sorter synkende på antall surmunn. Hint: bruk sum over kolonnen surmunn i en groupby agg. Se [her](https://docs.pola.rs/py-polars/html/reference/expressions/api/polars.Expr.sum.html#polars.Expr.sum)\n",
    "8. Finn antall surmunn eller strekmunn pr. serveringssted. \n",
    "9. Finn tilsynene i Tønsberg eller Horten, nyeste tilsyn først. \n",
    "10. Finn tilsyn i Tønsberg eller Horten hvor det er gitt karakteren 3 eller 4 til Renhold. Her må du joine med kravpunktene. Se oppvarmingen.  \n",
    "11. Finn tilsyn i Tønsberg eller Horten hvor det er gitt surmunn som totalkarakter, og samle opp kravpunktene som har fått surmunn 3 i en liste. Se eksempelet [her](https://docs.pola.rs/py-polars/html/reference/dataframe/api/polars.dataframe.group_by.GroupBy.agg.html#polars.dataframe.group_by.GroupBy.agg)\n",
    "\n",
    "12. I denne oppgaven skal du bruke lazy evaluering. Start med å bruke scan_csv til å lese inn csvene. Deretter skal du lage en rapport over seneste kontrollene i Tønsberg og Horten hvor det er gitt strekmunn eller surmunn. Rapporten skal inneholde karakteren som er gitt, en liste over kravpunktene som har strekmunn i en av kolonnene, en liste over kravpunktene som har surmunn i en av kolonnene. Rapporten skal være sortert nyeste kontroll først. \n",
    "13. Utvid oppgaven over ved å inkludere totalkarakteren på forrige kontroll dersom den finnes i rapporten."
   ],
   "metadata": {
    "collapsed": false
   },
   "id": "7e990c729be13f64"
  },
  {
   "cell_type": "code",
   "outputs": [],
   "source": [],
   "metadata": {
    "collapsed": false
   },
   "id": "ecb7511e135397b6"
  }
 ],
 "metadata": {
  "kernelspec": {
   "display_name": "Python 3",
   "language": "python",
   "name": "python3"
  },
  "language_info": {
   "codemirror_mode": {
    "name": "ipython",
    "version": 2
   },
   "file_extension": ".py",
   "mimetype": "text/x-python",
   "name": "python",
   "nbconvert_exporter": "python",
   "pygments_lexer": "ipython2",
   "version": "2.7.6"
  }
 },
 "nbformat": 4,
 "nbformat_minor": 5
}
