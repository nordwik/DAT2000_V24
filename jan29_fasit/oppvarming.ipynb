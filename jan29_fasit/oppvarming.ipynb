{
 "cells": [
  {
   "cell_type": "markdown",
   "id": "731a1d44e4077498",
   "metadata": {
    "collapsed": false,
    "jupyter": {
     "outputs_hidden": false
    }
   },
   "source": [
    "## DAT2000 Våren 2024\n",
    "## Oppvarming til 29. Januar\n",
    "\n",
    "Som sist, så bruker vi smilefjesordningen:\n",
    "\n",
    "- [Smilefjestilsyn på serveringssteder](https://data.norge.no/datasets/288aa74c-e3d3-492e-9ede-e71503b3bfd9)\n",
    "- [Kravpunkter for smilefjestilsyn på serveringssteder](https://data.norge.no/datasets/1bf96c45-f8ac-4f2d-bca1-4e5ab4e7c6c6)\n",
    "\n",
    "Kan være interessant å lese om karakterskalaen for disse kontrollene:\n",
    "\n",
    "> Karakterskala: \n",
    "> 0 = Ingen brudd på regelverket funnet. Stort smil.\n",
    "> 1 = Mindre brudd på regelverket som ikke krever oppfølging. Stort smil. \n",
    "> 2 = Brudd på regelverket som krever oppfølging. Strekmunn. \n",
    "> 3 = Alvorlig brudd på regelverket. Sur munn.\n",
    "> 4 = Ikke aktuelt - Virksomheten har ikke denne aktiviteten ved tilsynsobjektet. Påvirker ikke smilefjeskarakter. \n",
    "> 5 = Ikke vurdert - Mattilsynet har ikke vurdert kravpunktet ved dette tilsynet. Påvirker ikke smilefjeskarakter. Dersom det hadde blitt avdekket mistanke om vesentlige eller åpenbare avvik i forbindelse med inspeksjonen, ville kravpunktet blitt vurdert.\n",
    "\n",
    "fra: https://data.norge.no/datasets/288aa74c-e3d3-492e-9ede-e71503b3bfd9 (hentet 21.01.2024)\n",
    "\n",
    "Disse kan du laste ned her: \n",
    "- [tilsyn.csv](https://hotell.difi.no/download/mattilsynet/smilefjes/tilsyn?download)\n",
    "- [kravpunkter.csv](https://hotell.difi.no/download/mattilsynet/smilefjes/kravpunkter)\n",
    "\n",
    "Plasser de i mappen jan29.\n",
    "\n",
    "Deretter kan du installere noen pakker vi trenger:\n",
    "\n",
    "```bash\n",
    "pip install polars hvplot\n",
    "```"
   ]
  },
  {
   "cell_type": "markdown",
   "id": "613737701bf7a9d2",
   "metadata": {
    "collapsed": false,
    "jupyter": {
     "outputs_hidden": false
    }
   },
   "source": [
    "## Kort om Polars\n",
    "Polars er en minnebasert database for dataanalyse, som lar deg manipulere og analysere store datasett i minne. APIet er basert på såkalte DataFrames - vi har allerede sett disse i Pandas. Pandas er mer populært, men Polars har vesentlige forbedringer sammenlignet med Pandas:\n",
    "\n",
    "- Pandas lar deg gjennomføre ulike operasjoner på datasett, mens Polars bygger disse som en spørring på datasettet, og lager en optimalisert spørringsplan når spørringen gjennomføres. Umiddelbar eksekvering kaller vi _eager_, mens når vi samler instruksjonene til en plan så kaller vi det _lazy_ eksekvering. \n",
    "- Polars er implementert i Rust og paralleliserer eksekveringen, Pandas bruker kun én tråd. \n",
    "\n",
    "Polars bruker flere av optimaliseringene for kolonnebaserte databaser som vi diskuterte på forelesning, blant annet så bruker den SIMD.  \n",
    "\n",
    "Her er user guide: https://docs.pola.rs/ \n",
    "Her er API-dokumentasjonen: https://docs.pola.rs/py-polars/html/reference/ "
   ]
  },
  {
   "cell_type": "code",
   "execution_count": 19,
   "id": "56900ca20cc135b1",
   "metadata": {
    "collapsed": false,
    "jupyter": {
     "outputs_hidden": false
    }
   },
   "outputs": [],
   "source": [
    "import polars as pl"
   ]
  },
  {
   "cell_type": "code",
   "execution_count": 20,
   "id": "22b559459776913e",
   "metadata": {
    "collapsed": false,
    "jupyter": {
     "outputs_hidden": false
    }
   },
   "outputs": [
    {
     "data": {
      "text/html": [
       "<div><style>\n",
       ".dataframe > thead > tr,\n",
       ".dataframe > tbody > tr {\n",
       "  text-align: right;\n",
       "  white-space: pre-wrap;\n",
       "}\n",
       "</style>\n",
       "<small>shape: (44_536, 25)</small><table border=\"1\" class=\"dataframe\"><thead><tr><th>tilsynsobjektid</th><th>orgnummer</th><th>navn</th><th>adrlinje1</th><th>adrlinje2</th><th>postnr</th><th>poststed</th><th>tilsynid</th><th>sakref</th><th>status</th><th>dato</th><th>total_karakter</th><th>tilsynsbesoektype</th><th>tema1_no</th><th>tema1_nn</th><th>karakter1</th><th>tema2_no</th><th>tema2_nn</th><th>karakter2</th><th>tema3_no</th><th>tema3_nn</th><th>karakter3</th><th>tema4_no</th><th>tema4_nn</th><th>karakter4</th></tr><tr><td>str</td><td>i64</td><td>str</td><td>str</td><td>str</td><td>str</td><td>str</td><td>str</td><td>str</td><td>i64</td><td>i64</td><td>i64</td><td>i64</td><td>str</td><td>str</td><td>i64</td><td>str</td><td>str</td><td>i64</td><td>str</td><td>str</td><td>i64</td><td>str</td><td>str</td><td>i64</td></tr></thead><tbody><tr><td>&quot;Z1501071230082…</td><td>914541034</td><td>&quot;Bakeriet i Bru…</td><td>&quot;VANGSVEGEN 62&quot;</td><td>null</td><td>&quot;2317&quot;</td><td>&quot;HAMAR&quot;</td><td>&quot;Z1601211510285…</td><td>&quot;2016/6663&quot;</td><td>0</td><td>21012016</td><td>1</td><td>0</td><td>&quot;Rutiner og led…</td><td>&quot;Rutiner og lei…</td><td>1</td><td>&quot;Lokaler og uts…</td><td>&quot;Lokaler og uts…</td><td>1</td><td>&quot;Mat-håndtering…</td><td>&quot;Mat-handtering…</td><td>1</td><td>&quot;Merking og spo…</td><td>&quot;Merking og spo…</td><td>0</td></tr><tr><td>&quot;Z1006120609250…</td><td>987770740</td><td>&quot;Aktiven skihei…</td><td>&quot;Kvamskogen&quot;</td><td>null</td><td>&quot;5600&quot;</td><td>&quot;NORHEIMSUND&quot;</td><td>&quot;Z1603101430592…</td><td>&quot;2016/53185&quot;</td><td>0</td><td>10032016</td><td>1</td><td>0</td><td>&quot;Rutiner og led…</td><td>&quot;Rutiner og lei…</td><td>0</td><td>&quot;Lokaler og uts…</td><td>&quot;Lokaler og uts…</td><td>0</td><td>&quot;Mat-håndtering…</td><td>&quot;Mat-handtering…</td><td>0</td><td>&quot;Merking og spo…</td><td>&quot;Merking og spo…</td><td>1</td></tr><tr><td>&quot;Z1107281100559…</td><td>998066662</td><td>&quot;Golfkafeen&quot;</td><td>&quot;Belsjøveien 50…</td><td>null</td><td>&quot;1445&quot;</td><td>&quot;DRØBAK&quot;</td><td>&quot;Z1605111530190…</td><td>&quot;2016/106865&quot;</td><td>0</td><td>11052016</td><td>1</td><td>0</td><td>&quot;Rutiner og led…</td><td>&quot;Rutiner og lei…</td><td>0</td><td>&quot;Lokaler og uts…</td><td>&quot;Lokaler og uts…</td><td>1</td><td>&quot;Mat-håndtering…</td><td>&quot;Mat-handtering…</td><td>0</td><td>&quot;Merking og spo…</td><td>&quot;Merking og spo…</td><td>1</td></tr><tr><td>&quot;Z1205111414434…</td><td>972297925</td><td>&quot;Fargeriet Café…</td><td>&quot;Ivar Aasgaards…</td><td>&quot;Arna Næringspa…</td><td>&quot;5265&quot;</td><td>&quot;YTRE ARNA&quot;</td><td>&quot;Z1605201329276…</td><td>&quot;2016/113661&quot;</td><td>0</td><td>19052016</td><td>1</td><td>0</td><td>&quot;Rutiner og led…</td><td>&quot;Rutiner og lei…</td><td>1</td><td>&quot;Lokaler og uts…</td><td>&quot;Lokaler og uts…</td><td>0</td><td>&quot;Mat-håndtering…</td><td>&quot;Mat-handtering…</td><td>0</td><td>&quot;Merking og spo…</td><td>&quot;Merking og spo…</td><td>0</td></tr><tr><td>&quot;Z1305061320139…</td><td>911860805</td><td>&quot;Marianne Baker…</td><td>&quot;ODDEN 2&quot;</td><td>null</td><td>&quot;5745&quot;</td><td>&quot;AURLAND&quot;</td><td>&quot;Z1601281551398…</td><td>&quot;2016/20626&quot;</td><td>0</td><td>28012016</td><td>3</td><td>0</td><td>&quot;Rutiner og led…</td><td>&quot;Rutiner og lei…</td><td>2</td><td>&quot;Lokaler og uts…</td><td>&quot;Lokaler og uts…</td><td>3</td><td>&quot;Mat-håndtering…</td><td>&quot;Mat-handtering…</td><td>1</td><td>&quot;Merking og spo…</td><td>&quot;Merking og spo…</td><td>2</td></tr><tr><td>&quot;Z1301040959396…</td><td>975039129</td><td>&quot;Solbrød Nesttu…</td><td>&quot;Østre Nesttunv…</td><td>null</td><td>&quot;5221&quot;</td><td>&quot;NESTTUN&quot;</td><td>&quot;Z1602011352244…</td><td>&quot;2016/22950&quot;</td><td>0</td><td>29012016</td><td>1</td><td>0</td><td>&quot;Rutiner og led…</td><td>&quot;Rutiner og lei…</td><td>0</td><td>&quot;Lokaler og uts…</td><td>&quot;Lokaler og uts…</td><td>0</td><td>&quot;Mat-håndtering…</td><td>&quot;Mat-handtering…</td><td>0</td><td>&quot;Merking og spo…</td><td>&quot;Merking og spo…</td><td>1</td></tr><tr><td>&quot;Z1509021733238…</td><td>916327463</td><td>&quot;Suvi&quot;</td><td>&quot;Grønnegata 48&quot;</td><td>null</td><td>&quot;9008&quot;</td><td>&quot;TROMSØ&quot;</td><td>&quot;Z1602181546569…</td><td>&quot;2016/36480&quot;</td><td>0</td><td>17022016</td><td>2</td><td>0</td><td>&quot;Rutiner og led…</td><td>&quot;Rutiner og lei…</td><td>0</td><td>&quot;Lokaler og uts…</td><td>&quot;Lokaler og uts…</td><td>2</td><td>&quot;Mat-håndtering…</td><td>&quot;Mat-handtering…</td><td>0</td><td>&quot;Merking og spo…</td><td>&quot;Merking og spo…</td><td>0</td></tr><tr><td>&quot;Z1411211039297…</td><td>914430925</td><td>&quot;Cafe Jeanette&quot;</td><td>&quot;BRUGATA 16&quot;</td><td>null</td><td>&quot;2380&quot;</td><td>&quot;BRUMUNDDAL&quot;</td><td>&quot;Z1602091334400…</td><td>&quot;2016/29434&quot;</td><td>0</td><td>9022016</td><td>0</td><td>0</td><td>&quot;Rutiner og led…</td><td>&quot;Rutiner og lei…</td><td>0</td><td>&quot;Lokaler og uts…</td><td>&quot;Lokaler og uts…</td><td>0</td><td>&quot;Mat-håndtering…</td><td>&quot;Mat-handtering…</td><td>0</td><td>&quot;Merking og spo…</td><td>&quot;Merking og spo…</td><td>0</td></tr><tr><td>&quot;Z1006060857546…</td><td>979931069</td><td>&quot;Jafs Sem&quot;</td><td>&quot;Semsbyveien 94…</td><td>null</td><td>&quot;3170&quot;</td><td>&quot;SEM&quot;</td><td>&quot;Z1603301156458…</td><td>&quot;2016/68720&quot;</td><td>0</td><td>30032016</td><td>1</td><td>0</td><td>&quot;Rutiner og led…</td><td>&quot;Rutiner og lei…</td><td>0</td><td>&quot;Lokaler og uts…</td><td>&quot;Lokaler og uts…</td><td>1</td><td>&quot;Mat-håndtering…</td><td>&quot;Mat-handtering…</td><td>0</td><td>&quot;Merking og spo…</td><td>&quot;Merking og spo…</td><td>0</td></tr><tr><td>&quot;Z1410171453232…</td><td>995870258</td><td>&quot;Brumunddal Sus…</td><td>&quot;BRUGATA 1&quot;</td><td>null</td><td>&quot;2380&quot;</td><td>&quot;BRUMUNDDAL&quot;</td><td>&quot;Z1605060831207…</td><td>&quot;2016/102195&quot;</td><td>0</td><td>4052016</td><td>2</td><td>0</td><td>&quot;Rutiner og led…</td><td>&quot;Rutiner og lei…</td><td>2</td><td>&quot;Lokaler og uts…</td><td>&quot;Lokaler og uts…</td><td>2</td><td>&quot;Mat-håndtering…</td><td>&quot;Mat-handtering…</td><td>2</td><td>&quot;Merking og spo…</td><td>&quot;Merking og spo…</td><td>2</td></tr><tr><td>&quot;Z1603221429551…</td><td>988105376</td><td>&quot;Fire Årstider&quot;</td><td>&quot; SLEPENDVEIEN …</td><td>null</td><td>&quot;1341&quot;</td><td>&quot;SLEPENDEN&quot;</td><td>&quot;Z1605241003391…</td><td>&quot;2016/114566&quot;</td><td>0</td><td>23052016</td><td>1</td><td>0</td><td>&quot;Rutiner og led…</td><td>&quot;Rutiner og lei…</td><td>0</td><td>&quot;Lokaler og uts…</td><td>&quot;Lokaler og uts…</td><td>1</td><td>&quot;Mat-håndtering…</td><td>&quot;Mat-handtering…</td><td>0</td><td>&quot;Merking og spo…</td><td>&quot;Merking og spo…</td><td>1</td></tr><tr><td>&quot;Z1403271433336…</td><td>913525205</td><td>&quot;Tante Pose&quot;</td><td>&quot;Joakim Bredvol…</td><td>null</td><td>&quot;7170&quot;</td><td>&quot;ÅFJORD&quot;</td><td>&quot;Z1602191528258…</td><td>&quot;2016/36489&quot;</td><td>0</td><td>19022016</td><td>1</td><td>0</td><td>&quot;Rutiner og led…</td><td>&quot;Rutiner og lei…</td><td>0</td><td>&quot;Lokaler og uts…</td><td>&quot;Lokaler og uts…</td><td>0</td><td>&quot;Mat-håndtering…</td><td>&quot;Mat-handtering…</td><td>0</td><td>&quot;Merking og spo…</td><td>&quot;Merking og spo…</td><td>1</td></tr><tr><td>&hellip;</td><td>&hellip;</td><td>&hellip;</td><td>&hellip;</td><td>&hellip;</td><td>&hellip;</td><td>&hellip;</td><td>&hellip;</td><td>&hellip;</td><td>&hellip;</td><td>&hellip;</td><td>&hellip;</td><td>&hellip;</td><td>&hellip;</td><td>&hellip;</td><td>&hellip;</td><td>&hellip;</td><td>&hellip;</td><td>&hellip;</td><td>&hellip;</td><td>&hellip;</td><td>&hellip;</td><td>&hellip;</td><td>&hellip;</td><td>&hellip;</td></tr><tr><td>&quot;Z2401181802522…</td><td>832145432</td><td>&quot;Fratm.&quot;</td><td>&quot;Youngstorget 3…</td><td>null</td><td>&quot;0181&quot;</td><td>&quot;OSLO&quot;</td><td>&quot;Z2401181841460…</td><td>&quot;2024/13331&quot;</td><td>0</td><td>18012024</td><td>1</td><td>0</td><td>&quot;Rutiner og led…</td><td>&quot;Rutiner og lei…</td><td>null</td><td>&quot;Lokaler og uts…</td><td>&quot;Lokaler og uts…</td><td>1</td><td>&quot;Mat-håndtering…</td><td>&quot;Mat-handtering…</td><td>0</td><td>&quot;Merking og spo…</td><td>&quot;Merking og spo…</td><td>1</td></tr><tr><td>&quot;Z2108061750394…</td><td>925023337</td><td>&quot;Isan Kitchen &quot;</td><td>&quot;Thorvald Meyer…</td><td>null</td><td>&quot;0552&quot;</td><td>&quot;OSLO&quot;</td><td>&quot;Z2310131727502…</td><td>&quot;2023/219423&quot;</td><td>0</td><td>13102023</td><td>2</td><td>0</td><td>&quot;Rutiner og led…</td><td>&quot;Rutiner og lei…</td><td>2</td><td>&quot;Lokaler og uts…</td><td>&quot;Lokaler og uts…</td><td>2</td><td>&quot;Mat-håndtering…</td><td>&quot;Mat-handtering…</td><td>2</td><td>&quot;Merking og spo…</td><td>&quot;Merking og spo…</td><td>0</td></tr><tr><td>&quot;Z2201211304574…</td><td>997372654</td><td>&quot;Nordby Bakeri …</td><td>&quot;Vogellund 6&quot;</td><td>null</td><td>&quot;1394&quot;</td><td>&quot;NESBRU&quot;</td><td>&quot;Z2401171217303…</td><td>&quot;2024/11311&quot;</td><td>0</td><td>17012024</td><td>2</td><td>0</td><td>&quot;Rutiner og led…</td><td>&quot;Rutiner og lei…</td><td>0</td><td>&quot;Lokaler og uts…</td><td>&quot;Lokaler og uts…</td><td>2</td><td>&quot;Mat-håndtering…</td><td>&quot;Mat-handtering…</td><td>1</td><td>&quot;Merking og spo…</td><td>&quot;Merking og spo…</td><td>0</td></tr><tr><td>&quot;Z1411211039297…</td><td>914430925</td><td>&quot;Cafe Jeanette&quot;</td><td>&quot;BRUGATA 16&quot;</td><td>null</td><td>&quot;2380&quot;</td><td>&quot;BRUMUNDDAL&quot;</td><td>&quot;Z2310191326447…</td><td>&quot;2023/223934&quot;</td><td>0</td><td>19102023</td><td>1</td><td>0</td><td>&quot;Rutiner og led…</td><td>&quot;Rutiner og lei…</td><td>0</td><td>&quot;Lokaler og uts…</td><td>&quot;Lokaler og uts…</td><td>1</td><td>&quot;Mat-håndtering…</td><td>&quot;Mat-handtering…</td><td>0</td><td>&quot;Merking og spo…</td><td>&quot;Merking og spo…</td><td>0</td></tr><tr><td>&quot;Z1012021401188…</td><td>972225479</td><td>&quot;Long Cheng Res…</td><td>&quot;KONGENS GATE 2…</td><td>null</td><td>&quot;6002&quot;</td><td>&quot;ÅLESUND&quot;</td><td>&quot;Z2311031838291…</td><td>&quot;2023/237061&quot;</td><td>0</td><td>3112023</td><td>0</td><td>0</td><td>&quot;Rutiner og led…</td><td>&quot;Rutiner og lei…</td><td>0</td><td>&quot;Lokaler og uts…</td><td>&quot;Lokaler og uts…</td><td>0</td><td>&quot;Mat-håndtering…</td><td>&quot;Mat-handtering…</td><td>0</td><td>&quot;Merking og spo…</td><td>&quot;Merking og spo…</td><td>0</td></tr><tr><td>&quot;Z1905012044289…</td><td>917586039</td><td>&quot;Joe &amp; The Juic…</td><td>&quot;Dronning Eufem…</td><td>null</td><td>&quot;0194&quot;</td><td>&quot;OSLO&quot;</td><td>&quot;Z2311241227190…</td><td>&quot;2023/252934&quot;</td><td>0</td><td>24112023</td><td>1</td><td>0</td><td>&quot;Rutiner og led…</td><td>&quot;Rutiner og lei…</td><td>0</td><td>&quot;Lokaler og uts…</td><td>&quot;Lokaler og uts…</td><td>1</td><td>&quot;Mat-håndtering…</td><td>&quot;Mat-handtering…</td><td>0</td><td>&quot;Merking og spo…</td><td>&quot;Merking og spo…</td><td>0</td></tr><tr><td>&quot;Z1504231422208…</td><td>883138112</td><td>&quot;SAN MARINO PIZ…</td><td>&quot;STRANDGATA 17A…</td><td>null</td><td>&quot;2815&quot;</td><td>&quot;GJØVIK&quot;</td><td>&quot;Z2401101415351…</td><td>&quot;2024/6482&quot;</td><td>0</td><td>10012024</td><td>1</td><td>0</td><td>&quot;Rutiner og led…</td><td>&quot;Rutiner og lei…</td><td>0</td><td>&quot;Lokaler og uts…</td><td>&quot;Lokaler og uts…</td><td>1</td><td>&quot;Mat-håndtering…</td><td>&quot;Mat-handtering…</td><td>0</td><td>&quot;Merking og spo…</td><td>&quot;Merking og spo…</td><td>0</td></tr><tr><td>&quot;Z2309271241301…</td><td>932158868</td><td>&quot;Tinholt bakeri…</td><td>&quot;LIEGATA 9&quot;</td><td>null</td><td>&quot;3717&quot;</td><td>&quot;Skien&quot;</td><td>&quot;Z2310241237046…</td><td>&quot;2023/224916&quot;</td><td>0</td><td>24102023</td><td>1</td><td>0</td><td>&quot;Rutiner og led…</td><td>&quot;Rutiner og lei…</td><td>0</td><td>&quot;Lokaler og uts…</td><td>&quot;Lokaler og uts…</td><td>1</td><td>&quot;Mat-håndtering…</td><td>&quot;Mat-handtering…</td><td>0</td><td>&quot;Merking og spo…</td><td>&quot;Merking og spo…</td><td>0</td></tr><tr><td>&quot;Z1204270921043…</td><td>998775779</td><td>&quot;Verona Pizza o…</td><td>&quot;Brugata 10&quot;</td><td>null</td><td>&quot;0186&quot;</td><td>&quot;OSLO&quot;</td><td>&quot;Z2310251858238…</td><td>&quot;2023/228934&quot;</td><td>0</td><td>25102023</td><td>1</td><td>0</td><td>&quot;Rutiner og led…</td><td>&quot;Rutiner og lei…</td><td>0</td><td>&quot;Lokaler og uts…</td><td>&quot;Lokaler og uts…</td><td>1</td><td>&quot;Mat-håndtering…</td><td>&quot;Mat-handtering…</td><td>1</td><td>&quot;Merking og spo…</td><td>&quot;Merking og spo…</td><td>0</td></tr><tr><td>&quot;Z2111151423051…</td><td>818056982</td><td>&quot;Delicia Jernba…</td><td>&quot;Jernbanetorget…</td><td>null</td><td>&quot;0154&quot;</td><td>&quot;OSLO&quot;</td><td>&quot;Z2312041357301…</td><td>&quot;2023/259192&quot;</td><td>0</td><td>4122023</td><td>2</td><td>0</td><td>&quot;Rutiner og led…</td><td>&quot;Rutiner og lei…</td><td>2</td><td>&quot;Lokaler og uts…</td><td>&quot;Lokaler og uts…</td><td>2</td><td>&quot;Mat-håndtering…</td><td>&quot;Mat-handtering…</td><td>2</td><td>&quot;Merking og spo…</td><td>&quot;Merking og spo…</td><td>2</td></tr><tr><td>&quot;Z2011031709491…</td><td>924772417</td><td>&quot;Sabi Sushi Ege…</td><td>&quot;Sandakergaten …</td><td>null</td><td>&quot;4370&quot;</td><td>&quot;EGERSUND&quot;</td><td>&quot;Z2311280728222…</td><td>&quot;2023/245218&quot;</td><td>0</td><td>28112023</td><td>0</td><td>1</td><td>&quot;Rutiner og led…</td><td>&quot;Rutiner og lei…</td><td>0</td><td>&quot;Lokaler og uts…</td><td>&quot;Lokaler og uts…</td><td>0</td><td>&quot;Mat-håndtering…</td><td>&quot;Mat-handtering…</td><td>0</td><td>&quot;Merking og spo…</td><td>&quot;Merking og spo…</td><td>0</td></tr><tr><td>&quot;Z1006072022472…</td><td>979163967</td><td>&quot;Milano Rena&quot;</td><td>&quot;Tollef Kildes …</td><td>null</td><td>&quot;2450&quot;</td><td>&quot;RENA&quot;</td><td>&quot;Z2311281607387…</td><td>&quot;2023/255290&quot;</td><td>0</td><td>28112023</td><td>0</td><td>0</td><td>&quot;Rutiner og led…</td><td>&quot;Rutiner og lei…</td><td>0</td><td>&quot;Lokaler og uts…</td><td>&quot;Lokaler og uts…</td><td>0</td><td>&quot;Mat-håndtering…</td><td>&quot;Mat-handtering…</td><td>0</td><td>&quot;Merking og spo…</td><td>&quot;Merking og spo…</td><td>0</td></tr></tbody></table></div>"
      ],
      "text/plain": [
       "shape: (44_536, 25)\n",
       "┌───────────────────────────────────┬───────────┬───────────────────────────────────┬───────────────────────┬───┬───────────┬───────────────────────┬────────────────────────┬───────────┐\n",
       "│ tilsynsobjektid                   ┆ orgnummer ┆ navn                              ┆ adrlinje1             ┆ … ┆ karakter3 ┆ tema4_no              ┆ tema4_nn               ┆ karakter4 │\n",
       "│ ---                               ┆ ---       ┆ ---                               ┆ ---                   ┆   ┆ ---       ┆ ---                   ┆ ---                    ┆ ---       │\n",
       "│ str                               ┆ i64       ┆ str                               ┆ str                   ┆   ┆ i64       ┆ str                   ┆ str                    ┆ i64       │\n",
       "╞═══════════════════════════════════╪═══════════╪═══════════════════════════════════╪═══════════════════════╪═══╪═══════════╪═══════════════════════╪════════════════════════╪═══════════╡\n",
       "│ Z1501071230082032024GTOXC_Tilsyn… ┆ 914541034 ┆ Bakeriet i Brumunddal avdeling C… ┆ VANGSVEGEN 62         ┆ … ┆ 1         ┆ Merking og sporbarhet ┆ Merking og sporbarheit ┆ 0         │\n",
       "│ Z1006120609250331126HFNXO_Tilsyn… ┆ 987770740 ┆ Aktiven skiheis - Varmestova og … ┆ Kvamskogen            ┆ … ┆ 0         ┆ Merking og sporbarhet ┆ Merking og sporbarheit ┆ 1         │\n",
       "│ Z1107281100559960160KWPRX_Tilsyn… ┆ 998066662 ┆ Golfkafeen                        ┆ Belsjøveien 50        ┆ … ┆ 0         ┆ Merking og sporbarhet ┆ Merking og sporbarheit ┆ 1         │\n",
       "│ Z1205111414434020144PXTCM_Tilsyn… ┆ 972297925 ┆ Fargeriet Café                    ┆ Ivar Aasgaardsveg 1   ┆ … ┆ 0         ┆ Merking og sporbarhet ┆ Merking og sporbarheit ┆ 0         │\n",
       "│ Z1305061320139293177THOPJ_Tilsyn… ┆ 911860805 ┆ Marianne Bakeri og Kafe           ┆ ODDEN 2               ┆ … ┆ 1         ┆ Merking og sporbarhet ┆ Merking og sporbarheit ┆ 2         │\n",
       "│ …                                 ┆ …         ┆ …                                 ┆ …                     ┆ … ┆ …         ┆ …                     ┆ …                      ┆ …         │\n",
       "│ Z2309271241301782024NHDHO_Tilsyn… ┆ 932158868 ┆ Tinholt bakeri - Lietorvet        ┆ LIEGATA 9             ┆ … ┆ 0         ┆ Merking og sporbarhet ┆ Merking og sporbarheit ┆ 0         │\n",
       "│ Z1204270921043750193OYUMT_Tilsyn… ┆ 998775779 ┆ Verona Pizza og kebab             ┆ Brugata 10            ┆ … ┆ 1         ┆ Merking og sporbarhet ┆ Merking og sporbarheit ┆ 0         │\n",
       "│ Z2111151423051540127XABKH_Tilsyn… ┆ 818056982 ┆ Delicia Jernbantorget             ┆ Jernbanetorget 6      ┆ … ┆ 2         ┆ Merking og sporbarhet ┆ Merking og sporbarheit ┆ 2         │\n",
       "│ Z2011031709491430128SFCDS_Tilsyn… ┆ 924772417 ┆ Sabi Sushi Egersund               ┆ Sandakergaten 9       ┆ … ┆ 0         ┆ Merking og sporbarhet ┆ Merking og sporbarheit ┆ 0         │\n",
       "│ Z1006072022472081190LRBZE_Tilsyn… ┆ 979163967 ┆ Milano Rena                       ┆ Tollef Kildes gate 31 ┆ … ┆ 0         ┆ Merking og sporbarhet ┆ Merking og sporbarheit ┆ 0         │\n",
       "└───────────────────────────────────┴───────────┴───────────────────────────────────┴───────────────────────┴───┴───────────┴───────────────────────┴────────────────────────┴───────────┘"
      ]
     },
     "execution_count": 20,
     "metadata": {},
     "output_type": "execute_result"
    }
   ],
   "source": [
    "df_t = pl.read_csv(\"tilsyn.csv\", separator=\";\", dtypes={\"postnr\":str})\n",
    "df_t"
   ]
  },
  {
   "cell_type": "code",
   "execution_count": 21,
   "id": "1d1a9ac0a4e16e09",
   "metadata": {
    "collapsed": false,
    "jupyter": {
     "outputs_hidden": false
    }
   },
   "outputs": [],
   "source": [
    "# Vi kan skrive til CSV\n",
    "df_t.write_csv(\"tilsyn2.csv\")"
   ]
  },
  {
   "cell_type": "code",
   "execution_count": 22,
   "id": "a3decef2310e3125",
   "metadata": {
    "collapsed": false,
    "jupyter": {
     "outputs_hidden": false
    }
   },
   "outputs": [],
   "source": [
    "# Vi kan skrive til Parquet\n",
    "df_t.write_parquet(\"tilsyn.parquet\")"
   ]
  },
  {
   "cell_type": "code",
   "execution_count": 23,
   "id": "fcc20f2abf3d6d8",
   "metadata": {
    "collapsed": false,
    "jupyter": {
     "outputs_hidden": false
    }
   },
   "outputs": [
    {
     "data": {
      "text/html": [
       "<div><style>\n",
       ".dataframe > thead > tr,\n",
       ".dataframe > tbody > tr {\n",
       "  text-align: right;\n",
       "  white-space: pre-wrap;\n",
       "}\n",
       "</style>\n",
       "<small>shape: (44_536,)</small><table border=\"1\" class=\"dataframe\"><thead><tr><th>navn</th></tr><tr><td>str</td></tr></thead><tbody><tr><td>&quot;Bakeriet i Bru…</td></tr><tr><td>&quot;Aktiven skihei…</td></tr><tr><td>&quot;Golfkafeen&quot;</td></tr><tr><td>&quot;Fargeriet Café…</td></tr><tr><td>&quot;Marianne Baker…</td></tr><tr><td>&quot;Solbrød Nesttu…</td></tr><tr><td>&quot;Suvi&quot;</td></tr><tr><td>&quot;Cafe Jeanette&quot;</td></tr><tr><td>&quot;Jafs Sem&quot;</td></tr><tr><td>&quot;Brumunddal Sus…</td></tr><tr><td>&quot;Fire Årstider&quot;</td></tr><tr><td>&quot;Tante Pose&quot;</td></tr><tr><td>&hellip;</td></tr><tr><td>&quot;Fratm.&quot;</td></tr><tr><td>&quot;Isan Kitchen &quot;</td></tr><tr><td>&quot;Nordby Bakeri …</td></tr><tr><td>&quot;Cafe Jeanette&quot;</td></tr><tr><td>&quot;Long Cheng Res…</td></tr><tr><td>&quot;Joe &amp; The Juic…</td></tr><tr><td>&quot;SAN MARINO PIZ…</td></tr><tr><td>&quot;Tinholt bakeri…</td></tr><tr><td>&quot;Verona Pizza o…</td></tr><tr><td>&quot;Delicia Jernba…</td></tr><tr><td>&quot;Sabi Sushi Ege…</td></tr><tr><td>&quot;Milano Rena&quot;</td></tr></tbody></table></div>"
      ],
      "text/plain": [
       "shape: (44_536,)\n",
       "Series: 'navn' [str]\n",
       "[\n",
       "\t\"Bakeriet i Bru…\n",
       "\t\"Aktiven skihei…\n",
       "\t\"Golfkafeen\"\n",
       "\t\"Fargeriet Café…\n",
       "\t\"Marianne Baker…\n",
       "\t\"Solbrød Nesttu…\n",
       "\t\"Suvi\"\n",
       "\t\"Cafe Jeanette\"\n",
       "\t\"Jafs Sem\"\n",
       "\t\"Brumunddal Sus…\n",
       "\t\"Fire Årstider\"\n",
       "\t\"Tante Pose\"\n",
       "\t…\n",
       "\t\"Lett Bekkestua…\n",
       "\t\"Fratm.\"\n",
       "\t\"Isan Kitchen \"\n",
       "\t\"Nordby Bakeri …\n",
       "\t\"Cafe Jeanette\"\n",
       "\t\"Long Cheng Res…\n",
       "\t\"Joe & The Juic…\n",
       "\t\"SAN MARINO PIZ…\n",
       "\t\"Tinholt bakeri…\n",
       "\t\"Verona Pizza o…\n",
       "\t\"Delicia Jernba…\n",
       "\t\"Sabi Sushi Ege…\n",
       "\t\"Milano Rena\"\n",
       "]"
      ]
     },
     "execution_count": 23,
     "metadata": {},
     "output_type": "execute_result"
    }
   ],
   "source": [
    "#Vi kan velge en serie:\n",
    "df_t[\"navn\"]"
   ]
  },
  {
   "cell_type": "code",
   "execution_count": 24,
   "id": "8f9e59acc11e84af",
   "metadata": {
    "collapsed": false,
    "jupyter": {
     "outputs_hidden": false
    }
   },
   "outputs": [
    {
     "data": {
      "text/html": [
       "<div><style>\n",
       ".dataframe > thead > tr,\n",
       ".dataframe > tbody > tr {\n",
       "  text-align: right;\n",
       "  white-space: pre-wrap;\n",
       "}\n",
       "</style>\n",
       "<small>shape: (44_536, 2)</small><table border=\"1\" class=\"dataframe\"><thead><tr><th>navn</th><th>postnr</th></tr><tr><td>str</td><td>str</td></tr></thead><tbody><tr><td>&quot;Bakeriet i Bru…</td><td>&quot;2317&quot;</td></tr><tr><td>&quot;Aktiven skihei…</td><td>&quot;5600&quot;</td></tr><tr><td>&quot;Golfkafeen&quot;</td><td>&quot;1445&quot;</td></tr><tr><td>&quot;Fargeriet Café…</td><td>&quot;5265&quot;</td></tr><tr><td>&quot;Marianne Baker…</td><td>&quot;5745&quot;</td></tr><tr><td>&quot;Solbrød Nesttu…</td><td>&quot;5221&quot;</td></tr><tr><td>&quot;Suvi&quot;</td><td>&quot;9008&quot;</td></tr><tr><td>&quot;Cafe Jeanette&quot;</td><td>&quot;2380&quot;</td></tr><tr><td>&quot;Jafs Sem&quot;</td><td>&quot;3170&quot;</td></tr><tr><td>&quot;Brumunddal Sus…</td><td>&quot;2380&quot;</td></tr><tr><td>&quot;Fire Årstider&quot;</td><td>&quot;1341&quot;</td></tr><tr><td>&quot;Tante Pose&quot;</td><td>&quot;7170&quot;</td></tr><tr><td>&hellip;</td><td>&hellip;</td></tr><tr><td>&quot;Fratm.&quot;</td><td>&quot;0181&quot;</td></tr><tr><td>&quot;Isan Kitchen &quot;</td><td>&quot;0552&quot;</td></tr><tr><td>&quot;Nordby Bakeri …</td><td>&quot;1394&quot;</td></tr><tr><td>&quot;Cafe Jeanette&quot;</td><td>&quot;2380&quot;</td></tr><tr><td>&quot;Long Cheng Res…</td><td>&quot;6002&quot;</td></tr><tr><td>&quot;Joe &amp; The Juic…</td><td>&quot;0194&quot;</td></tr><tr><td>&quot;SAN MARINO PIZ…</td><td>&quot;2815&quot;</td></tr><tr><td>&quot;Tinholt bakeri…</td><td>&quot;3717&quot;</td></tr><tr><td>&quot;Verona Pizza o…</td><td>&quot;0186&quot;</td></tr><tr><td>&quot;Delicia Jernba…</td><td>&quot;0154&quot;</td></tr><tr><td>&quot;Sabi Sushi Ege…</td><td>&quot;4370&quot;</td></tr><tr><td>&quot;Milano Rena&quot;</td><td>&quot;2450&quot;</td></tr></tbody></table></div>"
      ],
      "text/plain": [
       "shape: (44_536, 2)\n",
       "┌───────────────────────────────────┬────────┐\n",
       "│ navn                              ┆ postnr │\n",
       "│ ---                               ┆ ---    │\n",
       "│ str                               ┆ str    │\n",
       "╞═══════════════════════════════════╪════════╡\n",
       "│ Bakeriet i Brumunddal avdeling C… ┆ 2317   │\n",
       "│ Aktiven skiheis - Varmestova og … ┆ 5600   │\n",
       "│ Golfkafeen                        ┆ 1445   │\n",
       "│ Fargeriet Café                    ┆ 5265   │\n",
       "│ Marianne Bakeri og Kafe           ┆ 5745   │\n",
       "│ …                                 ┆ …      │\n",
       "│ Tinholt bakeri - Lietorvet        ┆ 3717   │\n",
       "│ Verona Pizza og kebab             ┆ 0186   │\n",
       "│ Delicia Jernbantorget             ┆ 0154   │\n",
       "│ Sabi Sushi Egersund               ┆ 4370   │\n",
       "│ Milano Rena                       ┆ 2450   │\n",
       "└───────────────────────────────────┴────────┘"
      ]
     },
     "execution_count": 24,
     "metadata": {},
     "output_type": "execute_result"
    }
   ],
   "source": [
    "# Vi kan velge én eller flere kolonner - dette blir en ny DataFrame\n",
    "df_t[[\"navn\", \"postnr\"]]"
   ]
  },
  {
   "cell_type": "code",
   "execution_count": 25,
   "id": "cd1a5cfc3f1db336",
   "metadata": {
    "collapsed": false,
    "jupyter": {
     "outputs_hidden": false
    }
   },
   "outputs": [
    {
     "data": {
      "text/html": [
       "<div><style>\n",
       ".dataframe > thead > tr,\n",
       ".dataframe > tbody > tr {\n",
       "  text-align: right;\n",
       "  white-space: pre-wrap;\n",
       "}\n",
       "</style>\n",
       "<small>shape: (44_536, 2)</small><table border=\"1\" class=\"dataframe\"><thead><tr><th>navn</th><th>postnr</th></tr><tr><td>str</td><td>str</td></tr></thead><tbody><tr><td>&quot;Bakeriet i Bru…</td><td>&quot;2317&quot;</td></tr><tr><td>&quot;Aktiven skihei…</td><td>&quot;5600&quot;</td></tr><tr><td>&quot;Golfkafeen&quot;</td><td>&quot;1445&quot;</td></tr><tr><td>&quot;Fargeriet Café…</td><td>&quot;5265&quot;</td></tr><tr><td>&quot;Marianne Baker…</td><td>&quot;5745&quot;</td></tr><tr><td>&quot;Solbrød Nesttu…</td><td>&quot;5221&quot;</td></tr><tr><td>&quot;Suvi&quot;</td><td>&quot;9008&quot;</td></tr><tr><td>&quot;Cafe Jeanette&quot;</td><td>&quot;2380&quot;</td></tr><tr><td>&quot;Jafs Sem&quot;</td><td>&quot;3170&quot;</td></tr><tr><td>&quot;Brumunddal Sus…</td><td>&quot;2380&quot;</td></tr><tr><td>&quot;Fire Årstider&quot;</td><td>&quot;1341&quot;</td></tr><tr><td>&quot;Tante Pose&quot;</td><td>&quot;7170&quot;</td></tr><tr><td>&hellip;</td><td>&hellip;</td></tr><tr><td>&quot;Fratm.&quot;</td><td>&quot;0181&quot;</td></tr><tr><td>&quot;Isan Kitchen &quot;</td><td>&quot;0552&quot;</td></tr><tr><td>&quot;Nordby Bakeri …</td><td>&quot;1394&quot;</td></tr><tr><td>&quot;Cafe Jeanette&quot;</td><td>&quot;2380&quot;</td></tr><tr><td>&quot;Long Cheng Res…</td><td>&quot;6002&quot;</td></tr><tr><td>&quot;Joe &amp; The Juic…</td><td>&quot;0194&quot;</td></tr><tr><td>&quot;SAN MARINO PIZ…</td><td>&quot;2815&quot;</td></tr><tr><td>&quot;Tinholt bakeri…</td><td>&quot;3717&quot;</td></tr><tr><td>&quot;Verona Pizza o…</td><td>&quot;0186&quot;</td></tr><tr><td>&quot;Delicia Jernba…</td><td>&quot;0154&quot;</td></tr><tr><td>&quot;Sabi Sushi Ege…</td><td>&quot;4370&quot;</td></tr><tr><td>&quot;Milano Rena&quot;</td><td>&quot;2450&quot;</td></tr></tbody></table></div>"
      ],
      "text/plain": [
       "shape: (44_536, 2)\n",
       "┌───────────────────────────────────┬────────┐\n",
       "│ navn                              ┆ postnr │\n",
       "│ ---                               ┆ ---    │\n",
       "│ str                               ┆ str    │\n",
       "╞═══════════════════════════════════╪════════╡\n",
       "│ Bakeriet i Brumunddal avdeling C… ┆ 2317   │\n",
       "│ Aktiven skiheis - Varmestova og … ┆ 5600   │\n",
       "│ Golfkafeen                        ┆ 1445   │\n",
       "│ Fargeriet Café                    ┆ 5265   │\n",
       "│ Marianne Bakeri og Kafe           ┆ 5745   │\n",
       "│ …                                 ┆ …      │\n",
       "│ Tinholt bakeri - Lietorvet        ┆ 3717   │\n",
       "│ Verona Pizza og kebab             ┆ 0186   │\n",
       "│ Delicia Jernbantorget             ┆ 0154   │\n",
       "│ Sabi Sushi Egersund               ┆ 4370   │\n",
       "│ Milano Rena                       ┆ 2450   │\n",
       "└───────────────────────────────────┴────────┘"
      ]
     },
     "execution_count": 25,
     "metadata": {},
     "output_type": "execute_result"
    }
   ],
   "source": [
    "# Men helst så burde vi bruke denne syntaksen til å velge flere kolonner:\n",
    "df_t.select(\"navn\", \"postnr\")"
   ]
  },
  {
   "cell_type": "code",
   "execution_count": 26,
   "id": "acee21694f306fa8",
   "metadata": {
    "collapsed": false,
    "jupyter": {
     "outputs_hidden": false
    }
   },
   "outputs": [
    {
     "data": {
      "text/html": [
       "<div><style>\n",
       ".dataframe > thead > tr,\n",
       ".dataframe > tbody > tr {\n",
       "  text-align: right;\n",
       "  white-space: pre-wrap;\n",
       "}\n",
       "</style>\n",
       "<small>shape: (44_536, 2)</small><table border=\"1\" class=\"dataframe\"><thead><tr><th>literal</th><th>postnr</th></tr><tr><td>str</td><td>str</td></tr></thead><tbody><tr><td>&quot;A&quot;</td><td>&quot;2317&quot;</td></tr><tr><td>&quot;A&quot;</td><td>&quot;5600&quot;</td></tr><tr><td>&quot;A&quot;</td><td>&quot;1445&quot;</td></tr><tr><td>&quot;A&quot;</td><td>&quot;5265&quot;</td></tr><tr><td>&quot;A&quot;</td><td>&quot;5745&quot;</td></tr><tr><td>&quot;A&quot;</td><td>&quot;5221&quot;</td></tr><tr><td>&quot;A&quot;</td><td>&quot;9008&quot;</td></tr><tr><td>&quot;A&quot;</td><td>&quot;2380&quot;</td></tr><tr><td>&quot;A&quot;</td><td>&quot;3170&quot;</td></tr><tr><td>&quot;A&quot;</td><td>&quot;2380&quot;</td></tr><tr><td>&quot;A&quot;</td><td>&quot;1341&quot;</td></tr><tr><td>&quot;A&quot;</td><td>&quot;7170&quot;</td></tr><tr><td>&hellip;</td><td>&hellip;</td></tr><tr><td>&quot;A&quot;</td><td>&quot;0181&quot;</td></tr><tr><td>&quot;A&quot;</td><td>&quot;0552&quot;</td></tr><tr><td>&quot;A&quot;</td><td>&quot;1394&quot;</td></tr><tr><td>&quot;A&quot;</td><td>&quot;2380&quot;</td></tr><tr><td>&quot;A&quot;</td><td>&quot;6002&quot;</td></tr><tr><td>&quot;A&quot;</td><td>&quot;0194&quot;</td></tr><tr><td>&quot;A&quot;</td><td>&quot;2815&quot;</td></tr><tr><td>&quot;A&quot;</td><td>&quot;3717&quot;</td></tr><tr><td>&quot;A&quot;</td><td>&quot;0186&quot;</td></tr><tr><td>&quot;A&quot;</td><td>&quot;0154&quot;</td></tr><tr><td>&quot;A&quot;</td><td>&quot;4370&quot;</td></tr><tr><td>&quot;A&quot;</td><td>&quot;2450&quot;</td></tr></tbody></table></div>"
      ],
      "text/plain": [
       "shape: (44_536, 2)\n",
       "┌─────────┬────────┐\n",
       "│ literal ┆ postnr │\n",
       "│ ---     ┆ ---    │\n",
       "│ str     ┆ str    │\n",
       "╞═════════╪════════╡\n",
       "│ A       ┆ 2317   │\n",
       "│ A       ┆ 5600   │\n",
       "│ A       ┆ 1445   │\n",
       "│ A       ┆ 5265   │\n",
       "│ A       ┆ 5745   │\n",
       "│ …       ┆ …      │\n",
       "│ A       ┆ 3717   │\n",
       "│ A       ┆ 0186   │\n",
       "│ A       ┆ 0154   │\n",
       "│ A       ┆ 4370   │\n",
       "│ A       ┆ 2450   │\n",
       "└─────────┴────────┘"
      ]
     },
     "execution_count": 26,
     "metadata": {},
     "output_type": "execute_result"
    }
   ],
   "source": [
    "# Vi kan også velge noe som er et uttrykk - legg merke til at \"A\" repeteres\n",
    "# pl.lit(\"A\") betyr en literal\n",
    "df_t.select(pl.lit(\"A\"), \"postnr\")"
   ]
  },
  {
   "cell_type": "code",
   "execution_count": 27,
   "id": "87c2110f6db37ad5",
   "metadata": {
    "collapsed": false,
    "jupyter": {
     "outputs_hidden": false
    }
   },
   "outputs": [
    {
     "data": {
      "text/html": [
       "<div><style>\n",
       ".dataframe > thead > tr,\n",
       ".dataframe > tbody > tr {\n",
       "  text-align: right;\n",
       "  white-space: pre-wrap;\n",
       "}\n",
       "</style>\n",
       "<small>shape: (44_536, 2)</small><table border=\"1\" class=\"dataframe\"><thead><tr><th>literal</th><th>postnr</th></tr><tr><td>str</td><td>str</td></tr></thead><tbody><tr><td>&quot;A&quot;</td><td>&quot;2317&quot;</td></tr><tr><td>&quot;A&quot;</td><td>&quot;5600&quot;</td></tr><tr><td>&quot;A&quot;</td><td>&quot;1445&quot;</td></tr><tr><td>&quot;A&quot;</td><td>&quot;5265&quot;</td></tr><tr><td>&quot;A&quot;</td><td>&quot;5745&quot;</td></tr><tr><td>&quot;A&quot;</td><td>&quot;5221&quot;</td></tr><tr><td>&quot;A&quot;</td><td>&quot;9008&quot;</td></tr><tr><td>&quot;A&quot;</td><td>&quot;2380&quot;</td></tr><tr><td>&quot;A&quot;</td><td>&quot;3170&quot;</td></tr><tr><td>&quot;A&quot;</td><td>&quot;2380&quot;</td></tr><tr><td>&quot;A&quot;</td><td>&quot;1341&quot;</td></tr><tr><td>&quot;A&quot;</td><td>&quot;7170&quot;</td></tr><tr><td>&hellip;</td><td>&hellip;</td></tr><tr><td>&quot;A&quot;</td><td>&quot;0181&quot;</td></tr><tr><td>&quot;A&quot;</td><td>&quot;0552&quot;</td></tr><tr><td>&quot;A&quot;</td><td>&quot;1394&quot;</td></tr><tr><td>&quot;A&quot;</td><td>&quot;2380&quot;</td></tr><tr><td>&quot;A&quot;</td><td>&quot;6002&quot;</td></tr><tr><td>&quot;A&quot;</td><td>&quot;0194&quot;</td></tr><tr><td>&quot;A&quot;</td><td>&quot;2815&quot;</td></tr><tr><td>&quot;A&quot;</td><td>&quot;3717&quot;</td></tr><tr><td>&quot;A&quot;</td><td>&quot;0186&quot;</td></tr><tr><td>&quot;A&quot;</td><td>&quot;0154&quot;</td></tr><tr><td>&quot;A&quot;</td><td>&quot;4370&quot;</td></tr><tr><td>&quot;A&quot;</td><td>&quot;2450&quot;</td></tr></tbody></table></div>"
      ],
      "text/plain": [
       "shape: (44_536, 2)\n",
       "┌─────────┬────────┐\n",
       "│ literal ┆ postnr │\n",
       "│ ---     ┆ ---    │\n",
       "│ str     ┆ str    │\n",
       "╞═════════╪════════╡\n",
       "│ A       ┆ 2317   │\n",
       "│ A       ┆ 5600   │\n",
       "│ A       ┆ 1445   │\n",
       "│ A       ┆ 5265   │\n",
       "│ A       ┆ 5745   │\n",
       "│ …       ┆ …      │\n",
       "│ A       ┆ 3717   │\n",
       "│ A       ┆ 0186   │\n",
       "│ A       ┆ 0154   │\n",
       "│ A       ┆ 4370   │\n",
       "│ A       ┆ 2450   │\n",
       "└─────────┴────────┘"
      ]
     },
     "execution_count": 27,
     "metadata": {},
     "output_type": "execute_result"
    }
   ],
   "source": [
    "# Strengt tatt så kan vi bruke pl.col(\"postnr\") for å si at vi vil ha kolonnen postnummer\n",
    "df_t.select(pl.lit(\"A\"), pl.col(\"postnr\"))"
   ]
  },
  {
   "cell_type": "code",
   "execution_count": 28,
   "id": "f891c1e3c8182c3c",
   "metadata": {
    "collapsed": false,
    "jupyter": {
     "outputs_hidden": false
    }
   },
   "outputs": [
    {
     "data": {
      "text/html": [
       "<div><style>\n",
       ".dataframe > thead > tr,\n",
       ".dataframe > tbody > tr {\n",
       "  text-align: right;\n",
       "  white-space: pre-wrap;\n",
       "}\n",
       "</style>\n",
       "<small>shape: (7, 25)</small><table border=\"1\" class=\"dataframe\"><thead><tr><th>tilsynsobjektid</th><th>orgnummer</th><th>navn</th><th>adrlinje1</th><th>adrlinje2</th><th>postnr</th><th>poststed</th><th>tilsynid</th><th>sakref</th><th>status</th><th>dato</th><th>total_karakter</th><th>tilsynsbesoektype</th><th>tema1_no</th><th>tema1_nn</th><th>karakter1</th><th>tema2_no</th><th>tema2_nn</th><th>karakter2</th><th>tema3_no</th><th>tema3_nn</th><th>karakter3</th><th>tema4_no</th><th>tema4_nn</th><th>karakter4</th></tr><tr><td>str</td><td>i64</td><td>str</td><td>str</td><td>str</td><td>str</td><td>str</td><td>str</td><td>str</td><td>i64</td><td>i64</td><td>i64</td><td>i64</td><td>str</td><td>str</td><td>i64</td><td>str</td><td>str</td><td>i64</td><td>str</td><td>str</td><td>i64</td><td>str</td><td>str</td><td>i64</td></tr></thead><tbody><tr><td>&quot;Z2107141229368…</td><td>973740008</td><td>&quot;Grand Hotel Ås…</td><td>&quot;HAVNEGATA 6&quot;</td><td>null</td><td>&quot;3179&quot;</td><td>&quot;ÅSGÅRDSTRAND&quot;</td><td>&quot;Z2109141317346…</td><td>&quot;2021/164977&quot;</td><td>0</td><td>14092021</td><td>0</td><td>1</td><td>&quot;Rutiner og led…</td><td>&quot;Rutiner og lei…</td><td>0</td><td>&quot;Lokaler og uts…</td><td>&quot;Lokaler og uts…</td><td>1</td><td>&quot;Mat-håndtering…</td><td>&quot;Mat-handtering…</td><td>0</td><td>&quot;Merking og spo…</td><td>&quot;Merking og spo…</td><td>1</td></tr><tr><td>&quot;Z2107141229368…</td><td>973740008</td><td>&quot;Grand Brygge&quot;</td><td>&quot;HAVNEGATA 6&quot;</td><td>null</td><td>&quot;3179&quot;</td><td>&quot;ÅSGÅRDSTRAND&quot;</td><td>&quot;Z2307051443488…</td><td>&quot;2023/144299&quot;</td><td>0</td><td>5072023</td><td>1</td><td>0</td><td>&quot;Rutiner og led…</td><td>&quot;Rutiner og lei…</td><td>0</td><td>&quot;Lokaler og uts…</td><td>&quot;Lokaler og uts…</td><td>1</td><td>&quot;Mat-håndtering…</td><td>&quot;Mat-handtering…</td><td>1</td><td>&quot;Merking og spo…</td><td>&quot;Merking og spo…</td><td>0</td></tr><tr><td>&quot;Z2107141229368…</td><td>973740008</td><td>&quot;Grand Hotel Ås…</td><td>&quot;HAVNEGATA 6&quot;</td><td>null</td><td>&quot;3179&quot;</td><td>&quot;ÅSGÅRDSTRAND&quot;</td><td>&quot;Z2108171336262…</td><td>&quot;2021/164977&quot;</td><td>0</td><td>17082021</td><td>2</td><td>0</td><td>&quot;Rutiner og led…</td><td>&quot;Rutiner og lei…</td><td>2</td><td>&quot;Lokaler og uts…</td><td>&quot;Lokaler og uts…</td><td>2</td><td>&quot;Mat-håndtering…</td><td>&quot;Mat-handtering…</td><td>2</td><td>&quot;Merking og spo…</td><td>&quot;Merking og spo…</td><td>1</td></tr><tr><td>&quot;Z2003241304289…</td><td>924821124</td><td>&quot;Rådhuset Tratt…</td><td>&quot;N C Nielsens g…</td><td>null</td><td>&quot;3179&quot;</td><td>&quot;ÅSGÅRDSTRAND&quot;</td><td>&quot;Z2307051308257…</td><td>&quot;2023/144300&quot;</td><td>0</td><td>5072023</td><td>0</td><td>0</td><td>&quot;Rutiner og led…</td><td>&quot;Rutiner og lei…</td><td>0</td><td>&quot;Lokaler og uts…</td><td>&quot;Lokaler og uts…</td><td>0</td><td>&quot;Mat-håndtering…</td><td>&quot;Mat-handtering…</td><td>0</td><td>&quot;Merking og spo…</td><td>&quot;Merking og spo…</td><td>0</td></tr><tr><td>&quot;Z2107141229368…</td><td>973740008</td><td>&quot;Grand Hotel Ås…</td><td>&quot;HAVNEGATA 6&quot;</td><td>null</td><td>&quot;3179&quot;</td><td>&quot;ÅSGÅRDSTRAND&quot;</td><td>&quot;Z2311211243301…</td><td>&quot;2023/249997&quot;</td><td>0</td><td>21112023</td><td>1</td><td>0</td><td>&quot;Rutiner og led…</td><td>&quot;Rutiner og lei…</td><td>0</td><td>&quot;Lokaler og uts…</td><td>&quot;Lokaler og uts…</td><td>1</td><td>&quot;Mat-håndtering…</td><td>&quot;Mat-handtering…</td><td>0</td><td>&quot;Merking og spo…</td><td>&quot;Merking og spo…</td><td>1</td></tr><tr><td>&quot;Z2107141229368…</td><td>973740008</td><td>&quot;Grand Hotel Ås…</td><td>&quot;HAVNEGATA 6&quot;</td><td>null</td><td>&quot;3179&quot;</td><td>&quot;ÅSGÅRDSTRAND&quot;</td><td>&quot;Z2206301352319…</td><td>&quot;2022/136430&quot;</td><td>0</td><td>30062022</td><td>2</td><td>0</td><td>&quot;Rutiner og led…</td><td>&quot;Rutiner og lei…</td><td>2</td><td>&quot;Lokaler og uts…</td><td>&quot;Lokaler og uts…</td><td>2</td><td>&quot;Mat-håndtering…</td><td>&quot;Mat-handtering…</td><td>1</td><td>&quot;Merking og spo…</td><td>&quot;Merking og spo…</td><td>1</td></tr><tr><td>&quot;Z2107141229368…</td><td>973740008</td><td>&quot;Grand Hotel Ås…</td><td>&quot;HAVNEGATA 6&quot;</td><td>null</td><td>&quot;3179&quot;</td><td>&quot;ÅSGÅRDSTRAND&quot;</td><td>&quot;Z2207071441391…</td><td>&quot;2022/136430&quot;</td><td>0</td><td>7072022</td><td>0</td><td>1</td><td>&quot;Rutiner og led…</td><td>&quot;Rutiner og lei…</td><td>0</td><td>&quot;Lokaler og uts…</td><td>&quot;Lokaler og uts…</td><td>1</td><td>&quot;Mat-håndtering…</td><td>&quot;Mat-handtering…</td><td>1</td><td>&quot;Merking og spo…</td><td>&quot;Merking og spo…</td><td>1</td></tr></tbody></table></div>"
      ],
      "text/plain": [
       "shape: (7, 25)\n",
       "┌───────────────────────────────────┬───────────┬──────────────────────────┬──────────────────────┬───┬───────────┬───────────────────────┬────────────────────────┬───────────┐\n",
       "│ tilsynsobjektid                   ┆ orgnummer ┆ navn                     ┆ adrlinje1            ┆ … ┆ karakter3 ┆ tema4_no              ┆ tema4_nn               ┆ karakter4 │\n",
       "│ ---                               ┆ ---       ┆ ---                      ┆ ---                  ┆   ┆ ---       ┆ ---                   ┆ ---                    ┆ ---       │\n",
       "│ str                               ┆ i64       ┆ str                      ┆ str                  ┆   ┆ i64       ┆ str                   ┆ str                    ┆ i64       │\n",
       "╞═══════════════════════════════════╪═══════════╪══════════════════════════╪══════════════════════╪═══╪═══════════╪═══════════════════════╪════════════════════════╪═══════════╡\n",
       "│ Z2107141229368942025IRXIM_Tilsyn… ┆ 973740008 ┆ Grand Hotel Åsgårdstrand ┆ HAVNEGATA 6          ┆ … ┆ 0         ┆ Merking og sporbarhet ┆ Merking og sporbarheit ┆ 1         │\n",
       "│ Z2107141229368182025IWPGP_Tilsyn… ┆ 973740008 ┆ Grand Brygge             ┆ HAVNEGATA 6          ┆ … ┆ 1         ┆ Merking og sporbarhet ┆ Merking og sporbarheit ┆ 0         │\n",
       "│ Z2107141229368942025IRXIM_Tilsyn… ┆ 973740008 ┆ Grand Hotel Åsgårdstrand ┆ HAVNEGATA 6          ┆ … ┆ 2         ┆ Merking og sporbarhet ┆ Merking og sporbarheit ┆ 1         │\n",
       "│ Z2003241304289980127KWLYN_Tilsyn… ┆ 924821124 ┆ Rådhuset Trattoria As    ┆ N C Nielsens gate 3A ┆ … ┆ 0         ┆ Merking og sporbarhet ┆ Merking og sporbarheit ┆ 0         │\n",
       "│ Z2107141229368942025IRXIM_Tilsyn… ┆ 973740008 ┆ Grand Hotel Åsgårdstrand ┆ HAVNEGATA 6          ┆ … ┆ 0         ┆ Merking og sporbarhet ┆ Merking og sporbarheit ┆ 1         │\n",
       "│ Z2107141229368942025IRXIM_Tilsyn… ┆ 973740008 ┆ Grand Hotel Åsgårdstrand ┆ HAVNEGATA 6          ┆ … ┆ 1         ┆ Merking og sporbarhet ┆ Merking og sporbarheit ┆ 1         │\n",
       "│ Z2107141229368942025IRXIM_Tilsyn… ┆ 973740008 ┆ Grand Hotel Åsgårdstrand ┆ HAVNEGATA 6          ┆ … ┆ 1         ┆ Merking og sporbarhet ┆ Merking og sporbarheit ┆ 1         │\n",
       "└───────────────────────────────────┴───────────┴──────────────────────────┴──────────────────────┴───┴───────────┴───────────────────────┴────────────────────────┴───────────┘"
      ]
     },
     "execution_count": 28,
     "metadata": {},
     "output_type": "execute_result"
    }
   ],
   "source": [
    "# Vi kan filtrere på uttrykk:\n",
    "df_t.filter(pl.col(\"postnr\") == pl.lit(\"3179\"))"
   ]
  },
  {
   "cell_type": "code",
   "execution_count": 29,
   "id": "9bf8d99a5741d4d8",
   "metadata": {
    "collapsed": false,
    "jupyter": {
     "outputs_hidden": false
    }
   },
   "outputs": [
    {
     "data": {
      "text/html": [
       "<div><style>\n",
       ".dataframe > thead > tr,\n",
       ".dataframe > tbody > tr {\n",
       "  text-align: right;\n",
       "  white-space: pre-wrap;\n",
       "}\n",
       "</style>\n",
       "<small>shape: (44_536, 25)</small><table border=\"1\" class=\"dataframe\"><thead><tr><th>tilsynsobjektid</th><th>orgnummer</th><th>navn</th><th>adrlinje1</th><th>adrlinje2</th><th>postnr</th><th>poststed</th><th>tilsynid</th><th>sakref</th><th>status</th><th>dato</th><th>total_karakter</th><th>tilsynsbesoektype</th><th>tema1_no</th><th>tema1_nn</th><th>karakter1</th><th>tema2_no</th><th>tema2_nn</th><th>karakter2</th><th>tema3_no</th><th>tema3_nn</th><th>karakter3</th><th>tema4_no</th><th>tema4_nn</th><th>karakter4</th></tr><tr><td>str</td><td>i64</td><td>str</td><td>str</td><td>str</td><td>str</td><td>str</td><td>str</td><td>str</td><td>i64</td><td>i64</td><td>i64</td><td>i64</td><td>str</td><td>str</td><td>i64</td><td>str</td><td>str</td><td>i64</td><td>str</td><td>str</td><td>i64</td><td>str</td><td>str</td><td>i64</td></tr></thead><tbody><tr><td>&quot;Z1501071230082…</td><td>914541034</td><td>&quot;Bakeriet i Bru…</td><td>&quot;VANGSVEGEN 62&quot;</td><td>null</td><td>&quot;2317&quot;</td><td>&quot;HAMAR&quot;</td><td>&quot;Z1601211510285…</td><td>&quot;2016/6663&quot;</td><td>0</td><td>21012016</td><td>1</td><td>0</td><td>&quot;Rutiner og led…</td><td>&quot;Rutiner og lei…</td><td>1</td><td>&quot;Lokaler og uts…</td><td>&quot;Lokaler og uts…</td><td>1</td><td>&quot;Mat-håndtering…</td><td>&quot;Mat-handtering…</td><td>1</td><td>&quot;Merking og spo…</td><td>&quot;Merking og spo…</td><td>0</td></tr><tr><td>&quot;Z1006120609250…</td><td>987770740</td><td>&quot;Aktiven skihei…</td><td>&quot;Kvamskogen&quot;</td><td>null</td><td>&quot;5600&quot;</td><td>&quot;NORHEIMSUND&quot;</td><td>&quot;Z1603101430592…</td><td>&quot;2016/53185&quot;</td><td>0</td><td>10032016</td><td>1</td><td>0</td><td>&quot;Rutiner og led…</td><td>&quot;Rutiner og lei…</td><td>0</td><td>&quot;Lokaler og uts…</td><td>&quot;Lokaler og uts…</td><td>0</td><td>&quot;Mat-håndtering…</td><td>&quot;Mat-handtering…</td><td>0</td><td>&quot;Merking og spo…</td><td>&quot;Merking og spo…</td><td>1</td></tr><tr><td>&quot;Z1107281100559…</td><td>998066662</td><td>&quot;Golfkafeen&quot;</td><td>&quot;Belsjøveien 50…</td><td>null</td><td>&quot;1445&quot;</td><td>&quot;DRØBAK&quot;</td><td>&quot;Z1605111530190…</td><td>&quot;2016/106865&quot;</td><td>0</td><td>11052016</td><td>1</td><td>0</td><td>&quot;Rutiner og led…</td><td>&quot;Rutiner og lei…</td><td>0</td><td>&quot;Lokaler og uts…</td><td>&quot;Lokaler og uts…</td><td>1</td><td>&quot;Mat-håndtering…</td><td>&quot;Mat-handtering…</td><td>0</td><td>&quot;Merking og spo…</td><td>&quot;Merking og spo…</td><td>1</td></tr><tr><td>&quot;Z1205111414434…</td><td>972297925</td><td>&quot;Fargeriet Café…</td><td>&quot;Ivar Aasgaards…</td><td>&quot;Arna Næringspa…</td><td>&quot;5265&quot;</td><td>&quot;YTRE ARNA&quot;</td><td>&quot;Z1605201329276…</td><td>&quot;2016/113661&quot;</td><td>0</td><td>19052016</td><td>1</td><td>0</td><td>&quot;Rutiner og led…</td><td>&quot;Rutiner og lei…</td><td>1</td><td>&quot;Lokaler og uts…</td><td>&quot;Lokaler og uts…</td><td>0</td><td>&quot;Mat-håndtering…</td><td>&quot;Mat-handtering…</td><td>0</td><td>&quot;Merking og spo…</td><td>&quot;Merking og spo…</td><td>0</td></tr><tr><td>&quot;Z1305061320139…</td><td>911860805</td><td>&quot;Marianne Baker…</td><td>&quot;ODDEN 2&quot;</td><td>null</td><td>&quot;5745&quot;</td><td>&quot;AURLAND&quot;</td><td>&quot;Z1601281551398…</td><td>&quot;2016/20626&quot;</td><td>0</td><td>28012016</td><td>3</td><td>0</td><td>&quot;Rutiner og led…</td><td>&quot;Rutiner og lei…</td><td>2</td><td>&quot;Lokaler og uts…</td><td>&quot;Lokaler og uts…</td><td>3</td><td>&quot;Mat-håndtering…</td><td>&quot;Mat-handtering…</td><td>1</td><td>&quot;Merking og spo…</td><td>&quot;Merking og spo…</td><td>2</td></tr><tr><td>&quot;Z1301040959396…</td><td>975039129</td><td>&quot;Solbrød Nesttu…</td><td>&quot;Østre Nesttunv…</td><td>null</td><td>&quot;5221&quot;</td><td>&quot;NESTTUN&quot;</td><td>&quot;Z1602011352244…</td><td>&quot;2016/22950&quot;</td><td>0</td><td>29012016</td><td>1</td><td>0</td><td>&quot;Rutiner og led…</td><td>&quot;Rutiner og lei…</td><td>0</td><td>&quot;Lokaler og uts…</td><td>&quot;Lokaler og uts…</td><td>0</td><td>&quot;Mat-håndtering…</td><td>&quot;Mat-handtering…</td><td>0</td><td>&quot;Merking og spo…</td><td>&quot;Merking og spo…</td><td>1</td></tr><tr><td>&quot;Z1509021733238…</td><td>916327463</td><td>&quot;Suvi&quot;</td><td>&quot;Grønnegata 48&quot;</td><td>null</td><td>&quot;9008&quot;</td><td>&quot;TROMSØ&quot;</td><td>&quot;Z1602181546569…</td><td>&quot;2016/36480&quot;</td><td>0</td><td>17022016</td><td>2</td><td>0</td><td>&quot;Rutiner og led…</td><td>&quot;Rutiner og lei…</td><td>0</td><td>&quot;Lokaler og uts…</td><td>&quot;Lokaler og uts…</td><td>2</td><td>&quot;Mat-håndtering…</td><td>&quot;Mat-handtering…</td><td>0</td><td>&quot;Merking og spo…</td><td>&quot;Merking og spo…</td><td>0</td></tr><tr><td>&quot;Z1411211039297…</td><td>914430925</td><td>&quot;Cafe Jeanette&quot;</td><td>&quot;BRUGATA 16&quot;</td><td>null</td><td>&quot;2380&quot;</td><td>&quot;BRUMUNDDAL&quot;</td><td>&quot;Z1602091334400…</td><td>&quot;2016/29434&quot;</td><td>0</td><td>9022016</td><td>0</td><td>0</td><td>&quot;Rutiner og led…</td><td>&quot;Rutiner og lei…</td><td>0</td><td>&quot;Lokaler og uts…</td><td>&quot;Lokaler og uts…</td><td>0</td><td>&quot;Mat-håndtering…</td><td>&quot;Mat-handtering…</td><td>0</td><td>&quot;Merking og spo…</td><td>&quot;Merking og spo…</td><td>0</td></tr><tr><td>&quot;Z1006060857546…</td><td>979931069</td><td>&quot;Jafs Sem&quot;</td><td>&quot;Semsbyveien 94…</td><td>null</td><td>&quot;3170&quot;</td><td>&quot;SEM&quot;</td><td>&quot;Z1603301156458…</td><td>&quot;2016/68720&quot;</td><td>0</td><td>30032016</td><td>1</td><td>0</td><td>&quot;Rutiner og led…</td><td>&quot;Rutiner og lei…</td><td>0</td><td>&quot;Lokaler og uts…</td><td>&quot;Lokaler og uts…</td><td>1</td><td>&quot;Mat-håndtering…</td><td>&quot;Mat-handtering…</td><td>0</td><td>&quot;Merking og spo…</td><td>&quot;Merking og spo…</td><td>0</td></tr><tr><td>&quot;Z1410171453232…</td><td>995870258</td><td>&quot;Brumunddal Sus…</td><td>&quot;BRUGATA 1&quot;</td><td>null</td><td>&quot;2380&quot;</td><td>&quot;BRUMUNDDAL&quot;</td><td>&quot;Z1605060831207…</td><td>&quot;2016/102195&quot;</td><td>0</td><td>4052016</td><td>2</td><td>0</td><td>&quot;Rutiner og led…</td><td>&quot;Rutiner og lei…</td><td>2</td><td>&quot;Lokaler og uts…</td><td>&quot;Lokaler og uts…</td><td>2</td><td>&quot;Mat-håndtering…</td><td>&quot;Mat-handtering…</td><td>2</td><td>&quot;Merking og spo…</td><td>&quot;Merking og spo…</td><td>2</td></tr><tr><td>&quot;Z1603221429551…</td><td>988105376</td><td>&quot;Fire Årstider&quot;</td><td>&quot; SLEPENDVEIEN …</td><td>null</td><td>&quot;1341&quot;</td><td>&quot;SLEPENDEN&quot;</td><td>&quot;Z1605241003391…</td><td>&quot;2016/114566&quot;</td><td>0</td><td>23052016</td><td>1</td><td>0</td><td>&quot;Rutiner og led…</td><td>&quot;Rutiner og lei…</td><td>0</td><td>&quot;Lokaler og uts…</td><td>&quot;Lokaler og uts…</td><td>1</td><td>&quot;Mat-håndtering…</td><td>&quot;Mat-handtering…</td><td>0</td><td>&quot;Merking og spo…</td><td>&quot;Merking og spo…</td><td>1</td></tr><tr><td>&quot;Z1403271433336…</td><td>913525205</td><td>&quot;Tante Pose&quot;</td><td>&quot;Joakim Bredvol…</td><td>null</td><td>&quot;7170&quot;</td><td>&quot;ÅFJORD&quot;</td><td>&quot;Z1602191528258…</td><td>&quot;2016/36489&quot;</td><td>0</td><td>19022016</td><td>1</td><td>0</td><td>&quot;Rutiner og led…</td><td>&quot;Rutiner og lei…</td><td>0</td><td>&quot;Lokaler og uts…</td><td>&quot;Lokaler og uts…</td><td>0</td><td>&quot;Mat-håndtering…</td><td>&quot;Mat-handtering…</td><td>0</td><td>&quot;Merking og spo…</td><td>&quot;Merking og spo…</td><td>1</td></tr><tr><td>&hellip;</td><td>&hellip;</td><td>&hellip;</td><td>&hellip;</td><td>&hellip;</td><td>&hellip;</td><td>&hellip;</td><td>&hellip;</td><td>&hellip;</td><td>&hellip;</td><td>&hellip;</td><td>&hellip;</td><td>&hellip;</td><td>&hellip;</td><td>&hellip;</td><td>&hellip;</td><td>&hellip;</td><td>&hellip;</td><td>&hellip;</td><td>&hellip;</td><td>&hellip;</td><td>&hellip;</td><td>&hellip;</td><td>&hellip;</td><td>&hellip;</td></tr><tr><td>&quot;Z2401181802522…</td><td>832145432</td><td>&quot;Fratm.&quot;</td><td>&quot;Youngstorget 3…</td><td>null</td><td>&quot;0181&quot;</td><td>&quot;OSLO&quot;</td><td>&quot;Z2401181841460…</td><td>&quot;2024/13331&quot;</td><td>0</td><td>18012024</td><td>1</td><td>0</td><td>&quot;Rutiner og led…</td><td>&quot;Rutiner og lei…</td><td>null</td><td>&quot;Lokaler og uts…</td><td>&quot;Lokaler og uts…</td><td>1</td><td>&quot;Mat-håndtering…</td><td>&quot;Mat-handtering…</td><td>0</td><td>&quot;Merking og spo…</td><td>&quot;Merking og spo…</td><td>1</td></tr><tr><td>&quot;Z2108061750394…</td><td>925023337</td><td>&quot;Isan Kitchen &quot;</td><td>&quot;Thorvald Meyer…</td><td>null</td><td>&quot;0552&quot;</td><td>&quot;OSLO&quot;</td><td>&quot;Z2310131727502…</td><td>&quot;2023/219423&quot;</td><td>0</td><td>13102023</td><td>2</td><td>0</td><td>&quot;Rutiner og led…</td><td>&quot;Rutiner og lei…</td><td>2</td><td>&quot;Lokaler og uts…</td><td>&quot;Lokaler og uts…</td><td>2</td><td>&quot;Mat-håndtering…</td><td>&quot;Mat-handtering…</td><td>2</td><td>&quot;Merking og spo…</td><td>&quot;Merking og spo…</td><td>0</td></tr><tr><td>&quot;Z2201211304574…</td><td>997372654</td><td>&quot;Nordby Bakeri …</td><td>&quot;Vogellund 6&quot;</td><td>null</td><td>&quot;1394&quot;</td><td>&quot;NESBRU&quot;</td><td>&quot;Z2401171217303…</td><td>&quot;2024/11311&quot;</td><td>0</td><td>17012024</td><td>2</td><td>0</td><td>&quot;Rutiner og led…</td><td>&quot;Rutiner og lei…</td><td>0</td><td>&quot;Lokaler og uts…</td><td>&quot;Lokaler og uts…</td><td>2</td><td>&quot;Mat-håndtering…</td><td>&quot;Mat-handtering…</td><td>1</td><td>&quot;Merking og spo…</td><td>&quot;Merking og spo…</td><td>0</td></tr><tr><td>&quot;Z1411211039297…</td><td>914430925</td><td>&quot;Cafe Jeanette&quot;</td><td>&quot;BRUGATA 16&quot;</td><td>null</td><td>&quot;2380&quot;</td><td>&quot;BRUMUNDDAL&quot;</td><td>&quot;Z2310191326447…</td><td>&quot;2023/223934&quot;</td><td>0</td><td>19102023</td><td>1</td><td>0</td><td>&quot;Rutiner og led…</td><td>&quot;Rutiner og lei…</td><td>0</td><td>&quot;Lokaler og uts…</td><td>&quot;Lokaler og uts…</td><td>1</td><td>&quot;Mat-håndtering…</td><td>&quot;Mat-handtering…</td><td>0</td><td>&quot;Merking og spo…</td><td>&quot;Merking og spo…</td><td>0</td></tr><tr><td>&quot;Z1012021401188…</td><td>972225479</td><td>&quot;Long Cheng Res…</td><td>&quot;KONGENS GATE 2…</td><td>null</td><td>&quot;6002&quot;</td><td>&quot;ÅLESUND&quot;</td><td>&quot;Z2311031838291…</td><td>&quot;2023/237061&quot;</td><td>0</td><td>3112023</td><td>0</td><td>0</td><td>&quot;Rutiner og led…</td><td>&quot;Rutiner og lei…</td><td>0</td><td>&quot;Lokaler og uts…</td><td>&quot;Lokaler og uts…</td><td>0</td><td>&quot;Mat-håndtering…</td><td>&quot;Mat-handtering…</td><td>0</td><td>&quot;Merking og spo…</td><td>&quot;Merking og spo…</td><td>0</td></tr><tr><td>&quot;Z1905012044289…</td><td>917586039</td><td>&quot;Joe &amp; The Juic…</td><td>&quot;Dronning Eufem…</td><td>null</td><td>&quot;0194&quot;</td><td>&quot;OSLO&quot;</td><td>&quot;Z2311241227190…</td><td>&quot;2023/252934&quot;</td><td>0</td><td>24112023</td><td>1</td><td>0</td><td>&quot;Rutiner og led…</td><td>&quot;Rutiner og lei…</td><td>0</td><td>&quot;Lokaler og uts…</td><td>&quot;Lokaler og uts…</td><td>1</td><td>&quot;Mat-håndtering…</td><td>&quot;Mat-handtering…</td><td>0</td><td>&quot;Merking og spo…</td><td>&quot;Merking og spo…</td><td>0</td></tr><tr><td>&quot;Z1504231422208…</td><td>883138112</td><td>&quot;SAN MARINO PIZ…</td><td>&quot;STRANDGATA 17A…</td><td>null</td><td>&quot;2815&quot;</td><td>&quot;GJØVIK&quot;</td><td>&quot;Z2401101415351…</td><td>&quot;2024/6482&quot;</td><td>0</td><td>10012024</td><td>1</td><td>0</td><td>&quot;Rutiner og led…</td><td>&quot;Rutiner og lei…</td><td>0</td><td>&quot;Lokaler og uts…</td><td>&quot;Lokaler og uts…</td><td>1</td><td>&quot;Mat-håndtering…</td><td>&quot;Mat-handtering…</td><td>0</td><td>&quot;Merking og spo…</td><td>&quot;Merking og spo…</td><td>0</td></tr><tr><td>&quot;Z2309271241301…</td><td>932158868</td><td>&quot;Tinholt bakeri…</td><td>&quot;LIEGATA 9&quot;</td><td>null</td><td>&quot;3717&quot;</td><td>&quot;Skien&quot;</td><td>&quot;Z2310241237046…</td><td>&quot;2023/224916&quot;</td><td>0</td><td>24102023</td><td>1</td><td>0</td><td>&quot;Rutiner og led…</td><td>&quot;Rutiner og lei…</td><td>0</td><td>&quot;Lokaler og uts…</td><td>&quot;Lokaler og uts…</td><td>1</td><td>&quot;Mat-håndtering…</td><td>&quot;Mat-handtering…</td><td>0</td><td>&quot;Merking og spo…</td><td>&quot;Merking og spo…</td><td>0</td></tr><tr><td>&quot;Z1204270921043…</td><td>998775779</td><td>&quot;Verona Pizza o…</td><td>&quot;Brugata 10&quot;</td><td>null</td><td>&quot;0186&quot;</td><td>&quot;OSLO&quot;</td><td>&quot;Z2310251858238…</td><td>&quot;2023/228934&quot;</td><td>0</td><td>25102023</td><td>1</td><td>0</td><td>&quot;Rutiner og led…</td><td>&quot;Rutiner og lei…</td><td>0</td><td>&quot;Lokaler og uts…</td><td>&quot;Lokaler og uts…</td><td>1</td><td>&quot;Mat-håndtering…</td><td>&quot;Mat-handtering…</td><td>1</td><td>&quot;Merking og spo…</td><td>&quot;Merking og spo…</td><td>0</td></tr><tr><td>&quot;Z2111151423051…</td><td>818056982</td><td>&quot;Delicia Jernba…</td><td>&quot;Jernbanetorget…</td><td>null</td><td>&quot;0154&quot;</td><td>&quot;OSLO&quot;</td><td>&quot;Z2312041357301…</td><td>&quot;2023/259192&quot;</td><td>0</td><td>4122023</td><td>2</td><td>0</td><td>&quot;Rutiner og led…</td><td>&quot;Rutiner og lei…</td><td>2</td><td>&quot;Lokaler og uts…</td><td>&quot;Lokaler og uts…</td><td>2</td><td>&quot;Mat-håndtering…</td><td>&quot;Mat-handtering…</td><td>2</td><td>&quot;Merking og spo…</td><td>&quot;Merking og spo…</td><td>2</td></tr><tr><td>&quot;Z2011031709491…</td><td>924772417</td><td>&quot;Sabi Sushi Ege…</td><td>&quot;Sandakergaten …</td><td>null</td><td>&quot;4370&quot;</td><td>&quot;EGERSUND&quot;</td><td>&quot;Z2311280728222…</td><td>&quot;2023/245218&quot;</td><td>0</td><td>28112023</td><td>0</td><td>1</td><td>&quot;Rutiner og led…</td><td>&quot;Rutiner og lei…</td><td>0</td><td>&quot;Lokaler og uts…</td><td>&quot;Lokaler og uts…</td><td>0</td><td>&quot;Mat-håndtering…</td><td>&quot;Mat-handtering…</td><td>0</td><td>&quot;Merking og spo…</td><td>&quot;Merking og spo…</td><td>0</td></tr><tr><td>&quot;Z1006072022472…</td><td>979163967</td><td>&quot;Milano Rena&quot;</td><td>&quot;Tollef Kildes …</td><td>null</td><td>&quot;2450&quot;</td><td>&quot;RENA&quot;</td><td>&quot;Z2311281607387…</td><td>&quot;2023/255290&quot;</td><td>0</td><td>28112023</td><td>0</td><td>0</td><td>&quot;Rutiner og led…</td><td>&quot;Rutiner og lei…</td><td>0</td><td>&quot;Lokaler og uts…</td><td>&quot;Lokaler og uts…</td><td>0</td><td>&quot;Mat-håndtering…</td><td>&quot;Mat-handtering…</td><td>0</td><td>&quot;Merking og spo…</td><td>&quot;Merking og spo…</td><td>0</td></tr></tbody></table></div>"
      ],
      "text/plain": [
       "shape: (44_536, 25)\n",
       "┌───────────────────────────────────┬───────────┬───────────────────────────────────┬───────────────────────┬───┬───────────┬───────────────────────┬────────────────────────┬───────────┐\n",
       "│ tilsynsobjektid                   ┆ orgnummer ┆ navn                              ┆ adrlinje1             ┆ … ┆ karakter3 ┆ tema4_no              ┆ tema4_nn               ┆ karakter4 │\n",
       "│ ---                               ┆ ---       ┆ ---                               ┆ ---                   ┆   ┆ ---       ┆ ---                   ┆ ---                    ┆ ---       │\n",
       "│ str                               ┆ i64       ┆ str                               ┆ str                   ┆   ┆ i64       ┆ str                   ┆ str                    ┆ i64       │\n",
       "╞═══════════════════════════════════╪═══════════╪═══════════════════════════════════╪═══════════════════════╪═══╪═══════════╪═══════════════════════╪════════════════════════╪═══════════╡\n",
       "│ Z1501071230082032024GTOXC_Tilsyn… ┆ 914541034 ┆ Bakeriet i Brumunddal avdeling C… ┆ VANGSVEGEN 62         ┆ … ┆ 1         ┆ Merking og sporbarhet ┆ Merking og sporbarheit ┆ 0         │\n",
       "│ Z1006120609250331126HFNXO_Tilsyn… ┆ 987770740 ┆ Aktiven skiheis - Varmestova og … ┆ Kvamskogen            ┆ … ┆ 0         ┆ Merking og sporbarhet ┆ Merking og sporbarheit ┆ 1         │\n",
       "│ Z1107281100559960160KWPRX_Tilsyn… ┆ 998066662 ┆ Golfkafeen                        ┆ Belsjøveien 50        ┆ … ┆ 0         ┆ Merking og sporbarhet ┆ Merking og sporbarheit ┆ 1         │\n",
       "│ Z1205111414434020144PXTCM_Tilsyn… ┆ 972297925 ┆ Fargeriet Café                    ┆ Ivar Aasgaardsveg 1   ┆ … ┆ 0         ┆ Merking og sporbarhet ┆ Merking og sporbarheit ┆ 0         │\n",
       "│ Z1305061320139293177THOPJ_Tilsyn… ┆ 911860805 ┆ Marianne Bakeri og Kafe           ┆ ODDEN 2               ┆ … ┆ 1         ┆ Merking og sporbarhet ┆ Merking og sporbarheit ┆ 2         │\n",
       "│ …                                 ┆ …         ┆ …                                 ┆ …                     ┆ … ┆ …         ┆ …                     ┆ …                      ┆ …         │\n",
       "│ Z2309271241301782024NHDHO_Tilsyn… ┆ 932158868 ┆ Tinholt bakeri - Lietorvet        ┆ LIEGATA 9             ┆ … ┆ 0         ┆ Merking og sporbarhet ┆ Merking og sporbarheit ┆ 0         │\n",
       "│ Z1204270921043750193OYUMT_Tilsyn… ┆ 998775779 ┆ Verona Pizza og kebab             ┆ Brugata 10            ┆ … ┆ 1         ┆ Merking og sporbarhet ┆ Merking og sporbarheit ┆ 0         │\n",
       "│ Z2111151423051540127XABKH_Tilsyn… ┆ 818056982 ┆ Delicia Jernbantorget             ┆ Jernbanetorget 6      ┆ … ┆ 2         ┆ Merking og sporbarhet ┆ Merking og sporbarheit ┆ 2         │\n",
       "│ Z2011031709491430128SFCDS_Tilsyn… ┆ 924772417 ┆ Sabi Sushi Egersund               ┆ Sandakergaten 9       ┆ … ┆ 0         ┆ Merking og sporbarhet ┆ Merking og sporbarheit ┆ 0         │\n",
       "│ Z1006072022472081190LRBZE_Tilsyn… ┆ 979163967 ┆ Milano Rena                       ┆ Tollef Kildes gate 31 ┆ … ┆ 0         ┆ Merking og sporbarhet ┆ Merking og sporbarheit ┆ 0         │\n",
       "└───────────────────────────────────┴───────────┴───────────────────────────────────┴───────────────────────┴───┴───────────┴───────────────────────┴────────────────────────┴───────────┘"
      ]
     },
     "execution_count": 29,
     "metadata": {},
     "output_type": "execute_result"
    }
   ],
   "source": [
    "# Dette endrer ikke df_t\n",
    "df_t"
   ]
  },
  {
   "cell_type": "code",
   "execution_count": 30,
   "id": "3d90d64fffddf5e8",
   "metadata": {
    "collapsed": false,
    "jupyter": {
     "outputs_hidden": false
    }
   },
   "outputs": [
    {
     "data": {
      "text/html": [
       "<div><style>\n",
       ".dataframe > thead > tr,\n",
       ".dataframe > tbody > tr {\n",
       "  text-align: right;\n",
       "  white-space: pre-wrap;\n",
       "}\n",
       "</style>\n",
       "<small>shape: (146, 25)</small><table border=\"1\" class=\"dataframe\"><thead><tr><th>tilsynsobjektid</th><th>orgnummer</th><th>navn</th><th>adrlinje1</th><th>adrlinje2</th><th>postnr</th><th>poststed</th><th>tilsynid</th><th>sakref</th><th>status</th><th>dato</th><th>total_karakter</th><th>tilsynsbesoektype</th><th>tema1_no</th><th>tema1_nn</th><th>karakter1</th><th>tema2_no</th><th>tema2_nn</th><th>karakter2</th><th>tema3_no</th><th>tema3_nn</th><th>karakter3</th><th>tema4_no</th><th>tema4_nn</th><th>karakter4</th></tr><tr><td>str</td><td>i64</td><td>str</td><td>str</td><td>str</td><td>str</td><td>str</td><td>str</td><td>str</td><td>i64</td><td>i64</td><td>i64</td><td>i64</td><td>str</td><td>str</td><td>i64</td><td>str</td><td>str</td><td>i64</td><td>str</td><td>str</td><td>i64</td><td>str</td><td>str</td><td>i64</td></tr></thead><tbody><tr><td>&quot;Z1006060856246…</td><td>885464122</td><td>&quot;Peppes Pizza A…</td><td>&quot;TOLLBUGATA 1&quot;</td><td>null</td><td>&quot;3187&quot;</td><td>&quot;HORTEN&quot;</td><td>&quot;Z1611161003111…</td><td>&quot;2016/242241&quot;</td><td>0</td><td>15112016</td><td>1</td><td>0</td><td>&quot;Rutiner og led…</td><td>&quot;Rutiner og lei…</td><td>0</td><td>&quot;Lokaler og uts…</td><td>&quot;Lokaler og uts…</td><td>0</td><td>&quot;Mat-håndtering…</td><td>&quot;Mat-handtering…</td><td>1</td><td>&quot;Merking og spo…</td><td>&quot;Merking og spo…</td><td>0</td></tr><tr><td>&quot;Z1405211258149…</td><td>973247409</td><td>&quot;Baltzer restau…</td><td>&quot;JERNBANEGATA 1…</td><td>null</td><td>&quot;3187&quot;</td><td>&quot;HORTEN&quot;</td><td>&quot;Z1810191624429…</td><td>&quot;2018/234355&quot;</td><td>0</td><td>19102018</td><td>1</td><td>0</td><td>&quot;Rutiner og led…</td><td>&quot;Rutiner og lei…</td><td>0</td><td>&quot;Lokaler og uts…</td><td>&quot;Lokaler og uts…</td><td>1</td><td>&quot;Mat-håndtering…</td><td>&quot;Mat-handtering…</td><td>0</td><td>&quot;Merking og spo…</td><td>&quot;Merking og spo…</td><td>0</td></tr><tr><td>&quot;Z1006060856452…</td><td>977259789</td><td>&quot;Sjømilitære Sa…</td><td>&quot;Øvre vei 1&quot;</td><td>null</td><td>&quot;3183&quot;</td><td>&quot;HORTEN&quot;</td><td>&quot;Z1901081303030…</td><td>&quot;2019/6932&quot;</td><td>0</td><td>8012019</td><td>1</td><td>0</td><td>&quot;Rutiner og led…</td><td>&quot;Rutiner og lei…</td><td>0</td><td>&quot;Lokaler og uts…</td><td>&quot;Lokaler og uts…</td><td>1</td><td>&quot;Mat-håndtering…</td><td>&quot;Mat-handtering…</td><td>0</td><td>&quot;Merking og spo…</td><td>&quot;Merking og spo…</td><td>0</td></tr><tr><td>&quot;Z1006060856123…</td><td>972204668</td><td>&quot;Golden Crown&quot;</td><td>&quot;STORGATA 17&quot;</td><td>null</td><td>&quot;3183&quot;</td><td>&quot;HORTEN&quot;</td><td>&quot;Z1711291656263…</td><td>&quot;2017/252528&quot;</td><td>0</td><td>29112017</td><td>0</td><td>0</td><td>&quot;Rutiner og led…</td><td>&quot;Rutiner og lei…</td><td>0</td><td>&quot;Lokaler og uts…</td><td>&quot;Lokaler og uts…</td><td>0</td><td>&quot;Mat-håndtering…</td><td>&quot;Mat-handtering…</td><td>0</td><td>&quot;Merking og spo…</td><td>&quot;Merking og spo…</td><td>0</td></tr><tr><td>&quot;Z2306231638335…</td><td>924824182</td><td>&quot;Det hvite hus&quot;</td><td>&quot;Eskebekkveien …</td><td>null</td><td>&quot;3188&quot;</td><td>&quot;HORTEN&quot;</td><td>&quot;Z2306231702486…</td><td>&quot;2023/136655&quot;</td><td>0</td><td>23062023</td><td>1</td><td>0</td><td>&quot;Rutiner og led…</td><td>&quot;Rutiner og lei…</td><td>1</td><td>&quot;Lokaler og uts…</td><td>&quot;Lokaler og uts…</td><td>1</td><td>&quot;Mat-håndtering…</td><td>&quot;Mat-handtering…</td><td>0</td><td>&quot;Merking og spo…</td><td>&quot;Merking og spo…</td><td>1</td></tr><tr><td>&quot;Z1601121030009…</td><td>915175635</td><td>&quot;Horten Mikrobr…</td><td>&quot;STORGATA 20&quot;</td><td>null</td><td>&quot;3181&quot;</td><td>&quot;HORTEN&quot;</td><td>&quot;Z1710251502470…</td><td>&quot;2017/218075&quot;</td><td>0</td><td>25102017</td><td>0</td><td>1</td><td>&quot;Rutiner og led…</td><td>&quot;Rutiner og lei…</td><td>0</td><td>&quot;Lokaler og uts…</td><td>&quot;Lokaler og uts…</td><td>1</td><td>&quot;Mat-håndtering…</td><td>&quot;Mat-handtering…</td><td>0</td><td>&quot;Merking og spo…</td><td>&quot;Merking og spo…</td><td>1</td></tr><tr><td>&quot;Z1401061128526…</td><td>998414067</td><td>&quot;Oscars&quot;</td><td>&quot;STORGATA 21&quot;</td><td>null</td><td>&quot;3181&quot;</td><td>&quot;HORTEN&quot;</td><td>&quot;Z2203311703594…</td><td>&quot;2022/72584&quot;</td><td>0</td><td>31032022</td><td>1</td><td>0</td><td>&quot;Rutiner og led…</td><td>&quot;Rutiner og lei…</td><td>0</td><td>&quot;Lokaler og uts…</td><td>&quot;Lokaler og uts…</td><td>1</td><td>&quot;Mat-håndtering…</td><td>&quot;Mat-handtering…</td><td>1</td><td>&quot;Merking og spo…</td><td>&quot;Merking og spo…</td><td>0</td></tr><tr><td>&quot;Z1401061128526…</td><td>998414067</td><td>&quot;Oscars&quot;</td><td>&quot;STORGATA 21&quot;</td><td>null</td><td>&quot;3181&quot;</td><td>&quot;HORTEN&quot;</td><td>&quot;Z1604221140377…</td><td>&quot;2016/83298&quot;</td><td>0</td><td>22042016</td><td>0</td><td>1</td><td>&quot;Rutiner og led…</td><td>&quot;Rutiner og lei…</td><td>1</td><td>&quot;Lokaler og uts…</td><td>&quot;Lokaler og uts…</td><td>1</td><td>&quot;Mat-håndtering…</td><td>&quot;Mat-handtering…</td><td>1</td><td>&quot;Merking og spo…</td><td>&quot;Merking og spo…</td><td>0</td></tr><tr><td>&quot;Z1601261225402…</td><td>915915701</td><td>&quot;Blues´n&quot;</td><td>&quot;STORGATA 23&quot;</td><td>null</td><td>&quot;3181&quot;</td><td>&quot;HORTEN&quot;</td><td>&quot;Z1811260835152…</td><td>&quot;2018/264491&quot;</td><td>0</td><td>23112018</td><td>0</td><td>0</td><td>&quot;Rutiner og led…</td><td>&quot;Rutiner og lei…</td><td>0</td><td>&quot;Lokaler og uts…</td><td>&quot;Lokaler og uts…</td><td>0</td><td>&quot;Mat-håndtering…</td><td>&quot;Mat-handtering…</td><td>0</td><td>&quot;Merking og spo…</td><td>&quot;Merking og spo…</td><td>0</td></tr><tr><td>&quot;Z1006060856472…</td><td>972053635</td><td>&quot;Nøtterø Bakeri…</td><td>&quot;Storgata 24&quot;</td><td>null</td><td>&quot;3181&quot;</td><td>&quot;HORTEN&quot;</td><td>&quot;Z2110141403061…</td><td>&quot;2021/210266&quot;</td><td>0</td><td>14102021</td><td>1</td><td>0</td><td>&quot;Rutiner og led…</td><td>&quot;Rutiner og lei…</td><td>0</td><td>&quot;Lokaler og uts…</td><td>&quot;Lokaler og uts…</td><td>1</td><td>&quot;Mat-håndtering…</td><td>&quot;Mat-handtering…</td><td>1</td><td>&quot;Merking og spo…</td><td>&quot;Merking og spo…</td><td>0</td></tr><tr><td>&quot;Z2309251213012…</td><td>932199327</td><td>&quot;Traktern AS&quot;</td><td>&quot;Falsens gate 1…</td><td>null</td><td>&quot;3187&quot;</td><td>&quot;HORTEN&quot;</td><td>&quot;Z2310121408593…</td><td>&quot;2023/218688&quot;</td><td>0</td><td>12102023</td><td>0</td><td>0</td><td>&quot;Rutiner og led…</td><td>&quot;Rutiner og lei…</td><td>0</td><td>&quot;Lokaler og uts…</td><td>&quot;Lokaler og uts…</td><td>0</td><td>&quot;Mat-håndtering…</td><td>&quot;Mat-handtering…</td><td>0</td><td>&quot;Merking og spo…</td><td>&quot;Merking og spo…</td><td>0</td></tr><tr><td>&quot;Z1701231330442…</td><td>975810860</td><td>&quot;Bastø IV&quot;</td><td>&quot;RUSTADBRYGGA 5…</td><td>null</td><td>&quot;3187&quot;</td><td>&quot;HORTEN&quot;</td><td>&quot;Z1709211153330…</td><td>&quot;2017/193855&quot;</td><td>0</td><td>21092017</td><td>2</td><td>0</td><td>&quot;Rutiner og led…</td><td>&quot;Rutiner og lei…</td><td>0</td><td>&quot;Lokaler og uts…</td><td>&quot;Lokaler og uts…</td><td>1</td><td>&quot;Mat-håndtering…</td><td>&quot;Mat-handtering…</td><td>2</td><td>&quot;Merking og spo…</td><td>&quot;Merking og spo…</td><td>2</td></tr><tr><td>&hellip;</td><td>&hellip;</td><td>&hellip;</td><td>&hellip;</td><td>&hellip;</td><td>&hellip;</td><td>&hellip;</td><td>&hellip;</td><td>&hellip;</td><td>&hellip;</td><td>&hellip;</td><td>&hellip;</td><td>&hellip;</td><td>&hellip;</td><td>&hellip;</td><td>&hellip;</td><td>&hellip;</td><td>&hellip;</td><td>&hellip;</td><td>&hellip;</td><td>&hellip;</td><td>&hellip;</td><td>&hellip;</td><td>&hellip;</td><td>&hellip;</td></tr><tr><td>&quot;Z2106301050482…</td><td>927005298</td><td>&quot;Vadfiskerstua&quot;</td><td>&quot;Løvøyveien 54&quot;</td><td>null</td><td>&quot;3189&quot;</td><td>&quot;HORTEN&quot;</td><td>&quot;Z2107010944207…</td><td>&quot;2021/135580&quot;</td><td>0</td><td>1072021</td><td>0</td><td>0</td><td>&quot;Rutiner og led…</td><td>&quot;Rutiner og lei…</td><td>0</td><td>&quot;Lokaler og uts…</td><td>&quot;Lokaler og uts…</td><td>0</td><td>&quot;Mat-håndtering…</td><td>&quot;Mat-handtering…</td><td>0</td><td>&quot;Merking og spo…</td><td>&quot;Merking og spo…</td><td>0</td></tr><tr><td>&quot;Z1401061128526…</td><td>998414067</td><td>&quot;Oscars&quot;</td><td>&quot;STORGATA 21&quot;</td><td>null</td><td>&quot;3181&quot;</td><td>&quot;HORTEN&quot;</td><td>&quot;Z1604131655352…</td><td>&quot;2016/83298&quot;</td><td>0</td><td>13042016</td><td>2</td><td>0</td><td>&quot;Rutiner og led…</td><td>&quot;Rutiner og lei…</td><td>1</td><td>&quot;Lokaler og uts…</td><td>&quot;Lokaler og uts…</td><td>2</td><td>&quot;Mat-håndtering…</td><td>&quot;Mat-handtering…</td><td>1</td><td>&quot;Merking og spo…</td><td>&quot;Merking og spo…</td><td>2</td></tr><tr><td>&quot;Z1709211402368…</td><td>975810860</td><td>&quot;Bastø V&quot;</td><td>&quot;RUSTADBRYGGA 5…</td><td>null</td><td>&quot;3187&quot;</td><td>&quot;HORTEN&quot;</td><td>&quot;Z1709211416412…</td><td>&quot;2017/194265&quot;</td><td>0</td><td>21092017</td><td>1</td><td>0</td><td>&quot;Rutiner og led…</td><td>&quot;Rutiner og lei…</td><td>0</td><td>&quot;Lokaler og uts…</td><td>&quot;Lokaler og uts…</td><td>1</td><td>&quot;Mat-håndtering…</td><td>&quot;Mat-handtering…</td><td>0</td><td>&quot;Merking og spo…</td><td>&quot;Merking og spo…</td><td>1</td></tr><tr><td>&quot;Z1006060856254…</td><td>973138782</td><td>&quot;Pizzanini Hort…</td><td>&quot;STORGATA 33&quot;</td><td>null</td><td>&quot;3182&quot;</td><td>&quot;HORTEN&quot;</td><td>&quot;Z1803211315519…</td><td>&quot;2018/70493&quot;</td><td>0</td><td>21032018</td><td>0</td><td>0</td><td>&quot;Rutiner og led…</td><td>&quot;Rutiner og lei…</td><td>0</td><td>&quot;Lokaler og uts…</td><td>&quot;Lokaler og uts…</td><td>0</td><td>&quot;Mat-håndtering…</td><td>&quot;Mat-handtering…</td><td>0</td><td>&quot;Merking og spo…</td><td>&quot;Merking og spo…</td><td>0</td></tr><tr><td>&quot;Z1506260822127…</td><td>972876909</td><td>&quot;Rosalinda`s Or…</td><td>&quot;TORVET 4&quot;</td><td>null</td><td>&quot;3181&quot;</td><td>&quot;HORTEN&quot;</td><td>&quot;Z1810231049418…</td><td>&quot;2018/234356&quot;</td><td>0</td><td>18102018</td><td>2</td><td>0</td><td>&quot;Rutiner og led…</td><td>&quot;Rutiner og lei…</td><td>1</td><td>&quot;Lokaler og uts…</td><td>&quot;Lokaler og uts…</td><td>2</td><td>&quot;Mat-håndtering…</td><td>&quot;Mat-handtering…</td><td>0</td><td>&quot;Merking og spo…</td><td>&quot;Merking og spo…</td><td>0</td></tr><tr><td>&quot;Z1801081309030…</td><td>911958090</td><td>&quot;Kafe Ludvig&quot;</td><td>&quot;Harald Pederse…</td><td>null</td><td>&quot;3188&quot;</td><td>&quot;HORTEN&quot;</td><td>&quot;Z1808281502408…</td><td>&quot;2018/194459&quot;</td><td>0</td><td>21082018</td><td>0</td><td>0</td><td>&quot;Rutiner og led…</td><td>&quot;Rutiner og lei…</td><td>0</td><td>&quot;Lokaler og uts…</td><td>&quot;Lokaler og uts…</td><td>0</td><td>&quot;Mat-håndtering…</td><td>&quot;Mat-handtering…</td><td>0</td><td>&quot;Merking og spo…</td><td>&quot;Merking og spo…</td><td>0</td></tr><tr><td>&quot;Z1006060856472…</td><td>972053635</td><td>&quot;Nøtterø Bakeri…</td><td>&quot;Storgata 24&quot;</td><td>null</td><td>&quot;3181&quot;</td><td>&quot;HORTEN&quot;</td><td>&quot;Z1606071149570…</td><td>&quot;2016/126711&quot;</td><td>0</td><td>7062016</td><td>2</td><td>0</td><td>&quot;Rutiner og led…</td><td>&quot;Rutiner og lei…</td><td>2</td><td>&quot;Lokaler og uts…</td><td>&quot;Lokaler og uts…</td><td>2</td><td>&quot;Mat-håndtering…</td><td>&quot;Mat-handtering…</td><td>2</td><td>&quot;Merking og spo…</td><td>&quot;Merking og spo…</td><td>1</td></tr><tr><td>&quot;Z1006060856246…</td><td>885464122</td><td>&quot;Peppes Pizza A…</td><td>&quot;TOLLBUGATA 1&quot;</td><td>null</td><td>&quot;3187&quot;</td><td>&quot;HORTEN&quot;</td><td>&quot;Z1604121406230…</td><td>&quot;2016/82213&quot;</td><td>0</td><td>12042016</td><td>0</td><td>0</td><td>&quot;Rutiner og led…</td><td>&quot;Rutiner og lei…</td><td>0</td><td>&quot;Lokaler og uts…</td><td>&quot;Lokaler og uts…</td><td>0</td><td>&quot;Mat-håndtering…</td><td>&quot;Mat-handtering…</td><td>0</td><td>&quot;Merking og spo…</td><td>&quot;Merking og spo…</td><td>0</td></tr><tr><td>&quot;Z1406061321320…</td><td>913011570</td><td>&quot;Nummer ti - ka…</td><td>&quot;Seksjon 1 og 1…</td><td>&quot;Bygg 112, Komm…</td><td>&quot;3183&quot;</td><td>&quot;HORTEN&quot;</td><td>&quot;Z1710051242219…</td><td>&quot;2017/205666&quot;</td><td>0</td><td>5102017</td><td>1</td><td>0</td><td>&quot;Rutiner og led…</td><td>&quot;Rutiner og lei…</td><td>1</td><td>&quot;Lokaler og uts…</td><td>&quot;Lokaler og uts…</td><td>0</td><td>&quot;Mat-håndtering…</td><td>&quot;Mat-handtering…</td><td>0</td><td>&quot;Merking og spo…</td><td>&quot;Merking og spo…</td><td>0</td></tr><tr><td>&quot;Z1006060856254…</td><td>973138782</td><td>&quot;Pizzanini Hort…</td><td>&quot;STORGATA 33&quot;</td><td>null</td><td>&quot;3182&quot;</td><td>&quot;HORTEN&quot;</td><td>&quot;Z1707171500597…</td><td>&quot;2017/147789&quot;</td><td>0</td><td>17072017</td><td>1</td><td>0</td><td>&quot;Rutiner og led…</td><td>&quot;Rutiner og lei…</td><td>0</td><td>&quot;Lokaler og uts…</td><td>&quot;Lokaler og uts…</td><td>1</td><td>&quot;Mat-håndtering…</td><td>&quot;Mat-handtering…</td><td>0</td><td>&quot;Merking og spo…</td><td>&quot;Merking og spo…</td><td>0</td></tr><tr><td>&quot;Z2106301050482…</td><td>927005298</td><td>&quot;Vadfiskerstua&quot;</td><td>&quot;Løvøyveien 54&quot;</td><td>null</td><td>&quot;3189&quot;</td><td>&quot;HORTEN&quot;</td><td>&quot;Z2306231819127…</td><td>&quot;2023/136713&quot;</td><td>0</td><td>23062023</td><td>1</td><td>0</td><td>&quot;Rutiner og led…</td><td>&quot;Rutiner og lei…</td><td>1</td><td>&quot;Lokaler og uts…</td><td>&quot;Lokaler og uts…</td><td>0</td><td>&quot;Mat-håndtering…</td><td>&quot;Mat-handtering…</td><td>0</td><td>&quot;Merking og spo…</td><td>&quot;Merking og spo…</td><td>1</td></tr><tr><td>&quot;Z2006101112483…</td><td>995084929</td><td>&quot;Lucky Bowl, Ho…</td><td>&quot;Borreveien 42&quot;</td><td>null</td><td>&quot;3186&quot;</td><td>&quot;HORTEN&quot;</td><td>&quot;Z2211290839067…</td><td>&quot;2022/245199&quot;</td><td>0</td><td>15112022</td><td>1</td><td>0</td><td>&quot;Rutiner og led…</td><td>&quot;Rutiner og lei…</td><td>0</td><td>&quot;Lokaler og uts…</td><td>&quot;Lokaler og uts…</td><td>1</td><td>&quot;Mat-håndtering…</td><td>&quot;Mat-handtering…</td><td>0</td><td>&quot;Merking og spo…</td><td>&quot;Merking og spo…</td><td>0</td></tr></tbody></table></div>"
      ],
      "text/plain": [
       "shape: (146, 25)\n",
       "┌───────────────────────────────────┬───────────┬───────────────────────────────────┬───────────────────────────────────┬───┬───────────┬───────────────────────┬────────────────────────┬───────────┐\n",
       "│ tilsynsobjektid                   ┆ orgnummer ┆ navn                              ┆ adrlinje1                         ┆ … ┆ karakter3 ┆ tema4_no              ┆ tema4_nn               ┆ karakter4 │\n",
       "│ ---                               ┆ ---       ┆ ---                               ┆ ---                               ┆   ┆ ---       ┆ ---                   ┆ ---                    ┆ ---       │\n",
       "│ str                               ┆ i64       ┆ str                               ┆ str                               ┆   ┆ i64       ┆ str                   ┆ str                    ┆ i64       │\n",
       "╞═══════════════════════════════════╪═══════════╪═══════════════════════════════════╪═══════════════════════════════════╪═══╪═══════════╪═══════════════════════╪════════════════════════╪═══════════╡\n",
       "│ Z1006060856246361189AJIJC_Tilsyn… ┆ 885464122 ┆ Peppes Pizza Annola AS            ┆ TOLLBUGATA 1                      ┆ … ┆ 1         ┆ Merking og sporbarhet ┆ Merking og sporbarheit ┆ 0         │\n",
       "│ Z1405211258149913113IXCYF_Tilsyn… ┆ 973247409 ┆ Baltzer restaurant/ Thon Hotel H… ┆ JERNBANEGATA 1                    ┆ … ┆ 0         ┆ Merking og sporbarhet ┆ Merking og sporbarheit ┆ 0         │\n",
       "│ Z1006060856452931189AQQRM_Tilsyn… ┆ 977259789 ┆ Sjømilitære Samfund SMS Hotell d… ┆ Øvre vei 1                        ┆ … ┆ 0         ┆ Merking og sporbarhet ┆ Merking og sporbarheit ┆ 0         │\n",
       "│ Z1006060856123681190PXONX_Tilsyn… ┆ 972204668 ┆ Golden Crown                      ┆ STORGATA 17                       ┆ … ┆ 0         ┆ Merking og sporbarhet ┆ Merking og sporbarheit ┆ 0         │\n",
       "│ Z2306231638335601062FYCJA_Tilsyn… ┆ 924824182 ┆ Det hvite hus                     ┆ Eskebekkveien 68                  ┆ … ┆ 0         ┆ Merking og sporbarhet ┆ Merking og sporbarheit ┆ 1         │\n",
       "│ …                                 ┆ …         ┆ …                                 ┆ …                                 ┆ … ┆ …         ┆ …                     ┆ …                      ┆ …         │\n",
       "│ Z1006060856246361189AJIJC_Tilsyn… ┆ 885464122 ┆ Peppes Pizza Annola AS            ┆ TOLLBUGATA 1                      ┆ … ┆ 0         ┆ Merking og sporbarhet ┆ Merking og sporbarheit ┆ 0         │\n",
       "│ Z1406061321320013252BJYYG_Tilsyn… ┆ 913011570 ┆ Nummer ti - kafé og bruktbutikk   ┆ Seksjon 1 og 10, Kommandørkaptei… ┆ … ┆ 0         ┆ Merking og sporbarhet ┆ Merking og sporbarheit ┆ 0         │\n",
       "│ Z1006060856254691127GVGDQ_Tilsyn… ┆ 973138782 ┆ Pizzanini Horten                  ┆ STORGATA 33                       ┆ … ┆ 0         ┆ Merking og sporbarhet ┆ Merking og sporbarheit ┆ 0         │\n",
       "│ Z2106301050482720383JABTC_Tilsyn… ┆ 927005298 ┆ Vadfiskerstua                     ┆ Løvøyveien 54                     ┆ … ┆ 0         ┆ Merking og sporbarhet ┆ Merking og sporbarheit ┆ 1         │\n",
       "│ Z2006101112483642025OYXHJ_Tilsyn… ┆ 995084929 ┆ Lucky Bowl, Horten                ┆ Borreveien 42                     ┆ … ┆ 0         ┆ Merking og sporbarhet ┆ Merking og sporbarheit ┆ 0         │\n",
       "└───────────────────────────────────┴───────────┴───────────────────────────────────┴───────────────────────────────────┴───┴───────────┴───────────────────────┴────────────────────────┴───────────┘"
      ]
     },
     "execution_count": 30,
     "metadata": {},
     "output_type": "execute_result"
    }
   ],
   "source": [
    "# Vi må gjøre assignment for å endre noe.\n",
    "# Bruk ~ for negasjon, | for or og & for and. \n",
    "# Husk å sette parantes rundt uttrykkene.. \n",
    "\n",
    "df_t2 = df_t.filter((pl.col(\"postnr\").eq(pl.lit(\"3179\"))).or_(pl.col(\"poststed\").eq(pl.lit(\"HORTEN\"))))\n",
    "df_t2"
   ]
  },
  {
   "cell_type": "code",
   "execution_count": 31,
   "id": "dcfcd60588f59df5",
   "metadata": {
    "collapsed": false,
    "jupyter": {
     "outputs_hidden": false
    }
   },
   "outputs": [
    {
     "data": {
      "text/html": [
       "<div><style>\n",
       ".dataframe > thead > tr,\n",
       ".dataframe > tbody > tr {\n",
       "  text-align: right;\n",
       "  white-space: pre-wrap;\n",
       "}\n",
       "</style>\n",
       "<small>shape: (44_536, 26)</small><table border=\"1\" class=\"dataframe\"><thead><tr><th>tilsynsobjektid</th><th>orgnummer</th><th>navn</th><th>adrlinje1</th><th>adrlinje2</th><th>postnr</th><th>poststed</th><th>tilsynid</th><th>sakref</th><th>status</th><th>dato</th><th>total_karakter</th><th>tilsynsbesoektype</th><th>tema1_no</th><th>tema1_nn</th><th>karakter1</th><th>tema2_no</th><th>tema2_nn</th><th>karakter2</th><th>tema3_no</th><th>tema3_nn</th><th>karakter3</th><th>tema4_no</th><th>tema4_nn</th><th>karakter4</th><th>postnr poststed</th></tr><tr><td>str</td><td>i64</td><td>str</td><td>str</td><td>str</td><td>str</td><td>str</td><td>str</td><td>str</td><td>i64</td><td>i64</td><td>i64</td><td>i64</td><td>str</td><td>str</td><td>i64</td><td>str</td><td>str</td><td>i64</td><td>str</td><td>str</td><td>i64</td><td>str</td><td>str</td><td>i64</td><td>str</td></tr></thead><tbody><tr><td>&quot;Z1501071230082…</td><td>914541034</td><td>&quot;Bakeriet i Bru…</td><td>&quot;VANGSVEGEN 62&quot;</td><td>null</td><td>&quot;2317&quot;</td><td>&quot;HAMAR&quot;</td><td>&quot;Z1601211510285…</td><td>&quot;2016/6663&quot;</td><td>0</td><td>21012016</td><td>1</td><td>0</td><td>&quot;Rutiner og led…</td><td>&quot;Rutiner og lei…</td><td>1</td><td>&quot;Lokaler og uts…</td><td>&quot;Lokaler og uts…</td><td>1</td><td>&quot;Mat-håndtering…</td><td>&quot;Mat-handtering…</td><td>1</td><td>&quot;Merking og spo…</td><td>&quot;Merking og spo…</td><td>0</td><td>&quot;2317 HAMAR&quot;</td></tr><tr><td>&quot;Z1006120609250…</td><td>987770740</td><td>&quot;Aktiven skihei…</td><td>&quot;Kvamskogen&quot;</td><td>null</td><td>&quot;5600&quot;</td><td>&quot;NORHEIMSUND&quot;</td><td>&quot;Z1603101430592…</td><td>&quot;2016/53185&quot;</td><td>0</td><td>10032016</td><td>1</td><td>0</td><td>&quot;Rutiner og led…</td><td>&quot;Rutiner og lei…</td><td>0</td><td>&quot;Lokaler og uts…</td><td>&quot;Lokaler og uts…</td><td>0</td><td>&quot;Mat-håndtering…</td><td>&quot;Mat-handtering…</td><td>0</td><td>&quot;Merking og spo…</td><td>&quot;Merking og spo…</td><td>1</td><td>&quot;5600 NORHEIMSU…</td></tr><tr><td>&quot;Z1107281100559…</td><td>998066662</td><td>&quot;Golfkafeen&quot;</td><td>&quot;Belsjøveien 50…</td><td>null</td><td>&quot;1445&quot;</td><td>&quot;DRØBAK&quot;</td><td>&quot;Z1605111530190…</td><td>&quot;2016/106865&quot;</td><td>0</td><td>11052016</td><td>1</td><td>0</td><td>&quot;Rutiner og led…</td><td>&quot;Rutiner og lei…</td><td>0</td><td>&quot;Lokaler og uts…</td><td>&quot;Lokaler og uts…</td><td>1</td><td>&quot;Mat-håndtering…</td><td>&quot;Mat-handtering…</td><td>0</td><td>&quot;Merking og spo…</td><td>&quot;Merking og spo…</td><td>1</td><td>&quot;1445 DRØBAK&quot;</td></tr><tr><td>&quot;Z1205111414434…</td><td>972297925</td><td>&quot;Fargeriet Café…</td><td>&quot;Ivar Aasgaards…</td><td>&quot;Arna Næringspa…</td><td>&quot;5265&quot;</td><td>&quot;YTRE ARNA&quot;</td><td>&quot;Z1605201329276…</td><td>&quot;2016/113661&quot;</td><td>0</td><td>19052016</td><td>1</td><td>0</td><td>&quot;Rutiner og led…</td><td>&quot;Rutiner og lei…</td><td>1</td><td>&quot;Lokaler og uts…</td><td>&quot;Lokaler og uts…</td><td>0</td><td>&quot;Mat-håndtering…</td><td>&quot;Mat-handtering…</td><td>0</td><td>&quot;Merking og spo…</td><td>&quot;Merking og spo…</td><td>0</td><td>&quot;5265 YTRE ARNA…</td></tr><tr><td>&quot;Z1305061320139…</td><td>911860805</td><td>&quot;Marianne Baker…</td><td>&quot;ODDEN 2&quot;</td><td>null</td><td>&quot;5745&quot;</td><td>&quot;AURLAND&quot;</td><td>&quot;Z1601281551398…</td><td>&quot;2016/20626&quot;</td><td>0</td><td>28012016</td><td>3</td><td>0</td><td>&quot;Rutiner og led…</td><td>&quot;Rutiner og lei…</td><td>2</td><td>&quot;Lokaler og uts…</td><td>&quot;Lokaler og uts…</td><td>3</td><td>&quot;Mat-håndtering…</td><td>&quot;Mat-handtering…</td><td>1</td><td>&quot;Merking og spo…</td><td>&quot;Merking og spo…</td><td>2</td><td>&quot;5745 AURLAND&quot;</td></tr><tr><td>&quot;Z1301040959396…</td><td>975039129</td><td>&quot;Solbrød Nesttu…</td><td>&quot;Østre Nesttunv…</td><td>null</td><td>&quot;5221&quot;</td><td>&quot;NESTTUN&quot;</td><td>&quot;Z1602011352244…</td><td>&quot;2016/22950&quot;</td><td>0</td><td>29012016</td><td>1</td><td>0</td><td>&quot;Rutiner og led…</td><td>&quot;Rutiner og lei…</td><td>0</td><td>&quot;Lokaler og uts…</td><td>&quot;Lokaler og uts…</td><td>0</td><td>&quot;Mat-håndtering…</td><td>&quot;Mat-handtering…</td><td>0</td><td>&quot;Merking og spo…</td><td>&quot;Merking og spo…</td><td>1</td><td>&quot;5221 NESTTUN&quot;</td></tr><tr><td>&quot;Z1509021733238…</td><td>916327463</td><td>&quot;Suvi&quot;</td><td>&quot;Grønnegata 48&quot;</td><td>null</td><td>&quot;9008&quot;</td><td>&quot;TROMSØ&quot;</td><td>&quot;Z1602181546569…</td><td>&quot;2016/36480&quot;</td><td>0</td><td>17022016</td><td>2</td><td>0</td><td>&quot;Rutiner og led…</td><td>&quot;Rutiner og lei…</td><td>0</td><td>&quot;Lokaler og uts…</td><td>&quot;Lokaler og uts…</td><td>2</td><td>&quot;Mat-håndtering…</td><td>&quot;Mat-handtering…</td><td>0</td><td>&quot;Merking og spo…</td><td>&quot;Merking og spo…</td><td>0</td><td>&quot;9008 TROMSØ&quot;</td></tr><tr><td>&quot;Z1411211039297…</td><td>914430925</td><td>&quot;Cafe Jeanette&quot;</td><td>&quot;BRUGATA 16&quot;</td><td>null</td><td>&quot;2380&quot;</td><td>&quot;BRUMUNDDAL&quot;</td><td>&quot;Z1602091334400…</td><td>&quot;2016/29434&quot;</td><td>0</td><td>9022016</td><td>0</td><td>0</td><td>&quot;Rutiner og led…</td><td>&quot;Rutiner og lei…</td><td>0</td><td>&quot;Lokaler og uts…</td><td>&quot;Lokaler og uts…</td><td>0</td><td>&quot;Mat-håndtering…</td><td>&quot;Mat-handtering…</td><td>0</td><td>&quot;Merking og spo…</td><td>&quot;Merking og spo…</td><td>0</td><td>&quot;2380 BRUMUNDDA…</td></tr><tr><td>&quot;Z1006060857546…</td><td>979931069</td><td>&quot;Jafs Sem&quot;</td><td>&quot;Semsbyveien 94…</td><td>null</td><td>&quot;3170&quot;</td><td>&quot;SEM&quot;</td><td>&quot;Z1603301156458…</td><td>&quot;2016/68720&quot;</td><td>0</td><td>30032016</td><td>1</td><td>0</td><td>&quot;Rutiner og led…</td><td>&quot;Rutiner og lei…</td><td>0</td><td>&quot;Lokaler og uts…</td><td>&quot;Lokaler og uts…</td><td>1</td><td>&quot;Mat-håndtering…</td><td>&quot;Mat-handtering…</td><td>0</td><td>&quot;Merking og spo…</td><td>&quot;Merking og spo…</td><td>0</td><td>&quot;3170 SEM&quot;</td></tr><tr><td>&quot;Z1410171453232…</td><td>995870258</td><td>&quot;Brumunddal Sus…</td><td>&quot;BRUGATA 1&quot;</td><td>null</td><td>&quot;2380&quot;</td><td>&quot;BRUMUNDDAL&quot;</td><td>&quot;Z1605060831207…</td><td>&quot;2016/102195&quot;</td><td>0</td><td>4052016</td><td>2</td><td>0</td><td>&quot;Rutiner og led…</td><td>&quot;Rutiner og lei…</td><td>2</td><td>&quot;Lokaler og uts…</td><td>&quot;Lokaler og uts…</td><td>2</td><td>&quot;Mat-håndtering…</td><td>&quot;Mat-handtering…</td><td>2</td><td>&quot;Merking og spo…</td><td>&quot;Merking og spo…</td><td>2</td><td>&quot;2380 BRUMUNDDA…</td></tr><tr><td>&quot;Z1603221429551…</td><td>988105376</td><td>&quot;Fire Årstider&quot;</td><td>&quot; SLEPENDVEIEN …</td><td>null</td><td>&quot;1341&quot;</td><td>&quot;SLEPENDEN&quot;</td><td>&quot;Z1605241003391…</td><td>&quot;2016/114566&quot;</td><td>0</td><td>23052016</td><td>1</td><td>0</td><td>&quot;Rutiner og led…</td><td>&quot;Rutiner og lei…</td><td>0</td><td>&quot;Lokaler og uts…</td><td>&quot;Lokaler og uts…</td><td>1</td><td>&quot;Mat-håndtering…</td><td>&quot;Mat-handtering…</td><td>0</td><td>&quot;Merking og spo…</td><td>&quot;Merking og spo…</td><td>1</td><td>&quot;1341 SLEPENDEN…</td></tr><tr><td>&quot;Z1403271433336…</td><td>913525205</td><td>&quot;Tante Pose&quot;</td><td>&quot;Joakim Bredvol…</td><td>null</td><td>&quot;7170&quot;</td><td>&quot;ÅFJORD&quot;</td><td>&quot;Z1602191528258…</td><td>&quot;2016/36489&quot;</td><td>0</td><td>19022016</td><td>1</td><td>0</td><td>&quot;Rutiner og led…</td><td>&quot;Rutiner og lei…</td><td>0</td><td>&quot;Lokaler og uts…</td><td>&quot;Lokaler og uts…</td><td>0</td><td>&quot;Mat-håndtering…</td><td>&quot;Mat-handtering…</td><td>0</td><td>&quot;Merking og spo…</td><td>&quot;Merking og spo…</td><td>1</td><td>&quot;7170 ÅFJORD&quot;</td></tr><tr><td>&hellip;</td><td>&hellip;</td><td>&hellip;</td><td>&hellip;</td><td>&hellip;</td><td>&hellip;</td><td>&hellip;</td><td>&hellip;</td><td>&hellip;</td><td>&hellip;</td><td>&hellip;</td><td>&hellip;</td><td>&hellip;</td><td>&hellip;</td><td>&hellip;</td><td>&hellip;</td><td>&hellip;</td><td>&hellip;</td><td>&hellip;</td><td>&hellip;</td><td>&hellip;</td><td>&hellip;</td><td>&hellip;</td><td>&hellip;</td><td>&hellip;</td><td>&hellip;</td></tr><tr><td>&quot;Z2401181802522…</td><td>832145432</td><td>&quot;Fratm.&quot;</td><td>&quot;Youngstorget 3…</td><td>null</td><td>&quot;0181&quot;</td><td>&quot;OSLO&quot;</td><td>&quot;Z2401181841460…</td><td>&quot;2024/13331&quot;</td><td>0</td><td>18012024</td><td>1</td><td>0</td><td>&quot;Rutiner og led…</td><td>&quot;Rutiner og lei…</td><td>null</td><td>&quot;Lokaler og uts…</td><td>&quot;Lokaler og uts…</td><td>1</td><td>&quot;Mat-håndtering…</td><td>&quot;Mat-handtering…</td><td>0</td><td>&quot;Merking og spo…</td><td>&quot;Merking og spo…</td><td>1</td><td>&quot;0181 OSLO&quot;</td></tr><tr><td>&quot;Z2108061750394…</td><td>925023337</td><td>&quot;Isan Kitchen &quot;</td><td>&quot;Thorvald Meyer…</td><td>null</td><td>&quot;0552&quot;</td><td>&quot;OSLO&quot;</td><td>&quot;Z2310131727502…</td><td>&quot;2023/219423&quot;</td><td>0</td><td>13102023</td><td>2</td><td>0</td><td>&quot;Rutiner og led…</td><td>&quot;Rutiner og lei…</td><td>2</td><td>&quot;Lokaler og uts…</td><td>&quot;Lokaler og uts…</td><td>2</td><td>&quot;Mat-håndtering…</td><td>&quot;Mat-handtering…</td><td>2</td><td>&quot;Merking og spo…</td><td>&quot;Merking og spo…</td><td>0</td><td>&quot;0552 OSLO&quot;</td></tr><tr><td>&quot;Z2201211304574…</td><td>997372654</td><td>&quot;Nordby Bakeri …</td><td>&quot;Vogellund 6&quot;</td><td>null</td><td>&quot;1394&quot;</td><td>&quot;NESBRU&quot;</td><td>&quot;Z2401171217303…</td><td>&quot;2024/11311&quot;</td><td>0</td><td>17012024</td><td>2</td><td>0</td><td>&quot;Rutiner og led…</td><td>&quot;Rutiner og lei…</td><td>0</td><td>&quot;Lokaler og uts…</td><td>&quot;Lokaler og uts…</td><td>2</td><td>&quot;Mat-håndtering…</td><td>&quot;Mat-handtering…</td><td>1</td><td>&quot;Merking og spo…</td><td>&quot;Merking og spo…</td><td>0</td><td>&quot;1394 NESBRU&quot;</td></tr><tr><td>&quot;Z1411211039297…</td><td>914430925</td><td>&quot;Cafe Jeanette&quot;</td><td>&quot;BRUGATA 16&quot;</td><td>null</td><td>&quot;2380&quot;</td><td>&quot;BRUMUNDDAL&quot;</td><td>&quot;Z2310191326447…</td><td>&quot;2023/223934&quot;</td><td>0</td><td>19102023</td><td>1</td><td>0</td><td>&quot;Rutiner og led…</td><td>&quot;Rutiner og lei…</td><td>0</td><td>&quot;Lokaler og uts…</td><td>&quot;Lokaler og uts…</td><td>1</td><td>&quot;Mat-håndtering…</td><td>&quot;Mat-handtering…</td><td>0</td><td>&quot;Merking og spo…</td><td>&quot;Merking og spo…</td><td>0</td><td>&quot;2380 BRUMUNDDA…</td></tr><tr><td>&quot;Z1012021401188…</td><td>972225479</td><td>&quot;Long Cheng Res…</td><td>&quot;KONGENS GATE 2…</td><td>null</td><td>&quot;6002&quot;</td><td>&quot;ÅLESUND&quot;</td><td>&quot;Z2311031838291…</td><td>&quot;2023/237061&quot;</td><td>0</td><td>3112023</td><td>0</td><td>0</td><td>&quot;Rutiner og led…</td><td>&quot;Rutiner og lei…</td><td>0</td><td>&quot;Lokaler og uts…</td><td>&quot;Lokaler og uts…</td><td>0</td><td>&quot;Mat-håndtering…</td><td>&quot;Mat-handtering…</td><td>0</td><td>&quot;Merking og spo…</td><td>&quot;Merking og spo…</td><td>0</td><td>&quot;6002 ÅLESUND&quot;</td></tr><tr><td>&quot;Z1905012044289…</td><td>917586039</td><td>&quot;Joe &amp; The Juic…</td><td>&quot;Dronning Eufem…</td><td>null</td><td>&quot;0194&quot;</td><td>&quot;OSLO&quot;</td><td>&quot;Z2311241227190…</td><td>&quot;2023/252934&quot;</td><td>0</td><td>24112023</td><td>1</td><td>0</td><td>&quot;Rutiner og led…</td><td>&quot;Rutiner og lei…</td><td>0</td><td>&quot;Lokaler og uts…</td><td>&quot;Lokaler og uts…</td><td>1</td><td>&quot;Mat-håndtering…</td><td>&quot;Mat-handtering…</td><td>0</td><td>&quot;Merking og spo…</td><td>&quot;Merking og spo…</td><td>0</td><td>&quot;0194 OSLO&quot;</td></tr><tr><td>&quot;Z1504231422208…</td><td>883138112</td><td>&quot;SAN MARINO PIZ…</td><td>&quot;STRANDGATA 17A…</td><td>null</td><td>&quot;2815&quot;</td><td>&quot;GJØVIK&quot;</td><td>&quot;Z2401101415351…</td><td>&quot;2024/6482&quot;</td><td>0</td><td>10012024</td><td>1</td><td>0</td><td>&quot;Rutiner og led…</td><td>&quot;Rutiner og lei…</td><td>0</td><td>&quot;Lokaler og uts…</td><td>&quot;Lokaler og uts…</td><td>1</td><td>&quot;Mat-håndtering…</td><td>&quot;Mat-handtering…</td><td>0</td><td>&quot;Merking og spo…</td><td>&quot;Merking og spo…</td><td>0</td><td>&quot;2815 GJØVIK&quot;</td></tr><tr><td>&quot;Z2309271241301…</td><td>932158868</td><td>&quot;Tinholt bakeri…</td><td>&quot;LIEGATA 9&quot;</td><td>null</td><td>&quot;3717&quot;</td><td>&quot;Skien&quot;</td><td>&quot;Z2310241237046…</td><td>&quot;2023/224916&quot;</td><td>0</td><td>24102023</td><td>1</td><td>0</td><td>&quot;Rutiner og led…</td><td>&quot;Rutiner og lei…</td><td>0</td><td>&quot;Lokaler og uts…</td><td>&quot;Lokaler og uts…</td><td>1</td><td>&quot;Mat-håndtering…</td><td>&quot;Mat-handtering…</td><td>0</td><td>&quot;Merking og spo…</td><td>&quot;Merking og spo…</td><td>0</td><td>&quot;3717 Skien&quot;</td></tr><tr><td>&quot;Z1204270921043…</td><td>998775779</td><td>&quot;Verona Pizza o…</td><td>&quot;Brugata 10&quot;</td><td>null</td><td>&quot;0186&quot;</td><td>&quot;OSLO&quot;</td><td>&quot;Z2310251858238…</td><td>&quot;2023/228934&quot;</td><td>0</td><td>25102023</td><td>1</td><td>0</td><td>&quot;Rutiner og led…</td><td>&quot;Rutiner og lei…</td><td>0</td><td>&quot;Lokaler og uts…</td><td>&quot;Lokaler og uts…</td><td>1</td><td>&quot;Mat-håndtering…</td><td>&quot;Mat-handtering…</td><td>1</td><td>&quot;Merking og spo…</td><td>&quot;Merking og spo…</td><td>0</td><td>&quot;0186 OSLO&quot;</td></tr><tr><td>&quot;Z2111151423051…</td><td>818056982</td><td>&quot;Delicia Jernba…</td><td>&quot;Jernbanetorget…</td><td>null</td><td>&quot;0154&quot;</td><td>&quot;OSLO&quot;</td><td>&quot;Z2312041357301…</td><td>&quot;2023/259192&quot;</td><td>0</td><td>4122023</td><td>2</td><td>0</td><td>&quot;Rutiner og led…</td><td>&quot;Rutiner og lei…</td><td>2</td><td>&quot;Lokaler og uts…</td><td>&quot;Lokaler og uts…</td><td>2</td><td>&quot;Mat-håndtering…</td><td>&quot;Mat-handtering…</td><td>2</td><td>&quot;Merking og spo…</td><td>&quot;Merking og spo…</td><td>2</td><td>&quot;0154 OSLO&quot;</td></tr><tr><td>&quot;Z2011031709491…</td><td>924772417</td><td>&quot;Sabi Sushi Ege…</td><td>&quot;Sandakergaten …</td><td>null</td><td>&quot;4370&quot;</td><td>&quot;EGERSUND&quot;</td><td>&quot;Z2311280728222…</td><td>&quot;2023/245218&quot;</td><td>0</td><td>28112023</td><td>0</td><td>1</td><td>&quot;Rutiner og led…</td><td>&quot;Rutiner og lei…</td><td>0</td><td>&quot;Lokaler og uts…</td><td>&quot;Lokaler og uts…</td><td>0</td><td>&quot;Mat-håndtering…</td><td>&quot;Mat-handtering…</td><td>0</td><td>&quot;Merking og spo…</td><td>&quot;Merking og spo…</td><td>0</td><td>&quot;4370 EGERSUND&quot;</td></tr><tr><td>&quot;Z1006072022472…</td><td>979163967</td><td>&quot;Milano Rena&quot;</td><td>&quot;Tollef Kildes …</td><td>null</td><td>&quot;2450&quot;</td><td>&quot;RENA&quot;</td><td>&quot;Z2311281607387…</td><td>&quot;2023/255290&quot;</td><td>0</td><td>28112023</td><td>0</td><td>0</td><td>&quot;Rutiner og led…</td><td>&quot;Rutiner og lei…</td><td>0</td><td>&quot;Lokaler og uts…</td><td>&quot;Lokaler og uts…</td><td>0</td><td>&quot;Mat-håndtering…</td><td>&quot;Mat-handtering…</td><td>0</td><td>&quot;Merking og spo…</td><td>&quot;Merking og spo…</td><td>0</td><td>&quot;2450 RENA&quot;</td></tr></tbody></table></div>"
      ],
      "text/plain": [
       "shape: (44_536, 26)\n",
       "┌───────────────────────────────────┬───────────┬───────────────────────────────────┬───────────────────────┬───┬───────────────────────┬────────────────────────┬───────────┬──────────────────┐\n",
       "│ tilsynsobjektid                   ┆ orgnummer ┆ navn                              ┆ adrlinje1             ┆ … ┆ tema4_no              ┆ tema4_nn               ┆ karakter4 ┆ postnr poststed  │\n",
       "│ ---                               ┆ ---       ┆ ---                               ┆ ---                   ┆   ┆ ---                   ┆ ---                    ┆ ---       ┆ ---              │\n",
       "│ str                               ┆ i64       ┆ str                               ┆ str                   ┆   ┆ str                   ┆ str                    ┆ i64       ┆ str              │\n",
       "╞═══════════════════════════════════╪═══════════╪═══════════════════════════════════╪═══════════════════════╪═══╪═══════════════════════╪════════════════════════╪═══════════╪══════════════════╡\n",
       "│ Z1501071230082032024GTOXC_Tilsyn… ┆ 914541034 ┆ Bakeriet i Brumunddal avdeling C… ┆ VANGSVEGEN 62         ┆ … ┆ Merking og sporbarhet ┆ Merking og sporbarheit ┆ 0         ┆ 2317 HAMAR       │\n",
       "│ Z1006120609250331126HFNXO_Tilsyn… ┆ 987770740 ┆ Aktiven skiheis - Varmestova og … ┆ Kvamskogen            ┆ … ┆ Merking og sporbarhet ┆ Merking og sporbarheit ┆ 1         ┆ 5600 NORHEIMSUND │\n",
       "│ Z1107281100559960160KWPRX_Tilsyn… ┆ 998066662 ┆ Golfkafeen                        ┆ Belsjøveien 50        ┆ … ┆ Merking og sporbarhet ┆ Merking og sporbarheit ┆ 1         ┆ 1445 DRØBAK      │\n",
       "│ Z1205111414434020144PXTCM_Tilsyn… ┆ 972297925 ┆ Fargeriet Café                    ┆ Ivar Aasgaardsveg 1   ┆ … ┆ Merking og sporbarhet ┆ Merking og sporbarheit ┆ 0         ┆ 5265 YTRE ARNA   │\n",
       "│ Z1305061320139293177THOPJ_Tilsyn… ┆ 911860805 ┆ Marianne Bakeri og Kafe           ┆ ODDEN 2               ┆ … ┆ Merking og sporbarhet ┆ Merking og sporbarheit ┆ 2         ┆ 5745 AURLAND     │\n",
       "│ …                                 ┆ …         ┆ …                                 ┆ …                     ┆ … ┆ …                     ┆ …                      ┆ …         ┆ …                │\n",
       "│ Z2309271241301782024NHDHO_Tilsyn… ┆ 932158868 ┆ Tinholt bakeri - Lietorvet        ┆ LIEGATA 9             ┆ … ┆ Merking og sporbarhet ┆ Merking og sporbarheit ┆ 0         ┆ 3717 Skien       │\n",
       "│ Z1204270921043750193OYUMT_Tilsyn… ┆ 998775779 ┆ Verona Pizza og kebab             ┆ Brugata 10            ┆ … ┆ Merking og sporbarhet ┆ Merking og sporbarheit ┆ 0         ┆ 0186 OSLO        │\n",
       "│ Z2111151423051540127XABKH_Tilsyn… ┆ 818056982 ┆ Delicia Jernbantorget             ┆ Jernbanetorget 6      ┆ … ┆ Merking og sporbarhet ┆ Merking og sporbarheit ┆ 2         ┆ 0154 OSLO        │\n",
       "│ Z2011031709491430128SFCDS_Tilsyn… ┆ 924772417 ┆ Sabi Sushi Egersund               ┆ Sandakergaten 9       ┆ … ┆ Merking og sporbarhet ┆ Merking og sporbarheit ┆ 0         ┆ 4370 EGERSUND    │\n",
       "│ Z1006072022472081190LRBZE_Tilsyn… ┆ 979163967 ┆ Milano Rena                       ┆ Tollef Kildes gate 31 ┆ … ┆ Merking og sporbarhet ┆ Merking og sporbarheit ┆ 0         ┆ 2450 RENA        │\n",
       "└───────────────────────────────────┴───────────┴───────────────────────────────────┴───────────────────────┴───┴───────────────────────┴────────────────────────┴───────────┴──────────────────┘"
      ]
     },
     "execution_count": 31,
     "metadata": {},
     "output_type": "execute_result"
    }
   ],
   "source": [
    "# Vi kan tilordne til kolonner\n",
    "df_t3 = df_t.with_columns(\n",
    "    (pl.col(\"postnr\") + pl.lit(\" \") + pl.col(\"poststed\")).alias(\"postnr poststed\")\n",
    ")\n",
    "df_t3"
   ]
  },
  {
   "cell_type": "code",
   "execution_count": 32,
   "id": "62d1e1e6950e9833",
   "metadata": {
    "collapsed": false,
    "jupyter": {
     "outputs_hidden": false
    }
   },
   "outputs": [],
   "source": [
    "# Vi fikser opp i datoen\n",
    "df_t = df_t.with_columns(\n",
    "    dato=pl.col(\"dato\").cast(str).str.pad_start(8, \"0\").str.to_date(format=\"%d%m%Y\")\n",
    ")"
   ]
  },
  {
   "cell_type": "code",
   "execution_count": 37,
   "id": "a02b3ffb-372d-4003-8e47-9e7e128b4efc",
   "metadata": {},
   "outputs": [
    {
     "data": {
      "text/html": [
       "<div><style>\n",
       ".dataframe > thead > tr,\n",
       ".dataframe > tbody > tr {\n",
       "  text-align: right;\n",
       "  white-space: pre-wrap;\n",
       "}\n",
       "</style>\n",
       "<small>shape: (44_536, 26)</small><table border=\"1\" class=\"dataframe\"><thead><tr><th>tilsynsobjektid</th><th>orgnummer</th><th>navn</th><th>adrlinje1</th><th>adrlinje2</th><th>postnr</th><th>poststed</th><th>tilsynid</th><th>sakref</th><th>status</th><th>dato</th><th>total_karakter</th><th>tilsynsbesoektype</th><th>tema1_no</th><th>tema1_nn</th><th>karakter1</th><th>tema2_no</th><th>tema2_nn</th><th>karakter2</th><th>tema3_no</th><th>tema3_nn</th><th>karakter3</th><th>tema4_no</th><th>tema4_nn</th><th>karakter4</th><th>year</th></tr><tr><td>str</td><td>i64</td><td>str</td><td>str</td><td>str</td><td>str</td><td>str</td><td>str</td><td>str</td><td>i64</td><td>date</td><td>i64</td><td>i64</td><td>str</td><td>str</td><td>i64</td><td>str</td><td>str</td><td>i64</td><td>str</td><td>str</td><td>i64</td><td>str</td><td>str</td><td>i64</td><td>i32</td></tr></thead><tbody><tr><td>&quot;Z1501071230082…</td><td>914541034</td><td>&quot;Bakeriet i Bru…</td><td>&quot;VANGSVEGEN 62&quot;</td><td>null</td><td>&quot;2317&quot;</td><td>&quot;HAMAR&quot;</td><td>&quot;Z1601211510285…</td><td>&quot;2016/6663&quot;</td><td>0</td><td>2016-01-21</td><td>1</td><td>0</td><td>&quot;Rutiner og led…</td><td>&quot;Rutiner og lei…</td><td>1</td><td>&quot;Lokaler og uts…</td><td>&quot;Lokaler og uts…</td><td>1</td><td>&quot;Mat-håndtering…</td><td>&quot;Mat-handtering…</td><td>1</td><td>&quot;Merking og spo…</td><td>&quot;Merking og spo…</td><td>0</td><td>2016</td></tr><tr><td>&quot;Z1006120609250…</td><td>987770740</td><td>&quot;Aktiven skihei…</td><td>&quot;Kvamskogen&quot;</td><td>null</td><td>&quot;5600&quot;</td><td>&quot;NORHEIMSUND&quot;</td><td>&quot;Z1603101430592…</td><td>&quot;2016/53185&quot;</td><td>0</td><td>2016-03-10</td><td>1</td><td>0</td><td>&quot;Rutiner og led…</td><td>&quot;Rutiner og lei…</td><td>0</td><td>&quot;Lokaler og uts…</td><td>&quot;Lokaler og uts…</td><td>0</td><td>&quot;Mat-håndtering…</td><td>&quot;Mat-handtering…</td><td>0</td><td>&quot;Merking og spo…</td><td>&quot;Merking og spo…</td><td>1</td><td>2016</td></tr><tr><td>&quot;Z1107281100559…</td><td>998066662</td><td>&quot;Golfkafeen&quot;</td><td>&quot;Belsjøveien 50…</td><td>null</td><td>&quot;1445&quot;</td><td>&quot;DRØBAK&quot;</td><td>&quot;Z1605111530190…</td><td>&quot;2016/106865&quot;</td><td>0</td><td>2016-05-11</td><td>1</td><td>0</td><td>&quot;Rutiner og led…</td><td>&quot;Rutiner og lei…</td><td>0</td><td>&quot;Lokaler og uts…</td><td>&quot;Lokaler og uts…</td><td>1</td><td>&quot;Mat-håndtering…</td><td>&quot;Mat-handtering…</td><td>0</td><td>&quot;Merking og spo…</td><td>&quot;Merking og spo…</td><td>1</td><td>2016</td></tr><tr><td>&quot;Z1205111414434…</td><td>972297925</td><td>&quot;Fargeriet Café…</td><td>&quot;Ivar Aasgaards…</td><td>&quot;Arna Næringspa…</td><td>&quot;5265&quot;</td><td>&quot;YTRE ARNA&quot;</td><td>&quot;Z1605201329276…</td><td>&quot;2016/113661&quot;</td><td>0</td><td>2016-05-19</td><td>1</td><td>0</td><td>&quot;Rutiner og led…</td><td>&quot;Rutiner og lei…</td><td>1</td><td>&quot;Lokaler og uts…</td><td>&quot;Lokaler og uts…</td><td>0</td><td>&quot;Mat-håndtering…</td><td>&quot;Mat-handtering…</td><td>0</td><td>&quot;Merking og spo…</td><td>&quot;Merking og spo…</td><td>0</td><td>2016</td></tr><tr><td>&quot;Z1305061320139…</td><td>911860805</td><td>&quot;Marianne Baker…</td><td>&quot;ODDEN 2&quot;</td><td>null</td><td>&quot;5745&quot;</td><td>&quot;AURLAND&quot;</td><td>&quot;Z1601281551398…</td><td>&quot;2016/20626&quot;</td><td>0</td><td>2016-01-28</td><td>3</td><td>0</td><td>&quot;Rutiner og led…</td><td>&quot;Rutiner og lei…</td><td>2</td><td>&quot;Lokaler og uts…</td><td>&quot;Lokaler og uts…</td><td>3</td><td>&quot;Mat-håndtering…</td><td>&quot;Mat-handtering…</td><td>1</td><td>&quot;Merking og spo…</td><td>&quot;Merking og spo…</td><td>2</td><td>2016</td></tr><tr><td>&quot;Z1301040959396…</td><td>975039129</td><td>&quot;Solbrød Nesttu…</td><td>&quot;Østre Nesttunv…</td><td>null</td><td>&quot;5221&quot;</td><td>&quot;NESTTUN&quot;</td><td>&quot;Z1602011352244…</td><td>&quot;2016/22950&quot;</td><td>0</td><td>2016-01-29</td><td>1</td><td>0</td><td>&quot;Rutiner og led…</td><td>&quot;Rutiner og lei…</td><td>0</td><td>&quot;Lokaler og uts…</td><td>&quot;Lokaler og uts…</td><td>0</td><td>&quot;Mat-håndtering…</td><td>&quot;Mat-handtering…</td><td>0</td><td>&quot;Merking og spo…</td><td>&quot;Merking og spo…</td><td>1</td><td>2016</td></tr><tr><td>&quot;Z1509021733238…</td><td>916327463</td><td>&quot;Suvi&quot;</td><td>&quot;Grønnegata 48&quot;</td><td>null</td><td>&quot;9008&quot;</td><td>&quot;TROMSØ&quot;</td><td>&quot;Z1602181546569…</td><td>&quot;2016/36480&quot;</td><td>0</td><td>2016-02-17</td><td>2</td><td>0</td><td>&quot;Rutiner og led…</td><td>&quot;Rutiner og lei…</td><td>0</td><td>&quot;Lokaler og uts…</td><td>&quot;Lokaler og uts…</td><td>2</td><td>&quot;Mat-håndtering…</td><td>&quot;Mat-handtering…</td><td>0</td><td>&quot;Merking og spo…</td><td>&quot;Merking og spo…</td><td>0</td><td>2016</td></tr><tr><td>&quot;Z1411211039297…</td><td>914430925</td><td>&quot;Cafe Jeanette&quot;</td><td>&quot;BRUGATA 16&quot;</td><td>null</td><td>&quot;2380&quot;</td><td>&quot;BRUMUNDDAL&quot;</td><td>&quot;Z1602091334400…</td><td>&quot;2016/29434&quot;</td><td>0</td><td>2016-02-09</td><td>0</td><td>0</td><td>&quot;Rutiner og led…</td><td>&quot;Rutiner og lei…</td><td>0</td><td>&quot;Lokaler og uts…</td><td>&quot;Lokaler og uts…</td><td>0</td><td>&quot;Mat-håndtering…</td><td>&quot;Mat-handtering…</td><td>0</td><td>&quot;Merking og spo…</td><td>&quot;Merking og spo…</td><td>0</td><td>2016</td></tr><tr><td>&quot;Z1006060857546…</td><td>979931069</td><td>&quot;Jafs Sem&quot;</td><td>&quot;Semsbyveien 94…</td><td>null</td><td>&quot;3170&quot;</td><td>&quot;SEM&quot;</td><td>&quot;Z1603301156458…</td><td>&quot;2016/68720&quot;</td><td>0</td><td>2016-03-30</td><td>1</td><td>0</td><td>&quot;Rutiner og led…</td><td>&quot;Rutiner og lei…</td><td>0</td><td>&quot;Lokaler og uts…</td><td>&quot;Lokaler og uts…</td><td>1</td><td>&quot;Mat-håndtering…</td><td>&quot;Mat-handtering…</td><td>0</td><td>&quot;Merking og spo…</td><td>&quot;Merking og spo…</td><td>0</td><td>2016</td></tr><tr><td>&quot;Z1410171453232…</td><td>995870258</td><td>&quot;Brumunddal Sus…</td><td>&quot;BRUGATA 1&quot;</td><td>null</td><td>&quot;2380&quot;</td><td>&quot;BRUMUNDDAL&quot;</td><td>&quot;Z1605060831207…</td><td>&quot;2016/102195&quot;</td><td>0</td><td>2016-05-04</td><td>2</td><td>0</td><td>&quot;Rutiner og led…</td><td>&quot;Rutiner og lei…</td><td>2</td><td>&quot;Lokaler og uts…</td><td>&quot;Lokaler og uts…</td><td>2</td><td>&quot;Mat-håndtering…</td><td>&quot;Mat-handtering…</td><td>2</td><td>&quot;Merking og spo…</td><td>&quot;Merking og spo…</td><td>2</td><td>2016</td></tr><tr><td>&quot;Z1603221429551…</td><td>988105376</td><td>&quot;Fire Årstider&quot;</td><td>&quot; SLEPENDVEIEN …</td><td>null</td><td>&quot;1341&quot;</td><td>&quot;SLEPENDEN&quot;</td><td>&quot;Z1605241003391…</td><td>&quot;2016/114566&quot;</td><td>0</td><td>2016-05-23</td><td>1</td><td>0</td><td>&quot;Rutiner og led…</td><td>&quot;Rutiner og lei…</td><td>0</td><td>&quot;Lokaler og uts…</td><td>&quot;Lokaler og uts…</td><td>1</td><td>&quot;Mat-håndtering…</td><td>&quot;Mat-handtering…</td><td>0</td><td>&quot;Merking og spo…</td><td>&quot;Merking og spo…</td><td>1</td><td>2016</td></tr><tr><td>&quot;Z1403271433336…</td><td>913525205</td><td>&quot;Tante Pose&quot;</td><td>&quot;Joakim Bredvol…</td><td>null</td><td>&quot;7170&quot;</td><td>&quot;ÅFJORD&quot;</td><td>&quot;Z1602191528258…</td><td>&quot;2016/36489&quot;</td><td>0</td><td>2016-02-19</td><td>1</td><td>0</td><td>&quot;Rutiner og led…</td><td>&quot;Rutiner og lei…</td><td>0</td><td>&quot;Lokaler og uts…</td><td>&quot;Lokaler og uts…</td><td>0</td><td>&quot;Mat-håndtering…</td><td>&quot;Mat-handtering…</td><td>0</td><td>&quot;Merking og spo…</td><td>&quot;Merking og spo…</td><td>1</td><td>2016</td></tr><tr><td>&hellip;</td><td>&hellip;</td><td>&hellip;</td><td>&hellip;</td><td>&hellip;</td><td>&hellip;</td><td>&hellip;</td><td>&hellip;</td><td>&hellip;</td><td>&hellip;</td><td>&hellip;</td><td>&hellip;</td><td>&hellip;</td><td>&hellip;</td><td>&hellip;</td><td>&hellip;</td><td>&hellip;</td><td>&hellip;</td><td>&hellip;</td><td>&hellip;</td><td>&hellip;</td><td>&hellip;</td><td>&hellip;</td><td>&hellip;</td><td>&hellip;</td><td>&hellip;</td></tr><tr><td>&quot;Z2401181802522…</td><td>832145432</td><td>&quot;Fratm.&quot;</td><td>&quot;Youngstorget 3…</td><td>null</td><td>&quot;0181&quot;</td><td>&quot;OSLO&quot;</td><td>&quot;Z2401181841460…</td><td>&quot;2024/13331&quot;</td><td>0</td><td>2024-01-18</td><td>1</td><td>0</td><td>&quot;Rutiner og led…</td><td>&quot;Rutiner og lei…</td><td>null</td><td>&quot;Lokaler og uts…</td><td>&quot;Lokaler og uts…</td><td>1</td><td>&quot;Mat-håndtering…</td><td>&quot;Mat-handtering…</td><td>0</td><td>&quot;Merking og spo…</td><td>&quot;Merking og spo…</td><td>1</td><td>2024</td></tr><tr><td>&quot;Z2108061750394…</td><td>925023337</td><td>&quot;Isan Kitchen &quot;</td><td>&quot;Thorvald Meyer…</td><td>null</td><td>&quot;0552&quot;</td><td>&quot;OSLO&quot;</td><td>&quot;Z2310131727502…</td><td>&quot;2023/219423&quot;</td><td>0</td><td>2023-10-13</td><td>2</td><td>0</td><td>&quot;Rutiner og led…</td><td>&quot;Rutiner og lei…</td><td>2</td><td>&quot;Lokaler og uts…</td><td>&quot;Lokaler og uts…</td><td>2</td><td>&quot;Mat-håndtering…</td><td>&quot;Mat-handtering…</td><td>2</td><td>&quot;Merking og spo…</td><td>&quot;Merking og spo…</td><td>0</td><td>2023</td></tr><tr><td>&quot;Z2201211304574…</td><td>997372654</td><td>&quot;Nordby Bakeri …</td><td>&quot;Vogellund 6&quot;</td><td>null</td><td>&quot;1394&quot;</td><td>&quot;NESBRU&quot;</td><td>&quot;Z2401171217303…</td><td>&quot;2024/11311&quot;</td><td>0</td><td>2024-01-17</td><td>2</td><td>0</td><td>&quot;Rutiner og led…</td><td>&quot;Rutiner og lei…</td><td>0</td><td>&quot;Lokaler og uts…</td><td>&quot;Lokaler og uts…</td><td>2</td><td>&quot;Mat-håndtering…</td><td>&quot;Mat-handtering…</td><td>1</td><td>&quot;Merking og spo…</td><td>&quot;Merking og spo…</td><td>0</td><td>2024</td></tr><tr><td>&quot;Z1411211039297…</td><td>914430925</td><td>&quot;Cafe Jeanette&quot;</td><td>&quot;BRUGATA 16&quot;</td><td>null</td><td>&quot;2380&quot;</td><td>&quot;BRUMUNDDAL&quot;</td><td>&quot;Z2310191326447…</td><td>&quot;2023/223934&quot;</td><td>0</td><td>2023-10-19</td><td>1</td><td>0</td><td>&quot;Rutiner og led…</td><td>&quot;Rutiner og lei…</td><td>0</td><td>&quot;Lokaler og uts…</td><td>&quot;Lokaler og uts…</td><td>1</td><td>&quot;Mat-håndtering…</td><td>&quot;Mat-handtering…</td><td>0</td><td>&quot;Merking og spo…</td><td>&quot;Merking og spo…</td><td>0</td><td>2023</td></tr><tr><td>&quot;Z1012021401188…</td><td>972225479</td><td>&quot;Long Cheng Res…</td><td>&quot;KONGENS GATE 2…</td><td>null</td><td>&quot;6002&quot;</td><td>&quot;ÅLESUND&quot;</td><td>&quot;Z2311031838291…</td><td>&quot;2023/237061&quot;</td><td>0</td><td>2023-11-03</td><td>0</td><td>0</td><td>&quot;Rutiner og led…</td><td>&quot;Rutiner og lei…</td><td>0</td><td>&quot;Lokaler og uts…</td><td>&quot;Lokaler og uts…</td><td>0</td><td>&quot;Mat-håndtering…</td><td>&quot;Mat-handtering…</td><td>0</td><td>&quot;Merking og spo…</td><td>&quot;Merking og spo…</td><td>0</td><td>2023</td></tr><tr><td>&quot;Z1905012044289…</td><td>917586039</td><td>&quot;Joe &amp; The Juic…</td><td>&quot;Dronning Eufem…</td><td>null</td><td>&quot;0194&quot;</td><td>&quot;OSLO&quot;</td><td>&quot;Z2311241227190…</td><td>&quot;2023/252934&quot;</td><td>0</td><td>2023-11-24</td><td>1</td><td>0</td><td>&quot;Rutiner og led…</td><td>&quot;Rutiner og lei…</td><td>0</td><td>&quot;Lokaler og uts…</td><td>&quot;Lokaler og uts…</td><td>1</td><td>&quot;Mat-håndtering…</td><td>&quot;Mat-handtering…</td><td>0</td><td>&quot;Merking og spo…</td><td>&quot;Merking og spo…</td><td>0</td><td>2023</td></tr><tr><td>&quot;Z1504231422208…</td><td>883138112</td><td>&quot;SAN MARINO PIZ…</td><td>&quot;STRANDGATA 17A…</td><td>null</td><td>&quot;2815&quot;</td><td>&quot;GJØVIK&quot;</td><td>&quot;Z2401101415351…</td><td>&quot;2024/6482&quot;</td><td>0</td><td>2024-01-10</td><td>1</td><td>0</td><td>&quot;Rutiner og led…</td><td>&quot;Rutiner og lei…</td><td>0</td><td>&quot;Lokaler og uts…</td><td>&quot;Lokaler og uts…</td><td>1</td><td>&quot;Mat-håndtering…</td><td>&quot;Mat-handtering…</td><td>0</td><td>&quot;Merking og spo…</td><td>&quot;Merking og spo…</td><td>0</td><td>2024</td></tr><tr><td>&quot;Z2309271241301…</td><td>932158868</td><td>&quot;Tinholt bakeri…</td><td>&quot;LIEGATA 9&quot;</td><td>null</td><td>&quot;3717&quot;</td><td>&quot;Skien&quot;</td><td>&quot;Z2310241237046…</td><td>&quot;2023/224916&quot;</td><td>0</td><td>2023-10-24</td><td>1</td><td>0</td><td>&quot;Rutiner og led…</td><td>&quot;Rutiner og lei…</td><td>0</td><td>&quot;Lokaler og uts…</td><td>&quot;Lokaler og uts…</td><td>1</td><td>&quot;Mat-håndtering…</td><td>&quot;Mat-handtering…</td><td>0</td><td>&quot;Merking og spo…</td><td>&quot;Merking og spo…</td><td>0</td><td>2023</td></tr><tr><td>&quot;Z1204270921043…</td><td>998775779</td><td>&quot;Verona Pizza o…</td><td>&quot;Brugata 10&quot;</td><td>null</td><td>&quot;0186&quot;</td><td>&quot;OSLO&quot;</td><td>&quot;Z2310251858238…</td><td>&quot;2023/228934&quot;</td><td>0</td><td>2023-10-25</td><td>1</td><td>0</td><td>&quot;Rutiner og led…</td><td>&quot;Rutiner og lei…</td><td>0</td><td>&quot;Lokaler og uts…</td><td>&quot;Lokaler og uts…</td><td>1</td><td>&quot;Mat-håndtering…</td><td>&quot;Mat-handtering…</td><td>1</td><td>&quot;Merking og spo…</td><td>&quot;Merking og spo…</td><td>0</td><td>2023</td></tr><tr><td>&quot;Z2111151423051…</td><td>818056982</td><td>&quot;Delicia Jernba…</td><td>&quot;Jernbanetorget…</td><td>null</td><td>&quot;0154&quot;</td><td>&quot;OSLO&quot;</td><td>&quot;Z2312041357301…</td><td>&quot;2023/259192&quot;</td><td>0</td><td>2023-12-04</td><td>2</td><td>0</td><td>&quot;Rutiner og led…</td><td>&quot;Rutiner og lei…</td><td>2</td><td>&quot;Lokaler og uts…</td><td>&quot;Lokaler og uts…</td><td>2</td><td>&quot;Mat-håndtering…</td><td>&quot;Mat-handtering…</td><td>2</td><td>&quot;Merking og spo…</td><td>&quot;Merking og spo…</td><td>2</td><td>2023</td></tr><tr><td>&quot;Z2011031709491…</td><td>924772417</td><td>&quot;Sabi Sushi Ege…</td><td>&quot;Sandakergaten …</td><td>null</td><td>&quot;4370&quot;</td><td>&quot;EGERSUND&quot;</td><td>&quot;Z2311280728222…</td><td>&quot;2023/245218&quot;</td><td>0</td><td>2023-11-28</td><td>0</td><td>1</td><td>&quot;Rutiner og led…</td><td>&quot;Rutiner og lei…</td><td>0</td><td>&quot;Lokaler og uts…</td><td>&quot;Lokaler og uts…</td><td>0</td><td>&quot;Mat-håndtering…</td><td>&quot;Mat-handtering…</td><td>0</td><td>&quot;Merking og spo…</td><td>&quot;Merking og spo…</td><td>0</td><td>2023</td></tr><tr><td>&quot;Z1006072022472…</td><td>979163967</td><td>&quot;Milano Rena&quot;</td><td>&quot;Tollef Kildes …</td><td>null</td><td>&quot;2450&quot;</td><td>&quot;RENA&quot;</td><td>&quot;Z2311281607387…</td><td>&quot;2023/255290&quot;</td><td>0</td><td>2023-11-28</td><td>0</td><td>0</td><td>&quot;Rutiner og led…</td><td>&quot;Rutiner og lei…</td><td>0</td><td>&quot;Lokaler og uts…</td><td>&quot;Lokaler og uts…</td><td>0</td><td>&quot;Mat-håndtering…</td><td>&quot;Mat-handtering…</td><td>0</td><td>&quot;Merking og spo…</td><td>&quot;Merking og spo…</td><td>0</td><td>2023</td></tr></tbody></table></div>"
      ],
      "text/plain": [
       "shape: (44_536, 26)\n",
       "┌───────────────────────────────────┬───────────┬───────────────────────────────────┬───────────────────────┬───┬───────────────────────┬────────────────────────┬───────────┬──────┐\n",
       "│ tilsynsobjektid                   ┆ orgnummer ┆ navn                              ┆ adrlinje1             ┆ … ┆ tema4_no              ┆ tema4_nn               ┆ karakter4 ┆ year │\n",
       "│ ---                               ┆ ---       ┆ ---                               ┆ ---                   ┆   ┆ ---                   ┆ ---                    ┆ ---       ┆ ---  │\n",
       "│ str                               ┆ i64       ┆ str                               ┆ str                   ┆   ┆ str                   ┆ str                    ┆ i64       ┆ i32  │\n",
       "╞═══════════════════════════════════╪═══════════╪═══════════════════════════════════╪═══════════════════════╪═══╪═══════════════════════╪════════════════════════╪═══════════╪══════╡\n",
       "│ Z1501071230082032024GTOXC_Tilsyn… ┆ 914541034 ┆ Bakeriet i Brumunddal avdeling C… ┆ VANGSVEGEN 62         ┆ … ┆ Merking og sporbarhet ┆ Merking og sporbarheit ┆ 0         ┆ 2016 │\n",
       "│ Z1006120609250331126HFNXO_Tilsyn… ┆ 987770740 ┆ Aktiven skiheis - Varmestova og … ┆ Kvamskogen            ┆ … ┆ Merking og sporbarhet ┆ Merking og sporbarheit ┆ 1         ┆ 2016 │\n",
       "│ Z1107281100559960160KWPRX_Tilsyn… ┆ 998066662 ┆ Golfkafeen                        ┆ Belsjøveien 50        ┆ … ┆ Merking og sporbarhet ┆ Merking og sporbarheit ┆ 1         ┆ 2016 │\n",
       "│ Z1205111414434020144PXTCM_Tilsyn… ┆ 972297925 ┆ Fargeriet Café                    ┆ Ivar Aasgaardsveg 1   ┆ … ┆ Merking og sporbarhet ┆ Merking og sporbarheit ┆ 0         ┆ 2016 │\n",
       "│ Z1305061320139293177THOPJ_Tilsyn… ┆ 911860805 ┆ Marianne Bakeri og Kafe           ┆ ODDEN 2               ┆ … ┆ Merking og sporbarhet ┆ Merking og sporbarheit ┆ 2         ┆ 2016 │\n",
       "│ …                                 ┆ …         ┆ …                                 ┆ …                     ┆ … ┆ …                     ┆ …                      ┆ …         ┆ …    │\n",
       "│ Z2309271241301782024NHDHO_Tilsyn… ┆ 932158868 ┆ Tinholt bakeri - Lietorvet        ┆ LIEGATA 9             ┆ … ┆ Merking og sporbarhet ┆ Merking og sporbarheit ┆ 0         ┆ 2023 │\n",
       "│ Z1204270921043750193OYUMT_Tilsyn… ┆ 998775779 ┆ Verona Pizza og kebab             ┆ Brugata 10            ┆ … ┆ Merking og sporbarhet ┆ Merking og sporbarheit ┆ 0         ┆ 2023 │\n",
       "│ Z2111151423051540127XABKH_Tilsyn… ┆ 818056982 ┆ Delicia Jernbantorget             ┆ Jernbanetorget 6      ┆ … ┆ Merking og sporbarhet ┆ Merking og sporbarheit ┆ 2         ┆ 2023 │\n",
       "│ Z2011031709491430128SFCDS_Tilsyn… ┆ 924772417 ┆ Sabi Sushi Egersund               ┆ Sandakergaten 9       ┆ … ┆ Merking og sporbarhet ┆ Merking og sporbarheit ┆ 0         ┆ 2023 │\n",
       "│ Z1006072022472081190LRBZE_Tilsyn… ┆ 979163967 ┆ Milano Rena                       ┆ Tollef Kildes gate 31 ┆ … ┆ Merking og sporbarhet ┆ Merking og sporbarheit ┆ 0         ┆ 2023 │\n",
       "└───────────────────────────────────┴───────────┴───────────────────────────────────┴───────────────────────┴───┴───────────────────────┴────────────────────────┴───────────┴──────┘"
      ]
     },
     "execution_count": 37,
     "metadata": {},
     "output_type": "execute_result"
    }
   ],
   "source": [
    "df_t.with_columns(\n",
    "    year=pl.col(\"dato\").dt.year()\n",
    ")"
   ]
  },
  {
   "cell_type": "code",
   "execution_count": 38,
   "id": "408f7eabd34a73a9",
   "metadata": {
    "collapsed": false,
    "jupyter": {
     "outputs_hidden": false
    }
   },
   "outputs": [
    {
     "data": {
      "text/html": [
       "<div><style>\n",
       ".dataframe > thead > tr,\n",
       ".dataframe > tbody > tr {\n",
       "  text-align: right;\n",
       "  white-space: pre-wrap;\n",
       "}\n",
       "</style>\n",
       "<small>shape: (44_536, 25)</small><table border=\"1\" class=\"dataframe\"><thead><tr><th>tilsynsobjektid</th><th>orgnummer</th><th>navn</th><th>adrlinje1</th><th>adrlinje2</th><th>postnr</th><th>poststed</th><th>tilsynid</th><th>sakref</th><th>status</th><th>dato</th><th>total_karakter</th><th>tilsynsbesoektype</th><th>tema1_no</th><th>tema1_nn</th><th>karakter1</th><th>tema2_no</th><th>tema2_nn</th><th>karakter2</th><th>tema3_no</th><th>tema3_nn</th><th>karakter3</th><th>tema4_no</th><th>tema4_nn</th><th>karakter4</th></tr><tr><td>str</td><td>i64</td><td>str</td><td>str</td><td>str</td><td>str</td><td>str</td><td>str</td><td>str</td><td>i64</td><td>date</td><td>i64</td><td>i64</td><td>str</td><td>str</td><td>i64</td><td>str</td><td>str</td><td>i64</td><td>str</td><td>str</td><td>i64</td><td>str</td><td>str</td><td>i64</td></tr></thead><tbody><tr><td>&quot;Z1501071230082…</td><td>914541034</td><td>&quot;Bakeriet i Bru…</td><td>&quot;VANGSVEGEN 62&quot;</td><td>null</td><td>&quot;2317&quot;</td><td>&quot;Hamar&quot;</td><td>&quot;Z1601211510285…</td><td>&quot;2016/6663&quot;</td><td>0</td><td>2016-01-21</td><td>1</td><td>0</td><td>&quot;Rutiner og led…</td><td>&quot;Rutiner og lei…</td><td>1</td><td>&quot;Lokaler og uts…</td><td>&quot;Lokaler og uts…</td><td>1</td><td>&quot;Mat-håndtering…</td><td>&quot;Mat-handtering…</td><td>1</td><td>&quot;Merking og spo…</td><td>&quot;Merking og spo…</td><td>0</td></tr><tr><td>&quot;Z1006120609250…</td><td>987770740</td><td>&quot;Aktiven skihei…</td><td>&quot;Kvamskogen&quot;</td><td>null</td><td>&quot;5600&quot;</td><td>&quot;Norheimsund&quot;</td><td>&quot;Z1603101430592…</td><td>&quot;2016/53185&quot;</td><td>0</td><td>2016-03-10</td><td>1</td><td>0</td><td>&quot;Rutiner og led…</td><td>&quot;Rutiner og lei…</td><td>0</td><td>&quot;Lokaler og uts…</td><td>&quot;Lokaler og uts…</td><td>0</td><td>&quot;Mat-håndtering…</td><td>&quot;Mat-handtering…</td><td>0</td><td>&quot;Merking og spo…</td><td>&quot;Merking og spo…</td><td>1</td></tr><tr><td>&quot;Z1107281100559…</td><td>998066662</td><td>&quot;Golfkafeen&quot;</td><td>&quot;Belsjøveien 50…</td><td>null</td><td>&quot;1445&quot;</td><td>&quot;Drøbak&quot;</td><td>&quot;Z1605111530190…</td><td>&quot;2016/106865&quot;</td><td>0</td><td>2016-05-11</td><td>1</td><td>0</td><td>&quot;Rutiner og led…</td><td>&quot;Rutiner og lei…</td><td>0</td><td>&quot;Lokaler og uts…</td><td>&quot;Lokaler og uts…</td><td>1</td><td>&quot;Mat-håndtering…</td><td>&quot;Mat-handtering…</td><td>0</td><td>&quot;Merking og spo…</td><td>&quot;Merking og spo…</td><td>1</td></tr><tr><td>&quot;Z1205111414434…</td><td>972297925</td><td>&quot;Fargeriet Café…</td><td>&quot;Ivar Aasgaards…</td><td>&quot;Arna Næringspa…</td><td>&quot;5265&quot;</td><td>&quot;Ytre arna&quot;</td><td>&quot;Z1605201329276…</td><td>&quot;2016/113661&quot;</td><td>0</td><td>2016-05-19</td><td>1</td><td>0</td><td>&quot;Rutiner og led…</td><td>&quot;Rutiner og lei…</td><td>1</td><td>&quot;Lokaler og uts…</td><td>&quot;Lokaler og uts…</td><td>0</td><td>&quot;Mat-håndtering…</td><td>&quot;Mat-handtering…</td><td>0</td><td>&quot;Merking og spo…</td><td>&quot;Merking og spo…</td><td>0</td></tr><tr><td>&quot;Z1305061320139…</td><td>911860805</td><td>&quot;Marianne Baker…</td><td>&quot;ODDEN 2&quot;</td><td>null</td><td>&quot;5745&quot;</td><td>&quot;Aurland&quot;</td><td>&quot;Z1601281551398…</td><td>&quot;2016/20626&quot;</td><td>0</td><td>2016-01-28</td><td>3</td><td>0</td><td>&quot;Rutiner og led…</td><td>&quot;Rutiner og lei…</td><td>2</td><td>&quot;Lokaler og uts…</td><td>&quot;Lokaler og uts…</td><td>3</td><td>&quot;Mat-håndtering…</td><td>&quot;Mat-handtering…</td><td>1</td><td>&quot;Merking og spo…</td><td>&quot;Merking og spo…</td><td>2</td></tr><tr><td>&quot;Z1301040959396…</td><td>975039129</td><td>&quot;Solbrød Nesttu…</td><td>&quot;Østre Nesttunv…</td><td>null</td><td>&quot;5221&quot;</td><td>&quot;Nesttun&quot;</td><td>&quot;Z1602011352244…</td><td>&quot;2016/22950&quot;</td><td>0</td><td>2016-01-29</td><td>1</td><td>0</td><td>&quot;Rutiner og led…</td><td>&quot;Rutiner og lei…</td><td>0</td><td>&quot;Lokaler og uts…</td><td>&quot;Lokaler og uts…</td><td>0</td><td>&quot;Mat-håndtering…</td><td>&quot;Mat-handtering…</td><td>0</td><td>&quot;Merking og spo…</td><td>&quot;Merking og spo…</td><td>1</td></tr><tr><td>&quot;Z1509021733238…</td><td>916327463</td><td>&quot;Suvi&quot;</td><td>&quot;Grønnegata 48&quot;</td><td>null</td><td>&quot;9008&quot;</td><td>&quot;Tromsø&quot;</td><td>&quot;Z1602181546569…</td><td>&quot;2016/36480&quot;</td><td>0</td><td>2016-02-17</td><td>2</td><td>0</td><td>&quot;Rutiner og led…</td><td>&quot;Rutiner og lei…</td><td>0</td><td>&quot;Lokaler og uts…</td><td>&quot;Lokaler og uts…</td><td>2</td><td>&quot;Mat-håndtering…</td><td>&quot;Mat-handtering…</td><td>0</td><td>&quot;Merking og spo…</td><td>&quot;Merking og spo…</td><td>0</td></tr><tr><td>&quot;Z1411211039297…</td><td>914430925</td><td>&quot;Cafe Jeanette&quot;</td><td>&quot;BRUGATA 16&quot;</td><td>null</td><td>&quot;2380&quot;</td><td>&quot;Brumunddal&quot;</td><td>&quot;Z1602091334400…</td><td>&quot;2016/29434&quot;</td><td>0</td><td>2016-02-09</td><td>0</td><td>0</td><td>&quot;Rutiner og led…</td><td>&quot;Rutiner og lei…</td><td>0</td><td>&quot;Lokaler og uts…</td><td>&quot;Lokaler og uts…</td><td>0</td><td>&quot;Mat-håndtering…</td><td>&quot;Mat-handtering…</td><td>0</td><td>&quot;Merking og spo…</td><td>&quot;Merking og spo…</td><td>0</td></tr><tr><td>&quot;Z1006060857546…</td><td>979931069</td><td>&quot;Jafs Sem&quot;</td><td>&quot;Semsbyveien 94…</td><td>null</td><td>&quot;3170&quot;</td><td>&quot;Sem&quot;</td><td>&quot;Z1603301156458…</td><td>&quot;2016/68720&quot;</td><td>0</td><td>2016-03-30</td><td>1</td><td>0</td><td>&quot;Rutiner og led…</td><td>&quot;Rutiner og lei…</td><td>0</td><td>&quot;Lokaler og uts…</td><td>&quot;Lokaler og uts…</td><td>1</td><td>&quot;Mat-håndtering…</td><td>&quot;Mat-handtering…</td><td>0</td><td>&quot;Merking og spo…</td><td>&quot;Merking og spo…</td><td>0</td></tr><tr><td>&quot;Z1410171453232…</td><td>995870258</td><td>&quot;Brumunddal Sus…</td><td>&quot;BRUGATA 1&quot;</td><td>null</td><td>&quot;2380&quot;</td><td>&quot;Brumunddal&quot;</td><td>&quot;Z1605060831207…</td><td>&quot;2016/102195&quot;</td><td>0</td><td>2016-05-04</td><td>2</td><td>0</td><td>&quot;Rutiner og led…</td><td>&quot;Rutiner og lei…</td><td>2</td><td>&quot;Lokaler og uts…</td><td>&quot;Lokaler og uts…</td><td>2</td><td>&quot;Mat-håndtering…</td><td>&quot;Mat-handtering…</td><td>2</td><td>&quot;Merking og spo…</td><td>&quot;Merking og spo…</td><td>2</td></tr><tr><td>&quot;Z1603221429551…</td><td>988105376</td><td>&quot;Fire Årstider&quot;</td><td>&quot; SLEPENDVEIEN …</td><td>null</td><td>&quot;1341&quot;</td><td>&quot;Slependen&quot;</td><td>&quot;Z1605241003391…</td><td>&quot;2016/114566&quot;</td><td>0</td><td>2016-05-23</td><td>1</td><td>0</td><td>&quot;Rutiner og led…</td><td>&quot;Rutiner og lei…</td><td>0</td><td>&quot;Lokaler og uts…</td><td>&quot;Lokaler og uts…</td><td>1</td><td>&quot;Mat-håndtering…</td><td>&quot;Mat-handtering…</td><td>0</td><td>&quot;Merking og spo…</td><td>&quot;Merking og spo…</td><td>1</td></tr><tr><td>&quot;Z1403271433336…</td><td>913525205</td><td>&quot;Tante Pose&quot;</td><td>&quot;Joakim Bredvol…</td><td>null</td><td>&quot;7170&quot;</td><td>&quot;Åfjord&quot;</td><td>&quot;Z1602191528258…</td><td>&quot;2016/36489&quot;</td><td>0</td><td>2016-02-19</td><td>1</td><td>0</td><td>&quot;Rutiner og led…</td><td>&quot;Rutiner og lei…</td><td>0</td><td>&quot;Lokaler og uts…</td><td>&quot;Lokaler og uts…</td><td>0</td><td>&quot;Mat-håndtering…</td><td>&quot;Mat-handtering…</td><td>0</td><td>&quot;Merking og spo…</td><td>&quot;Merking og spo…</td><td>1</td></tr><tr><td>&hellip;</td><td>&hellip;</td><td>&hellip;</td><td>&hellip;</td><td>&hellip;</td><td>&hellip;</td><td>&hellip;</td><td>&hellip;</td><td>&hellip;</td><td>&hellip;</td><td>&hellip;</td><td>&hellip;</td><td>&hellip;</td><td>&hellip;</td><td>&hellip;</td><td>&hellip;</td><td>&hellip;</td><td>&hellip;</td><td>&hellip;</td><td>&hellip;</td><td>&hellip;</td><td>&hellip;</td><td>&hellip;</td><td>&hellip;</td><td>&hellip;</td></tr><tr><td>&quot;Z2401181802522…</td><td>832145432</td><td>&quot;Fratm.&quot;</td><td>&quot;Youngstorget 3…</td><td>null</td><td>&quot;0181&quot;</td><td>&quot;Oslo&quot;</td><td>&quot;Z2401181841460…</td><td>&quot;2024/13331&quot;</td><td>0</td><td>2024-01-18</td><td>1</td><td>0</td><td>&quot;Rutiner og led…</td><td>&quot;Rutiner og lei…</td><td>null</td><td>&quot;Lokaler og uts…</td><td>&quot;Lokaler og uts…</td><td>1</td><td>&quot;Mat-håndtering…</td><td>&quot;Mat-handtering…</td><td>0</td><td>&quot;Merking og spo…</td><td>&quot;Merking og spo…</td><td>1</td></tr><tr><td>&quot;Z2108061750394…</td><td>925023337</td><td>&quot;Isan Kitchen &quot;</td><td>&quot;Thorvald Meyer…</td><td>null</td><td>&quot;0552&quot;</td><td>&quot;Oslo&quot;</td><td>&quot;Z2310131727502…</td><td>&quot;2023/219423&quot;</td><td>0</td><td>2023-10-13</td><td>2</td><td>0</td><td>&quot;Rutiner og led…</td><td>&quot;Rutiner og lei…</td><td>2</td><td>&quot;Lokaler og uts…</td><td>&quot;Lokaler og uts…</td><td>2</td><td>&quot;Mat-håndtering…</td><td>&quot;Mat-handtering…</td><td>2</td><td>&quot;Merking og spo…</td><td>&quot;Merking og spo…</td><td>0</td></tr><tr><td>&quot;Z2201211304574…</td><td>997372654</td><td>&quot;Nordby Bakeri …</td><td>&quot;Vogellund 6&quot;</td><td>null</td><td>&quot;1394&quot;</td><td>&quot;Nesbru&quot;</td><td>&quot;Z2401171217303…</td><td>&quot;2024/11311&quot;</td><td>0</td><td>2024-01-17</td><td>2</td><td>0</td><td>&quot;Rutiner og led…</td><td>&quot;Rutiner og lei…</td><td>0</td><td>&quot;Lokaler og uts…</td><td>&quot;Lokaler og uts…</td><td>2</td><td>&quot;Mat-håndtering…</td><td>&quot;Mat-handtering…</td><td>1</td><td>&quot;Merking og spo…</td><td>&quot;Merking og spo…</td><td>0</td></tr><tr><td>&quot;Z1411211039297…</td><td>914430925</td><td>&quot;Cafe Jeanette&quot;</td><td>&quot;BRUGATA 16&quot;</td><td>null</td><td>&quot;2380&quot;</td><td>&quot;Brumunddal&quot;</td><td>&quot;Z2310191326447…</td><td>&quot;2023/223934&quot;</td><td>0</td><td>2023-10-19</td><td>1</td><td>0</td><td>&quot;Rutiner og led…</td><td>&quot;Rutiner og lei…</td><td>0</td><td>&quot;Lokaler og uts…</td><td>&quot;Lokaler og uts…</td><td>1</td><td>&quot;Mat-håndtering…</td><td>&quot;Mat-handtering…</td><td>0</td><td>&quot;Merking og spo…</td><td>&quot;Merking og spo…</td><td>0</td></tr><tr><td>&quot;Z1012021401188…</td><td>972225479</td><td>&quot;Long Cheng Res…</td><td>&quot;KONGENS GATE 2…</td><td>null</td><td>&quot;6002&quot;</td><td>&quot;Ålesund&quot;</td><td>&quot;Z2311031838291…</td><td>&quot;2023/237061&quot;</td><td>0</td><td>2023-11-03</td><td>0</td><td>0</td><td>&quot;Rutiner og led…</td><td>&quot;Rutiner og lei…</td><td>0</td><td>&quot;Lokaler og uts…</td><td>&quot;Lokaler og uts…</td><td>0</td><td>&quot;Mat-håndtering…</td><td>&quot;Mat-handtering…</td><td>0</td><td>&quot;Merking og spo…</td><td>&quot;Merking og spo…</td><td>0</td></tr><tr><td>&quot;Z1905012044289…</td><td>917586039</td><td>&quot;Joe &amp; The Juic…</td><td>&quot;Dronning Eufem…</td><td>null</td><td>&quot;0194&quot;</td><td>&quot;Oslo&quot;</td><td>&quot;Z2311241227190…</td><td>&quot;2023/252934&quot;</td><td>0</td><td>2023-11-24</td><td>1</td><td>0</td><td>&quot;Rutiner og led…</td><td>&quot;Rutiner og lei…</td><td>0</td><td>&quot;Lokaler og uts…</td><td>&quot;Lokaler og uts…</td><td>1</td><td>&quot;Mat-håndtering…</td><td>&quot;Mat-handtering…</td><td>0</td><td>&quot;Merking og spo…</td><td>&quot;Merking og spo…</td><td>0</td></tr><tr><td>&quot;Z1504231422208…</td><td>883138112</td><td>&quot;SAN MARINO PIZ…</td><td>&quot;STRANDGATA 17A…</td><td>null</td><td>&quot;2815&quot;</td><td>&quot;Gjøvik&quot;</td><td>&quot;Z2401101415351…</td><td>&quot;2024/6482&quot;</td><td>0</td><td>2024-01-10</td><td>1</td><td>0</td><td>&quot;Rutiner og led…</td><td>&quot;Rutiner og lei…</td><td>0</td><td>&quot;Lokaler og uts…</td><td>&quot;Lokaler og uts…</td><td>1</td><td>&quot;Mat-håndtering…</td><td>&quot;Mat-handtering…</td><td>0</td><td>&quot;Merking og spo…</td><td>&quot;Merking og spo…</td><td>0</td></tr><tr><td>&quot;Z2309271241301…</td><td>932158868</td><td>&quot;Tinholt bakeri…</td><td>&quot;LIEGATA 9&quot;</td><td>null</td><td>&quot;3717&quot;</td><td>&quot;Skien&quot;</td><td>&quot;Z2310241237046…</td><td>&quot;2023/224916&quot;</td><td>0</td><td>2023-10-24</td><td>1</td><td>0</td><td>&quot;Rutiner og led…</td><td>&quot;Rutiner og lei…</td><td>0</td><td>&quot;Lokaler og uts…</td><td>&quot;Lokaler og uts…</td><td>1</td><td>&quot;Mat-håndtering…</td><td>&quot;Mat-handtering…</td><td>0</td><td>&quot;Merking og spo…</td><td>&quot;Merking og spo…</td><td>0</td></tr><tr><td>&quot;Z1204270921043…</td><td>998775779</td><td>&quot;Verona Pizza o…</td><td>&quot;Brugata 10&quot;</td><td>null</td><td>&quot;0186&quot;</td><td>&quot;Oslo&quot;</td><td>&quot;Z2310251858238…</td><td>&quot;2023/228934&quot;</td><td>0</td><td>2023-10-25</td><td>1</td><td>0</td><td>&quot;Rutiner og led…</td><td>&quot;Rutiner og lei…</td><td>0</td><td>&quot;Lokaler og uts…</td><td>&quot;Lokaler og uts…</td><td>1</td><td>&quot;Mat-håndtering…</td><td>&quot;Mat-handtering…</td><td>1</td><td>&quot;Merking og spo…</td><td>&quot;Merking og spo…</td><td>0</td></tr><tr><td>&quot;Z2111151423051…</td><td>818056982</td><td>&quot;Delicia Jernba…</td><td>&quot;Jernbanetorget…</td><td>null</td><td>&quot;0154&quot;</td><td>&quot;Oslo&quot;</td><td>&quot;Z2312041357301…</td><td>&quot;2023/259192&quot;</td><td>0</td><td>2023-12-04</td><td>2</td><td>0</td><td>&quot;Rutiner og led…</td><td>&quot;Rutiner og lei…</td><td>2</td><td>&quot;Lokaler og uts…</td><td>&quot;Lokaler og uts…</td><td>2</td><td>&quot;Mat-håndtering…</td><td>&quot;Mat-handtering…</td><td>2</td><td>&quot;Merking og spo…</td><td>&quot;Merking og spo…</td><td>2</td></tr><tr><td>&quot;Z2011031709491…</td><td>924772417</td><td>&quot;Sabi Sushi Ege…</td><td>&quot;Sandakergaten …</td><td>null</td><td>&quot;4370&quot;</td><td>&quot;Egersund&quot;</td><td>&quot;Z2311280728222…</td><td>&quot;2023/245218&quot;</td><td>0</td><td>2023-11-28</td><td>0</td><td>1</td><td>&quot;Rutiner og led…</td><td>&quot;Rutiner og lei…</td><td>0</td><td>&quot;Lokaler og uts…</td><td>&quot;Lokaler og uts…</td><td>0</td><td>&quot;Mat-håndtering…</td><td>&quot;Mat-handtering…</td><td>0</td><td>&quot;Merking og spo…</td><td>&quot;Merking og spo…</td><td>0</td></tr><tr><td>&quot;Z1006072022472…</td><td>979163967</td><td>&quot;Milano Rena&quot;</td><td>&quot;Tollef Kildes …</td><td>null</td><td>&quot;2450&quot;</td><td>&quot;Rena&quot;</td><td>&quot;Z2311281607387…</td><td>&quot;2023/255290&quot;</td><td>0</td><td>2023-11-28</td><td>0</td><td>0</td><td>&quot;Rutiner og led…</td><td>&quot;Rutiner og lei…</td><td>0</td><td>&quot;Lokaler og uts…</td><td>&quot;Lokaler og uts…</td><td>0</td><td>&quot;Mat-håndtering…</td><td>&quot;Mat-handtering…</td><td>0</td><td>&quot;Merking og spo…</td><td>&quot;Merking og spo…</td><td>0</td></tr></tbody></table></div>"
      ],
      "text/plain": [
       "shape: (44_536, 25)\n",
       "┌───────────────────────────────────┬───────────┬───────────────────────────────────┬───────────────────────┬───┬───────────┬───────────────────────┬────────────────────────┬───────────┐\n",
       "│ tilsynsobjektid                   ┆ orgnummer ┆ navn                              ┆ adrlinje1             ┆ … ┆ karakter3 ┆ tema4_no              ┆ tema4_nn               ┆ karakter4 │\n",
       "│ ---                               ┆ ---       ┆ ---                               ┆ ---                   ┆   ┆ ---       ┆ ---                   ┆ ---                    ┆ ---       │\n",
       "│ str                               ┆ i64       ┆ str                               ┆ str                   ┆   ┆ i64       ┆ str                   ┆ str                    ┆ i64       │\n",
       "╞═══════════════════════════════════╪═══════════╪═══════════════════════════════════╪═══════════════════════╪═══╪═══════════╪═══════════════════════╪════════════════════════╪═══════════╡\n",
       "│ Z1501071230082032024GTOXC_Tilsyn… ┆ 914541034 ┆ Bakeriet i Brumunddal avdeling C… ┆ VANGSVEGEN 62         ┆ … ┆ 1         ┆ Merking og sporbarhet ┆ Merking og sporbarheit ┆ 0         │\n",
       "│ Z1006120609250331126HFNXO_Tilsyn… ┆ 987770740 ┆ Aktiven skiheis - Varmestova og … ┆ Kvamskogen            ┆ … ┆ 0         ┆ Merking og sporbarhet ┆ Merking og sporbarheit ┆ 1         │\n",
       "│ Z1107281100559960160KWPRX_Tilsyn… ┆ 998066662 ┆ Golfkafeen                        ┆ Belsjøveien 50        ┆ … ┆ 0         ┆ Merking og sporbarhet ┆ Merking og sporbarheit ┆ 1         │\n",
       "│ Z1205111414434020144PXTCM_Tilsyn… ┆ 972297925 ┆ Fargeriet Café                    ┆ Ivar Aasgaardsveg 1   ┆ … ┆ 0         ┆ Merking og sporbarhet ┆ Merking og sporbarheit ┆ 0         │\n",
       "│ Z1305061320139293177THOPJ_Tilsyn… ┆ 911860805 ┆ Marianne Bakeri og Kafe           ┆ ODDEN 2               ┆ … ┆ 1         ┆ Merking og sporbarhet ┆ Merking og sporbarheit ┆ 2         │\n",
       "│ …                                 ┆ …         ┆ …                                 ┆ …                     ┆ … ┆ …         ┆ …                     ┆ …                      ┆ …         │\n",
       "│ Z2309271241301782024NHDHO_Tilsyn… ┆ 932158868 ┆ Tinholt bakeri - Lietorvet        ┆ LIEGATA 9             ┆ … ┆ 0         ┆ Merking og sporbarhet ┆ Merking og sporbarheit ┆ 0         │\n",
       "│ Z1204270921043750193OYUMT_Tilsyn… ┆ 998775779 ┆ Verona Pizza og kebab             ┆ Brugata 10            ┆ … ┆ 1         ┆ Merking og sporbarhet ┆ Merking og sporbarheit ┆ 0         │\n",
       "│ Z2111151423051540127XABKH_Tilsyn… ┆ 818056982 ┆ Delicia Jernbantorget             ┆ Jernbanetorget 6      ┆ … ┆ 2         ┆ Merking og sporbarhet ┆ Merking og sporbarheit ┆ 2         │\n",
       "│ Z2011031709491430128SFCDS_Tilsyn… ┆ 924772417 ┆ Sabi Sushi Egersund               ┆ Sandakergaten 9       ┆ … ┆ 0         ┆ Merking og sporbarhet ┆ Merking og sporbarheit ┆ 0         │\n",
       "│ Z1006072022472081190LRBZE_Tilsyn… ┆ 979163967 ┆ Milano Rena                       ┆ Tollef Kildes gate 31 ┆ … ┆ 0         ┆ Merking og sporbarhet ┆ Merking og sporbarheit ┆ 0         │\n",
       "└───────────────────────────────────┴───────────┴───────────────────────────────────┴───────────────────────┴───┴───────────┴───────────────────────┴────────────────────────┴───────────┘"
      ]
     },
     "execution_count": 38,
     "metadata": {},
     "output_type": "execute_result"
    }
   ],
   "source": [
    "# Vi kan lage mer kompliserte uttrykk\n",
    "# .str inneholder en del streng-metoder, viktig at datatypen er string i dette tilfellet.\n",
    "df_t.with_columns(\n",
    "    (pl.col(\"poststed\").str.slice(0,1) + \n",
    "     pl.col(\"poststed\").str.slice(1, None).str.to_lowercase()).alias(\"poststed\"))"
   ]
  },
  {
   "cell_type": "code",
   "execution_count": 39,
   "id": "b7ec683f48bcaafd",
   "metadata": {
    "collapsed": false,
    "jupyter": {
     "outputs_hidden": false
    }
   },
   "outputs": [
    {
     "data": {
      "text/html": [
       "<div><style>\n",
       ".dataframe > thead > tr,\n",
       ".dataframe > tbody > tr {\n",
       "  text-align: right;\n",
       "  white-space: pre-wrap;\n",
       "}\n",
       "</style>\n",
       "<small>shape: (1_846_193, 8)</small><table border=\"1\" class=\"dataframe\"><thead><tr><th>tilsynid</th><th>dato</th><th>ordningsverdi</th><th>kravpunktnavn_no</th><th>kravpunktnavn_nn</th><th>karakter</th><th>tekst_no</th><th>tekst_nn</th></tr><tr><td>str</td><td>date</td><td>f64</td><td>str</td><td>str</td><td>i64</td><td>str</td><td>str</td></tr></thead><tbody><tr><td>&quot;Z1601041508412…</td><td>2016-01-04</td><td>1.1</td><td>&quot;Synlig rapport…</td><td>&quot;Synleg rapport…</td><td>5</td><td>&quot;Ikke vurdert&quot;</td><td>&quot;Ikkje vurdert&quot;</td></tr><tr><td>&quot;Z1601041508412…</td><td>2016-01-04</td><td>1.2</td><td>&quot;Meldeplikt for…</td><td>&quot;Meldeplikt for…</td><td>5</td><td>&quot;Ikke vurdert&quot;</td><td>&quot;Ikkje vurdert&quot;</td></tr><tr><td>&quot;Z1601041508412…</td><td>2016-01-04</td><td>1.3</td><td>&quot;Ansvaret til d…</td><td>&quot;Ansvaret til d…</td><td>5</td><td>&quot;Ikke vurdert&quot;</td><td>&quot;Ikkje vurdert&quot;</td></tr><tr><td>&quot;Z1601041508412…</td><td>2016-01-04</td><td>1.4</td><td>&quot;Internkontroll…</td><td>&quot;Internkontroll…</td><td>0</td><td>null</td><td>null</td></tr><tr><td>&quot;Z1601041508412…</td><td>2016-01-04</td><td>1.5</td><td>&quot;Farevurdering …</td><td>&quot;Farevurdering …</td><td>5</td><td>&quot;Ikke vurdert&quot;</td><td>&quot;Ikkje vurdert&quot;</td></tr><tr><td>&quot;Z1601041508412…</td><td>2016-01-04</td><td>1.6</td><td>&quot;Opplæring og k…</td><td>&quot;Opplæring og k…</td><td>5</td><td>&quot;Ikke vurdert&quot;</td><td>&quot;Ikkje vurdert&quot;</td></tr><tr><td>&quot;Z1601041508412…</td><td>2016-01-04</td><td>2.1</td><td>&quot;Generelt - pla…</td><td>&quot;Generelt - pla…</td><td>2</td><td>&quot;Mangler ved hy…</td><td>&quot;Manglar ved hy…</td></tr><tr><td>&quot;Z1601041508412…</td><td>2016-01-04</td><td>2.2</td><td>&quot;Lokaler - spes…</td><td>&quot;Lokaler - spes…</td><td>5</td><td>&quot;Ikke vurdert&quot;</td><td>&quot;Ikkje vurdert&quot;</td></tr><tr><td>&quot;Z1601041508412…</td><td>2016-01-04</td><td>2.3</td><td>&quot;Renhold&quot;</td><td>&quot;Reinhald&quot;</td><td>0</td><td>null</td><td>null</td></tr><tr><td>&quot;Z1601041508412…</td><td>2016-01-04</td><td>2.4</td><td>&quot;Håndtering av …</td><td>&quot;Handtering av …</td><td>5</td><td>&quot;Ikke vurdert&quot;</td><td>&quot;Ikkje vurdert&quot;</td></tr><tr><td>&quot;Z1601041508412…</td><td>2016-01-04</td><td>2.5</td><td>&quot;Bekjempe skade…</td><td>&quot;Bekjempe skade…</td><td>5</td><td>&quot;Ikke vurdert&quot;</td><td>&quot;Ikkje vurdert&quot;</td></tr><tr><td>&quot;Z1601041508412…</td><td>2016-01-04</td><td>2.6</td><td>&quot;Håndvask&quot;</td><td>&quot;Handvask&quot;</td><td>0</td><td>null</td><td>null</td></tr><tr><td>&hellip;</td><td>&hellip;</td><td>&hellip;</td><td>&hellip;</td><td>&hellip;</td><td>&hellip;</td><td>&hellip;</td><td>&hellip;</td></tr><tr><td>&quot;Z2401191653359…</td><td>2024-01-19</td><td>3.1</td><td>&quot;Råvarer&quot;</td><td>&quot;Råvarer&quot;</td><td>5</td><td>&quot;Ikke vurdert&quot;</td><td>&quot;Ikkje vurdert&quot;</td></tr><tr><td>&quot;Z2401191653359…</td><td>2024-01-19</td><td>3.2</td><td>&quot;Vann og is&quot;</td><td>&quot;Vatn og is&quot;</td><td>5</td><td>&quot;Ikke vurdert&quot;</td><td>&quot;Ikkje vurdert&quot;</td></tr><tr><td>&quot;Z2401191653359…</td><td>2024-01-19</td><td>3.3</td><td>&quot;Forurensningsf…</td><td>&quot;Fare for forur…</td><td>2</td><td>&quot;Mangler ved ru…</td><td>&quot;Manglar ved ru…</td></tr><tr><td>&quot;Z2401191653359…</td><td>2024-01-19</td><td>3.4</td><td>&quot;Lagring&quot;</td><td>&quot;Lagring&quot;</td><td>5</td><td>&quot;Ikke vurdert&quot;</td><td>&quot;Ikkje vurdert&quot;</td></tr><tr><td>&quot;Z2401191653359…</td><td>2024-01-19</td><td>3.5</td><td>&quot;Transport&quot;</td><td>&quot;Transport&quot;</td><td>5</td><td>&quot;Ikke vurdert&quot;</td><td>&quot;Ikkje vurdert&quot;</td></tr><tr><td>&quot;Z2401191653359…</td><td>2024-01-19</td><td>3.6</td><td>&quot;Personalets he…</td><td>&quot;Personalets he…</td><td>5</td><td>&quot;Ikke vurdert&quot;</td><td>&quot;Ikkje vurdert&quot;</td></tr><tr><td>&quot;Z2401191653359…</td><td>2024-01-19</td><td>3.7</td><td>&quot;Kjølekjeden&quot;</td><td>&quot;Kjølekjeda&quot;</td><td>0</td><td>null</td><td>null</td></tr><tr><td>&quot;Z2401191653359…</td><td>2024-01-19</td><td>3.8</td><td>&quot;Varmebehandlin…</td><td>&quot;Varmebehandlin…</td><td>5</td><td>&quot;Ikke vurdert&quot;</td><td>&quot;Ikkje vurdert&quot;</td></tr><tr><td>&quot;Z2401191653359…</td><td>2024-01-19</td><td>3.9</td><td>&quot;Nedkjøling&quot;</td><td>&quot;Nedkjøling&quot;</td><td>5</td><td>&quot;Ikke vurdert&quot;</td><td>&quot;Ikkje vurdert&quot;</td></tr><tr><td>&quot;Z2401191653359…</td><td>2024-01-19</td><td>3.1</td><td>&quot;Tining&quot;</td><td>&quot;Tining&quot;</td><td>5</td><td>&quot;Ikke vurdert&quot;</td><td>&quot;Ikkje vurdert&quot;</td></tr><tr><td>&quot;Z2401191653359…</td><td>2024-01-19</td><td>4.1</td><td>&quot;Sporbarhet og …</td><td>&quot;Sporbarheit og…</td><td>0</td><td>null</td><td>null</td></tr><tr><td>&quot;Z2401191653359…</td><td>2024-01-19</td><td>4.2</td><td>&quot;Merking av all…</td><td>&quot;Merking av all…</td><td>5</td><td>&quot;Ikke vurdert&quot;</td><td>&quot;Ikkje vurdert&quot;</td></tr></tbody></table></div>"
      ],
      "text/plain": [
       "shape: (1_846_193, 8)\n",
       "┌───────────────────────────────────┬────────────┬───────────────┬─────────────────────────────────┬─────────────────────────────────┬──────────┬──────────────┬───────────────┐\n",
       "│ tilsynid                          ┆ dato       ┆ ordningsverdi ┆ kravpunktnavn_no                ┆ kravpunktnavn_nn                ┆ karakter ┆ tekst_no     ┆ tekst_nn      │\n",
       "│ ---                               ┆ ---        ┆ ---           ┆ ---                             ┆ ---                             ┆ ---      ┆ ---          ┆ ---           │\n",
       "│ str                               ┆ date       ┆ f64           ┆ str                             ┆ str                             ┆ i64      ┆ str          ┆ str           │\n",
       "╞═══════════════════════════════════╪════════════╪═══════════════╪═════════════════════════════════╪═════════════════════════════════╪══════════╪══════════════╪═══════════════╡\n",
       "│ Z1601041508412850239LCXIE_Tilsyn… ┆ 2016-01-04 ┆ 1.1           ┆ Synlig rapport for smilefjes    ┆ Synleg rapport for smilefjes    ┆ 5        ┆ Ikke vurdert ┆ Ikkje vurdert │\n",
       "│ Z1601041508412850239LCXIE_Tilsyn… ┆ 2016-01-04 ┆ 1.2           ┆ Meldeplikt for virksomheten     ┆ Meldeplikt for verksemda        ┆ 5        ┆ Ikke vurdert ┆ Ikkje vurdert │\n",
       "│ Z1601041508412850239LCXIE_Tilsyn… ┆ 2016-01-04 ┆ 1.3           ┆ Ansvaret til driftsansvarlige   ┆ Ansvaret til driftsansvarlege   ┆ 5        ┆ Ikke vurdert ┆ Ikkje vurdert │\n",
       "│ Z1601041508412850239LCXIE_Tilsyn… ┆ 2016-01-04 ┆ 1.4           ┆ Internkontroll                  ┆ Internkontroll                  ┆ 0        ┆ null         ┆ null          │\n",
       "│ Z1601041508412850239LCXIE_Tilsyn… ┆ 2016-01-04 ┆ 1.5           ┆ Farevurdering og styringstiltak ┆ Farevurdering og styringstiltak ┆ 5        ┆ Ikke vurdert ┆ Ikkje vurdert │\n",
       "│ …                                 ┆ …          ┆ …             ┆ …                               ┆ …                               ┆ …        ┆ …            ┆ …             │\n",
       "│ Z2401191653359700239RCXWH_Tilsyn… ┆ 2024-01-19 ┆ 3.8           ┆ Varmebehandling                 ┆ Varmebehandling                 ┆ 5        ┆ Ikke vurdert ┆ Ikkje vurdert │\n",
       "│ Z2401191653359700239RCXWH_Tilsyn… ┆ 2024-01-19 ┆ 3.9           ┆ Nedkjøling                      ┆ Nedkjøling                      ┆ 5        ┆ Ikke vurdert ┆ Ikkje vurdert │\n",
       "│ Z2401191653359700239RCXWH_Tilsyn… ┆ 2024-01-19 ┆ 3.1           ┆ Tining                          ┆ Tining                          ┆ 5        ┆ Ikke vurdert ┆ Ikkje vurdert │\n",
       "│ Z2401191653359700239RCXWH_Tilsyn… ┆ 2024-01-19 ┆ 4.1           ┆ Sporbarhet og merking           ┆ Sporbarheit og merking          ┆ 0        ┆ null         ┆ null          │\n",
       "│ Z2401191653359700239RCXWH_Tilsyn… ┆ 2024-01-19 ┆ 4.2           ┆ Merking av allergeningredienser ┆ Merking av allergeningrediensar ┆ 5        ┆ Ikke vurdert ┆ Ikkje vurdert │\n",
       "└───────────────────────────────────┴────────────┴───────────────┴─────────────────────────────────┴─────────────────────────────────┴──────────┴──────────────┴───────────────┘"
      ]
     },
     "execution_count": 39,
     "metadata": {},
     "output_type": "execute_result"
    }
   ],
   "source": [
    "df_k = pl.read_csv(\"kravpunkter.csv\", separator=\";\").with_columns(\n",
    "    pl.col(\"dato\").cast(str).str.pad_start(8, \"0\").str.to_date(format=\"%d%m%Y\")\n",
    ")\n",
    "df_k"
   ]
  },
  {
   "cell_type": "code",
   "execution_count": 40,
   "id": "9eecf87a39eeba1c",
   "metadata": {
    "collapsed": false,
    "jupyter": {
     "outputs_hidden": false
    }
   },
   "outputs": [
    {
     "data": {
      "text/html": [
       "<div><style>\n",
       ".dataframe > thead > tr,\n",
       ".dataframe > tbody > tr {\n",
       "  text-align: right;\n",
       "  white-space: pre-wrap;\n",
       "}\n",
       "</style>\n",
       "<small>shape: (1_113_332, 6)</small><table border=\"1\" class=\"dataframe\"><thead><tr><th>navn</th><th>orgnummer</th><th>tilsynid</th><th>ordningsverdi</th><th>karakter</th><th>kravpunktnavn_no</th></tr><tr><td>str</td><td>i64</td><td>str</td><td>f64</td><td>i64</td><td>str</td></tr></thead><tbody><tr><td>&quot;Bakeriet i Bru…</td><td>914541034</td><td>&quot;Z1601211510285…</td><td>1.1</td><td>5</td><td>&quot;Synlig rapport…</td></tr><tr><td>&quot;Bakeriet i Bru…</td><td>914541034</td><td>&quot;Z1601211510285…</td><td>1.2</td><td>5</td><td>&quot;Meldeplikt for…</td></tr><tr><td>&quot;Bakeriet i Bru…</td><td>914541034</td><td>&quot;Z1601211510285…</td><td>1.3</td><td>5</td><td>&quot;Ansvaret til d…</td></tr><tr><td>&quot;Bakeriet i Bru…</td><td>914541034</td><td>&quot;Z1601211510285…</td><td>1.4</td><td>1</td><td>&quot;Internkontroll…</td></tr><tr><td>&quot;Bakeriet i Bru…</td><td>914541034</td><td>&quot;Z1601211510285…</td><td>1.5</td><td>5</td><td>&quot;Farevurdering …</td></tr><tr><td>&quot;Bakeriet i Bru…</td><td>914541034</td><td>&quot;Z1601211510285…</td><td>1.6</td><td>5</td><td>&quot;Opplæring og k…</td></tr><tr><td>&quot;Bakeriet i Bru…</td><td>914541034</td><td>&quot;Z1601211510285…</td><td>2.1</td><td>0</td><td>&quot;Generelt - pla…</td></tr><tr><td>&quot;Bakeriet i Bru…</td><td>914541034</td><td>&quot;Z1601211510285…</td><td>2.2</td><td>0</td><td>&quot;Lokaler - spes…</td></tr><tr><td>&quot;Bakeriet i Bru…</td><td>914541034</td><td>&quot;Z1601211510285…</td><td>2.3</td><td>1</td><td>&quot;Renhold&quot;</td></tr><tr><td>&quot;Bakeriet i Bru…</td><td>914541034</td><td>&quot;Z1601211510285…</td><td>2.4</td><td>5</td><td>&quot;Håndtering av …</td></tr><tr><td>&quot;Bakeriet i Bru…</td><td>914541034</td><td>&quot;Z1601211510285…</td><td>2.5</td><td>5</td><td>&quot;Bekjempe skade…</td></tr><tr><td>&quot;Bakeriet i Bru…</td><td>914541034</td><td>&quot;Z1601211510285…</td><td>2.6</td><td>0</td><td>&quot;Håndvask&quot;</td></tr><tr><td>&hellip;</td><td>&hellip;</td><td>&hellip;</td><td>&hellip;</td><td>&hellip;</td><td>&hellip;</td></tr><tr><td>&quot;Milano Rena&quot;</td><td>979163967</td><td>&quot;Z2311281607387…</td><td>3.1</td><td>0</td><td>&quot;Råvarer&quot;</td></tr><tr><td>&quot;Milano Rena&quot;</td><td>979163967</td><td>&quot;Z2311281607387…</td><td>3.2</td><td>5</td><td>&quot;Vann og is&quot;</td></tr><tr><td>&quot;Milano Rena&quot;</td><td>979163967</td><td>&quot;Z2311281607387…</td><td>3.3</td><td>0</td><td>&quot;Forurensningsf…</td></tr><tr><td>&quot;Milano Rena&quot;</td><td>979163967</td><td>&quot;Z2311281607387…</td><td>3.4</td><td>5</td><td>&quot;Lagring&quot;</td></tr><tr><td>&quot;Milano Rena&quot;</td><td>979163967</td><td>&quot;Z2311281607387…</td><td>3.5</td><td>5</td><td>&quot;Transport&quot;</td></tr><tr><td>&quot;Milano Rena&quot;</td><td>979163967</td><td>&quot;Z2311281607387…</td><td>3.6</td><td>0</td><td>&quot;Personalets he…</td></tr><tr><td>&quot;Milano Rena&quot;</td><td>979163967</td><td>&quot;Z2311281607387…</td><td>3.7</td><td>0</td><td>&quot;Kjølekjeden&quot;</td></tr><tr><td>&quot;Milano Rena&quot;</td><td>979163967</td><td>&quot;Z2311281607387…</td><td>3.8</td><td>5</td><td>&quot;Varmebehandlin…</td></tr><tr><td>&quot;Milano Rena&quot;</td><td>979163967</td><td>&quot;Z2311281607387…</td><td>3.9</td><td>5</td><td>&quot;Nedkjøling&quot;</td></tr><tr><td>&quot;Milano Rena&quot;</td><td>979163967</td><td>&quot;Z2311281607387…</td><td>3.1</td><td>0</td><td>&quot;Tining&quot;</td></tr><tr><td>&quot;Milano Rena&quot;</td><td>979163967</td><td>&quot;Z2311281607387…</td><td>4.1</td><td>0</td><td>&quot;Sporbarhet og …</td></tr><tr><td>&quot;Milano Rena&quot;</td><td>979163967</td><td>&quot;Z2311281607387…</td><td>4.2</td><td>0</td><td>&quot;Merking av all…</td></tr></tbody></table></div>"
      ],
      "text/plain": [
       "shape: (1_113_332, 6)\n",
       "┌───────────────────────────────────┬───────────┬───────────────────────────────────┬───────────────┬──────────┬─────────────────────────────────┐\n",
       "│ navn                              ┆ orgnummer ┆ tilsynid                          ┆ ordningsverdi ┆ karakter ┆ kravpunktnavn_no                │\n",
       "│ ---                               ┆ ---       ┆ ---                               ┆ ---           ┆ ---      ┆ ---                             │\n",
       "│ str                               ┆ i64       ┆ str                               ┆ f64           ┆ i64      ┆ str                             │\n",
       "╞═══════════════════════════════════╪═══════════╪═══════════════════════════════════╪═══════════════╪══════════╪═════════════════════════════════╡\n",
       "│ Bakeriet i Brumunddal avdeling C… ┆ 914541034 ┆ Z1601211510285150239IKXEO_Tilsyn… ┆ 1.1           ┆ 5        ┆ Synlig rapport for smilefjes    │\n",
       "│ Bakeriet i Brumunddal avdeling C… ┆ 914541034 ┆ Z1601211510285150239IKXEO_Tilsyn… ┆ 1.2           ┆ 5        ┆ Meldeplikt for virksomheten     │\n",
       "│ Bakeriet i Brumunddal avdeling C… ┆ 914541034 ┆ Z1601211510285150239IKXEO_Tilsyn… ┆ 1.3           ┆ 5        ┆ Ansvaret til driftsansvarlige   │\n",
       "│ Bakeriet i Brumunddal avdeling C… ┆ 914541034 ┆ Z1601211510285150239IKXEO_Tilsyn… ┆ 1.4           ┆ 1        ┆ Internkontroll                  │\n",
       "│ Bakeriet i Brumunddal avdeling C… ┆ 914541034 ┆ Z1601211510285150239IKXEO_Tilsyn… ┆ 1.5           ┆ 5        ┆ Farevurdering og styringstiltak │\n",
       "│ …                                 ┆ …         ┆ …                                 ┆ …             ┆ …        ┆ …                               │\n",
       "│ Milano Rena                       ┆ 979163967 ┆ Z2311281607387320240AAKAV_Tilsyn… ┆ 3.8           ┆ 5        ┆ Varmebehandling                 │\n",
       "│ Milano Rena                       ┆ 979163967 ┆ Z2311281607387320240AAKAV_Tilsyn… ┆ 3.9           ┆ 5        ┆ Nedkjøling                      │\n",
       "│ Milano Rena                       ┆ 979163967 ┆ Z2311281607387320240AAKAV_Tilsyn… ┆ 3.1           ┆ 0        ┆ Tining                          │\n",
       "│ Milano Rena                       ┆ 979163967 ┆ Z2311281607387320240AAKAV_Tilsyn… ┆ 4.1           ┆ 0        ┆ Sporbarhet og merking           │\n",
       "│ Milano Rena                       ┆ 979163967 ┆ Z2311281607387320240AAKAV_Tilsyn… ┆ 4.2           ┆ 0        ┆ Merking av allergeningredienser │\n",
       "└───────────────────────────────────┴───────────┴───────────────────────────────────┴───────────────┴──────────┴─────────────────────────────────┘"
      ]
     },
     "execution_count": 40,
     "metadata": {},
     "output_type": "execute_result"
    }
   ],
   "source": [
    "# Vi kan joine:\n",
    "df_j = df_t.select(\n",
    "    pl.col(\"navn\"), pl.col(\"orgnummer\"), pl.col(\"tilsynid\")\n",
    "    ).join(\n",
    "    df_k.select(\n",
    "        pl.col(\"tilsynid\"), pl.col(\"ordningsverdi\"), pl.col(\"karakter\"), pl.col(\"kravpunktnavn_no\")\n",
    "    ), on=\"tilsynid\",how=\"left\")\n",
    "df_j"
   ]
  },
  {
   "cell_type": "code",
   "execution_count": 41,
   "id": "2a41da691de135c1",
   "metadata": {
    "collapsed": false,
    "jupyter": {
     "outputs_hidden": false
    }
   },
   "outputs": [
    {
     "data": {
      "text/html": [
       "<div><style>\n",
       ".dataframe > thead > tr,\n",
       ".dataframe > tbody > tr {\n",
       "  text-align: right;\n",
       "  white-space: pre-wrap;\n",
       "}\n",
       "</style>\n",
       "<small>shape: (44_536, 4)</small><table border=\"1\" class=\"dataframe\"><thead><tr><th>tilsynid</th><th>orgnummer</th><th>navn</th><th>noen_karakter_3</th></tr><tr><td>str</td><td>i64</td><td>str</td><td>bool</td></tr></thead><tbody><tr><td>&quot;Z1602091334400…</td><td>914430925</td><td>&quot;Cafe Jeanette&quot;</td><td>false</td></tr><tr><td>&quot;Z1604261412189…</td><td>996694216</td><td>&quot;Klosterhagen H…</td><td>false</td></tr><tr><td>&quot;Z1609091521354…</td><td>974052393</td><td>&quot;Magnussen Kaff…</td><td>false</td></tr><tr><td>&quot;Z1609121109586…</td><td>896723782</td><td>&quot;Prestige Sushi…</td><td>false</td></tr><tr><td>&quot;Z1606100821185…</td><td>816392012</td><td>&quot;Pronto Pizza A…</td><td>false</td></tr><tr><td>&quot;Z1607181524507…</td><td>979205031</td><td>&quot;Evergrenn Haug…</td><td>false</td></tr><tr><td>&quot;Z1607270809080…</td><td>972404276</td><td>&quot;Sølenstua&quot;</td><td>false</td></tr><tr><td>&quot;Z1609211252343…</td><td>982603552</td><td>&quot; Bajazzo Høyde…</td><td>false</td></tr><tr><td>&quot;Z1608101630469…</td><td>971945389</td><td>&quot;Nye Bamboo Gar…</td><td>false</td></tr><tr><td>&quot;Z1610061445436…</td><td>979521790</td><td>&quot;Askim Kro AS&quot;</td><td>false</td></tr><tr><td>&quot;Z1702221433138…</td><td>999099858</td><td>&quot;Max Egertorget…</td><td>false</td></tr><tr><td>&quot;Z1611280803147…</td><td>883562542</td><td>&quot;Knøtten Kro AS…</td><td>false</td></tr><tr><td>&hellip;</td><td>&hellip;</td><td>&hellip;</td><td>&hellip;</td></tr><tr><td>&quot;Z2309051258512…</td><td>985867682</td><td>&quot;Cafe Oscar&quot;</td><td>false</td></tr><tr><td>&quot;Z2306141405009…</td><td>930577707</td><td>&quot;Jose&#x27;s Taco &amp; …</td><td>false</td></tr><tr><td>&quot;Z2305251521296…</td><td>972318213</td><td>&quot;Colonel Mustar…</td><td>false</td></tr><tr><td>&quot;Z2305241217370…</td><td>923936440</td><td>&quot;Maistro bar &amp; …</td><td>false</td></tr><tr><td>&quot;Z2309271526543…</td><td>873570202</td><td>&quot;Modumstua &quot;</td><td>false</td></tr><tr><td>&quot;Z2308010053218…</td><td>920375944</td><td>&quot;St bar m Zafar…</td><td>true</td></tr><tr><td>&quot;Z2308291405338…</td><td>987756942</td><td>&quot;Skipperstuen &quot;</td><td>false</td></tr><tr><td>&quot;Z2312201741536…</td><td>918382364</td><td>&quot;Restaurant Øst…</td><td>true</td></tr><tr><td>&quot;Z2401161332359…</td><td>926377167</td><td>&quot;Scarpetta Past…</td><td>false</td></tr><tr><td>&quot;Z2311141328406…</td><td>929128702</td><td>&quot;Donut Palace&quot;</td><td>false</td></tr><tr><td>&quot;Z2312111513559…</td><td>929872401</td><td>&quot;Lett Bekkestua…</td><td>false</td></tr><tr><td>&quot;Z2401101415351…</td><td>883138112</td><td>&quot;SAN MARINO PIZ…</td><td>false</td></tr></tbody></table></div>"
      ],
      "text/plain": [
       "shape: (44_536, 4)\n",
       "┌───────────────────────────────────┬───────────┬───────────────────────────────────┬─────────────────┐\n",
       "│ tilsynid                          ┆ orgnummer ┆ navn                              ┆ noen_karakter_3 │\n",
       "│ ---                               ┆ ---       ┆ ---                               ┆ ---             │\n",
       "│ str                               ┆ i64       ┆ str                               ┆ bool            │\n",
       "╞═══════════════════════════════════╪═══════════╪═══════════════════════════════════╪═════════════════╡\n",
       "│ Z1602091334400840240AQRZE_Tilsyn… ┆ 914430925 ┆ Cafe Jeanette                     ┆ false           │\n",
       "│ Z1604261412189390240AOEFG_Tilsyn… ┆ 996694216 ┆ Klosterhagen Hotell               ┆ false           │\n",
       "│ Z1609091521354190240CCMBO_Tilsyn… ┆ 974052393 ┆ Magnussen Kaffebakeri - Stokmark… ┆ false           │\n",
       "│ Z1609121109586640239TWCHF_Tilsyn… ┆ 896723782 ┆ Prestige Sushi & Catering         ┆ false           │\n",
       "│ Z1606100821185010240FUVNU_Tilsyn… ┆ 816392012 ┆ Pronto Pizza AS                   ┆ false           │\n",
       "│ …                                 ┆ …         ┆ …                                 ┆ …               │\n",
       "│ Z2312201741536900239DPGYB_Tilsyn… ┆ 918382364 ┆ Restaurant Øst                    ┆ true            │\n",
       "│ Z2401161332359200239CFERJ_Tilsyn… ┆ 926377167 ┆ Scarpetta Pastabar                ┆ false           │\n",
       "│ Z2311141328406640240YVRWA_Tilsyn… ┆ 929128702 ┆ Donut Palace                      ┆ false           │\n",
       "│ Z2312111513559510240QMJJH_Tilsyn… ┆ 929872401 ┆ Lett Bekkestua                    ┆ false           │\n",
       "│ Z2401101415351170240QVLLY_Tilsyn… ┆ 883138112 ┆ SAN MARINO PIZZA                  ┆ false           │\n",
       "└───────────────────────────────────┴───────────┴───────────────────────────────────┴─────────────────┘"
      ]
     },
     "execution_count": 41,
     "metadata": {},
     "output_type": "execute_result"
    }
   ],
   "source": [
    "# Vi kan gruppere og aggregere\n",
    "df_j.group_by(\"tilsynid\", \"orgnummer\", \"navn\").agg(\n",
    "    (pl.col(\"karakter\") == 3).any().alias(\"noen_karakter_3\")\n",
    ")"
   ]
  },
  {
   "cell_type": "code",
   "execution_count": 42,
   "id": "835163d90cf250be",
   "metadata": {
    "collapsed": false,
    "jupyter": {
     "outputs_hidden": false
    }
   },
   "outputs": [
    {
     "data": {
      "text/html": [
       "<div><style>\n",
       ".dataframe > thead > tr,\n",
       ".dataframe > tbody > tr {\n",
       "  text-align: right;\n",
       "  white-space: pre-wrap;\n",
       "}\n",
       "</style>\n",
       "<small>shape: (44_536, 4)</small><table border=\"1\" class=\"dataframe\"><thead><tr><th>tilsynid</th><th>orgnummer</th><th>navn</th><th>noen_karakter_3</th></tr><tr><td>str</td><td>i64</td><td>str</td><td>bool</td></tr></thead><tbody><tr><td>&quot;Z1601281551398…</td><td>911860805</td><td>&quot;Marianne Baker…</td><td>true</td></tr><tr><td>&quot;Z1602251117043…</td><td>971785551</td><td>&quot;Fregatten sush…</td><td>true</td></tr><tr><td>&quot;Z2110210951419…</td><td>915927068</td><td>&quot;Mae Kanya&#x27;s Th…</td><td>true</td></tr><tr><td>&quot;Z2306071452174…</td><td>921187777</td><td>&quot;Oslo kebab &amp; p…</td><td>true</td></tr><tr><td>&quot;Z1907241902120…</td><td>914291933</td><td>&quot;Estar Sushi&quot;</td><td>true</td></tr><tr><td>&quot;Z1608291250214…</td><td>982466709</td><td>&quot;Paradis pizza&quot;</td><td>true</td></tr><tr><td>&quot;Z2312291044459…</td><td>832514772</td><td>&quot;Hos Martin Gol…</td><td>true</td></tr><tr><td>&quot;Z1703141429549…</td><td>976442466</td><td>&quot;Jonas B. Gunde…</td><td>true</td></tr><tr><td>&quot;Z2202171616196…</td><td>979520999</td><td>&quot;Terrassen Kafe…</td><td>true</td></tr><tr><td>&quot;Z2309201544441…</td><td>974176580</td><td>&quot;China Palace&quot;</td><td>true</td></tr><tr><td>&quot;Z2305092321094…</td><td>818377762</td><td>&quot;Joe &amp; The Juic…</td><td>true</td></tr><tr><td>&quot;Z1905131413555…</td><td>917231028</td><td>&quot;Umre pizza &amp; k…</td><td>true</td></tr><tr><td>&hellip;</td><td>&hellip;</td><td>&hellip;</td><td>&hellip;</td></tr><tr><td>&quot;Z2302011620489…</td><td>917080089</td><td>&quot;Delicatessen B…</td><td>false</td></tr><tr><td>&quot;Z2307131518518…</td><td>931141635</td><td>&quot;Camp Nord - Sk…</td><td>false</td></tr><tr><td>&quot;Z2306141405009…</td><td>930577707</td><td>&quot;Jose&#x27;s Taco &amp; …</td><td>false</td></tr><tr><td>&quot;Z2305250904425…</td><td>974169754</td><td>&quot;SSP avd. North…</td><td>false</td></tr><tr><td>&quot;Z2303221305501…</td><td>927358670</td><td>&quot;Por Favor &quot;</td><td>false</td></tr><tr><td>&quot;Z2309282217272…</td><td>931733761</td><td>&quot;Fishy Busines&quot;</td><td>false</td></tr><tr><td>&quot;Z2308291405338…</td><td>987756942</td><td>&quot;Skipperstuen &quot;</td><td>false</td></tr><tr><td>&quot;Z2310181549238…</td><td>928250288</td><td>&quot;Nasjonalmuseet…</td><td>false</td></tr><tr><td>&quot;Z2312131102500…</td><td>977205999</td><td>&quot;La Baguette Gj…</td><td>false</td></tr><tr><td>&quot;Z2312111513559…</td><td>929872401</td><td>&quot;Lett Bekkestua…</td><td>false</td></tr><tr><td>&quot;Z2401171217303…</td><td>997372654</td><td>&quot;Nordby Bakeri …</td><td>false</td></tr><tr><td>&quot;Z2311241227190…</td><td>917586039</td><td>&quot;Joe &amp; The Juic…</td><td>false</td></tr></tbody></table></div>"
      ],
      "text/plain": [
       "shape: (44_536, 4)\n",
       "┌───────────────────────────────────┬───────────┬───────────────────────────────────┬─────────────────┐\n",
       "│ tilsynid                          ┆ orgnummer ┆ navn                              ┆ noen_karakter_3 │\n",
       "│ ---                               ┆ ---       ┆ ---                               ┆ ---             │\n",
       "│ str                               ┆ i64       ┆ str                               ┆ bool            │\n",
       "╞═══════════════════════════════════╪═══════════╪═══════════════════════════════════╪═════════════════╡\n",
       "│ Z1601281551398970239WJGDG_Tilsyn… ┆ 911860805 ┆ Marianne Bakeri og Kafe           ┆ true            │\n",
       "│ Z1602251117043850239XPJTW_Tilsyn… ┆ 971785551 ┆ Fregatten sushi restaurant og ho… ┆ true            │\n",
       "│ Z2110210951419570239DOMTJ_Tilsyn… ┆ 915927068 ┆ Mae Kanya's Thai Food             ┆ true            │\n",
       "│ Z2306071452174290240HZZRY_Tilsyn… ┆ 921187777 ┆ Oslo kebab & pizza                ┆ true            │\n",
       "│ Z1907241902120500240CYWJX_Tilsyn… ┆ 914291933 ┆ Estar Sushi                       ┆ true            │\n",
       "│ …                                 ┆ …         ┆ …                                 ┆ …               │\n",
       "│ Z2310181549238390240QAQHP_Tilsyn… ┆ 928250288 ┆ Nasjonalmuseet kafe'              ┆ false           │\n",
       "│ Z2312131102500590240EHIYE_Tilsyn… ┆ 977205999 ┆ La Baguette Gjøvik                ┆ false           │\n",
       "│ Z2312111513559510240QMJJH_Tilsyn… ┆ 929872401 ┆ Lett Bekkestua                    ┆ false           │\n",
       "│ Z2401171217303670239IVTUJ_Tilsyn… ┆ 997372654 ┆ Nordby Bakeri Holmensenter        ┆ false           │\n",
       "│ Z2311241227190380240FQNUZ_Tilsyn… ┆ 917586039 ┆ Joe & The Juice Bjørvika          ┆ false           │\n",
       "└───────────────────────────────────┴───────────┴───────────────────────────────────┴─────────────────┘"
      ]
     },
     "execution_count": 42,
     "metadata": {},
     "output_type": "execute_result"
    }
   ],
   "source": [
    "# Vi kan kombinere flere uttrykk\n",
    "# Vi kan gruppere og aggregere og deretter sortere\n",
    "df_j.group_by(\"tilsynid\", \"orgnummer\", \"navn\").agg(\n",
    "    (pl.col(\"karakter\") == 3).any().alias(\"noen_karakter_3\")\n",
    ").sort(\"noen_karakter_3\", descending=True)"
   ]
  },
  {
   "cell_type": "code",
   "execution_count": 45,
   "id": "a26044f94a8b8c3",
   "metadata": {
    "collapsed": false,
    "jupyter": {
     "outputs_hidden": false
    }
   },
   "outputs": [
    {
     "data": {
      "text/html": [
       "<div><style>\n",
       ".dataframe > thead > tr,\n",
       ".dataframe > tbody > tr {\n",
       "  text-align: right;\n",
       "  white-space: pre-wrap;\n",
       "}\n",
       "</style>\n",
       "<small>shape: (2, 5)</small><table border=\"1\" class=\"dataframe\"><thead><tr><th>orgnummer</th><th>navn</th><th>dato</th><th>total_karakter</th><th>poststed</th></tr><tr><td>i64</td><td>str</td><td>date</td><td>i64</td><td>str</td></tr></thead><tbody><tr><td>915175635</td><td>&quot;Horten Mikrobr…</td><td>2018-10-24</td><td>2</td><td>&quot;HORTEN&quot;</td></tr><tr><td>972876909</td><td>&quot;Rosalinda`s Or…</td><td>2018-10-18</td><td>2</td><td>&quot;HORTEN&quot;</td></tr></tbody></table></div>"
      ],
      "text/plain": [
       "shape: (2, 5)\n",
       "┌───────────┬─────────────────────────────────┬────────────┬────────────────┬──────────┐\n",
       "│ orgnummer ┆ navn                            ┆ dato       ┆ total_karakter ┆ poststed │\n",
       "│ ---       ┆ ---                             ┆ ---        ┆ ---            ┆ ---      │\n",
       "│ i64       ┆ str                             ┆ date       ┆ i64            ┆ str      │\n",
       "╞═══════════╪═════════════════════════════════╪════════════╪════════════════╪══════════╡\n",
       "│ 915175635 ┆ Horten Mikrobryggeri -servering ┆ 2018-10-24 ┆ 2              ┆ HORTEN   │\n",
       "│ 972876909 ┆ Rosalinda`s Oriental Market     ┆ 2018-10-18 ┆ 2              ┆ HORTEN   │\n",
       "└───────────┴─────────────────────────────────┴────────────┴────────────────┴──────────┘"
      ]
     },
     "execution_count": 45,
     "metadata": {},
     "output_type": "execute_result"
    }
   ],
   "source": [
    "# Vi bruker .lazy() for å lage en spørringsplan, og .collect() for å eksekvere spørringsplanen. \n",
    "# Vi bruker .scan_csv() for å bare lage en plan om å lese CSV.\n",
    "# Optimaliseringene gjør at vi kun leser inn de kolonnene som faktisk blir brukt!\n",
    "# Dette kalles en LazyFrame, ikke en DataFrame\n",
    "lf_t = pl.scan_csv(\"tilsyn.csv\", separator=\";\", dtypes={\"postnr\":str})\n",
    "df_t = lf_t.select(\"orgnummer\", \"navn\", \"dato\", \"total_karakter\", \"poststed\").with_columns(\n",
    "    pl.col(\"dato\").cast(str).str.pad_start(8, \"0\").str.to_date(format=\"%d%m%Y\")\n",
    ").filter(\n",
    "    pl.col(\"total_karakter\").is_in([2,3])\n",
    ").filter(\n",
    "    pl.col(\"dato\").dt.year() == 2018\n",
    ").filter(\n",
    "    pl.col(\"poststed\") == \"HORTEN\"\n",
    ").collect()\n",
    "df_t"
   ]
  },
  {
   "cell_type": "code",
   "execution_count": null,
   "id": "62045dabd88d5ce0",
   "metadata": {
    "collapsed": false,
    "jupyter": {
     "outputs_hidden": false
    }
   },
   "outputs": [],
   "source": []
  }
 ],
 "metadata": {
  "kernelspec": {
   "display_name": "Python 3 (ipykernel)",
   "language": "python",
   "name": "python3"
  },
  "language_info": {
   "codemirror_mode": {
    "name": "ipython",
    "version": 3
   },
   "file_extension": ".py",
   "mimetype": "text/x-python",
   "name": "python",
   "nbconvert_exporter": "python",
   "pygments_lexer": "ipython3",
   "version": "3.10.13"
  }
 },
 "nbformat": 4,
 "nbformat_minor": 5
}
