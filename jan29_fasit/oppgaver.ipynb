{
 "cells": [
  {
   "cell_type": "markdown",
   "id": "7e990c729be13f64",
   "metadata": {
    "collapsed": false,
    "jupyter": {
     "outputs_hidden": false
    }
   },
   "source": [
    "## Oppgaver\n",
    "1. Finn antall unike serveringssted (bruk navn og orgnummer), se [her](https://docs.pola.rs/py-polars/html/reference/dataframe/api/polars.DataFrame.unique.html)\n",
    "2. Lag en ny kolonne som er true hvis kontrollen er surmunn (bruk total_karakter), false hvis ikke. Kall kolonnen \"surmunn\". Se: [her](https://docs.pola.rs/py-polars/html/reference/expressions/api/polars.Expr.alias.html#polars.Expr.alias) og [her](https://docs.pola.rs/py-polars/html/reference/expressions/api/polars.Expr.eq.html) \n",
    "3. Lag en ny kolonne med årstallet for kontrollen. Kall denne kolonnen for \"år\". \n",
    "4. Tell antall kontroller pr. serveringssted, se [her](https://docs.pola.rs/py-polars/html/reference/dataframe/api/polars.dataframe.group_by.GroupBy.agg.html#polars.dataframe.group_by.GroupBy.agg)\n",
    "5. Finn serveringsstedet med flest antall kontroller.\n",
    "6. Finn serveringsstedet med flest antall kontroller i et år - hint: bruk pl.col(\"dato\").dt.year() i grupperingen. \n",
    "7. Tell antall surmunn pr. serveringssted, sorter synkende på antall surmunn. Hint: bruk sum over kolonnen surmunn i en groupby agg. Se [her](https://docs.pola.rs/py-polars/html/reference/expressions/api/polars.Expr.sum.html#polars.Expr.sum)\n",
    "8. Finn antall surmunn eller strekmunn pr. serveringssted. \n",
    "9. Finn tilsynene i Tønsberg eller Horten, nyeste tilsyn først. \n",
    "10. Finn tilsyn i Tønsberg eller Horten hvor det er gitt karakteren 3 eller 4 til Renhold. Her må du joine med kravpunktene. Se oppvarmingen.  \n",
    "11. Finn tilsyn i Tønsberg eller Horten hvor det er gitt surmunn som totalkarakter, og samle opp kravpunktene som har fått surmunn 3 i en liste. Se eksempelet [her](https://docs.pola.rs/py-polars/html/reference/dataframe/api/polars.dataframe.group_by.GroupBy.agg.html#polars.dataframe.group_by.GroupBy.agg)\n",
    "\n",
    "12. I denne oppgaven skal du bruke lazy evaluering. Start med å bruke scan_csv til å lese inn csvene. Deretter skal du lage en rapport over seneste kontrollene i Tønsberg og Horten hvor det er gitt strekmunn eller surmunn. Rapporten skal inneholde karakteren som er gitt, en liste over kravpunktene som har strekmunn i en av kolonnene, en liste over kravpunktene som har surmunn i en av kolonnene. Rapporten skal være sortert nyeste kontroll først. \n",
    "13. Utvid oppgaven over ved å inkludere totalkarakteren på forrige kontroll dersom den finnes i rapporten."
   ]
  },
  {
   "cell_type": "code",
   "execution_count": 1,
   "id": "1e8ef2db-460e-421b-ae11-04f77bc38e8e",
   "metadata": {},
   "outputs": [],
   "source": [
    "import polars as pl"
   ]
  },
  {
   "cell_type": "code",
   "execution_count": 7,
   "id": "ecb7511e135397b6",
   "metadata": {
    "collapsed": false,
    "jupyter": {
     "outputs_hidden": false
    }
   },
   "outputs": [
    {
     "data": {
      "text/html": [
       "<div><style>\n",
       ".dataframe > thead > tr,\n",
       ".dataframe > tbody > tr {\n",
       "  text-align: right;\n",
       "  white-space: pre-wrap;\n",
       "}\n",
       "</style>\n",
       "<small>shape: (3, 25)</small><table border=\"1\" class=\"dataframe\"><thead><tr><th>tilsynsobjektid</th><th>orgnummer</th><th>navn</th><th>adrlinje1</th><th>adrlinje2</th><th>postnr</th><th>poststed</th><th>tilsynid</th><th>sakref</th><th>status</th><th>dato</th><th>total_karakter</th><th>tilsynsbesoektype</th><th>tema1_no</th><th>tema1_nn</th><th>karakter1</th><th>tema2_no</th><th>tema2_nn</th><th>karakter2</th><th>tema3_no</th><th>tema3_nn</th><th>karakter3</th><th>tema4_no</th><th>tema4_nn</th><th>karakter4</th></tr><tr><td>str</td><td>i64</td><td>str</td><td>str</td><td>str</td><td>str</td><td>str</td><td>str</td><td>str</td><td>i64</td><td>date</td><td>i64</td><td>i64</td><td>str</td><td>str</td><td>i64</td><td>str</td><td>str</td><td>i64</td><td>str</td><td>str</td><td>i64</td><td>str</td><td>str</td><td>i64</td></tr></thead><tbody><tr><td>&quot;Z1501071230082…</td><td>914541034</td><td>&quot;Bakeriet i Bru…</td><td>&quot;VANGSVEGEN 62&quot;</td><td>null</td><td>&quot;2317&quot;</td><td>&quot;HAMAR&quot;</td><td>&quot;Z1601211510285…</td><td>&quot;2016/6663&quot;</td><td>0</td><td>2016-01-21</td><td>1</td><td>0</td><td>&quot;Rutiner og led…</td><td>&quot;Rutiner og lei…</td><td>1</td><td>&quot;Lokaler og uts…</td><td>&quot;Lokaler og uts…</td><td>1</td><td>&quot;Mat-håndtering…</td><td>&quot;Mat-handtering…</td><td>1</td><td>&quot;Merking og spo…</td><td>&quot;Merking og spo…</td><td>0</td></tr><tr><td>&quot;Z1006120609250…</td><td>987770740</td><td>&quot;Aktiven skihei…</td><td>&quot;Kvamskogen&quot;</td><td>null</td><td>&quot;5600&quot;</td><td>&quot;NORHEIMSUND&quot;</td><td>&quot;Z1603101430592…</td><td>&quot;2016/53185&quot;</td><td>0</td><td>2016-03-10</td><td>1</td><td>0</td><td>&quot;Rutiner og led…</td><td>&quot;Rutiner og lei…</td><td>0</td><td>&quot;Lokaler og uts…</td><td>&quot;Lokaler og uts…</td><td>0</td><td>&quot;Mat-håndtering…</td><td>&quot;Mat-handtering…</td><td>0</td><td>&quot;Merking og spo…</td><td>&quot;Merking og spo…</td><td>1</td></tr><tr><td>&quot;Z1107281100559…</td><td>998066662</td><td>&quot;Golfkafeen&quot;</td><td>&quot;Belsjøveien 50…</td><td>null</td><td>&quot;1445&quot;</td><td>&quot;DRØBAK&quot;</td><td>&quot;Z1605111530190…</td><td>&quot;2016/106865&quot;</td><td>0</td><td>2016-05-11</td><td>1</td><td>0</td><td>&quot;Rutiner og led…</td><td>&quot;Rutiner og lei…</td><td>0</td><td>&quot;Lokaler og uts…</td><td>&quot;Lokaler og uts…</td><td>1</td><td>&quot;Mat-håndtering…</td><td>&quot;Mat-handtering…</td><td>0</td><td>&quot;Merking og spo…</td><td>&quot;Merking og spo…</td><td>1</td></tr></tbody></table></div>"
      ],
      "text/plain": [
       "shape: (3, 25)\n",
       "┌───────────────────────────────────┬───────────┬───────────────────────────────────┬────────────────┬───┬───────────┬───────────────────────┬────────────────────────┬───────────┐\n",
       "│ tilsynsobjektid                   ┆ orgnummer ┆ navn                              ┆ adrlinje1      ┆ … ┆ karakter3 ┆ tema4_no              ┆ tema4_nn               ┆ karakter4 │\n",
       "│ ---                               ┆ ---       ┆ ---                               ┆ ---            ┆   ┆ ---       ┆ ---                   ┆ ---                    ┆ ---       │\n",
       "│ str                               ┆ i64       ┆ str                               ┆ str            ┆   ┆ i64       ┆ str                   ┆ str                    ┆ i64       │\n",
       "╞═══════════════════════════════════╪═══════════╪═══════════════════════════════════╪════════════════╪═══╪═══════════╪═══════════════════════╪════════════════════════╪═══════════╡\n",
       "│ Z1501071230082032024GTOXC_Tilsyn… ┆ 914541034 ┆ Bakeriet i Brumunddal avdeling C… ┆ VANGSVEGEN 62  ┆ … ┆ 1         ┆ Merking og sporbarhet ┆ Merking og sporbarheit ┆ 0         │\n",
       "│ Z1006120609250331126HFNXO_Tilsyn… ┆ 987770740 ┆ Aktiven skiheis - Varmestova og … ┆ Kvamskogen     ┆ … ┆ 0         ┆ Merking og sporbarhet ┆ Merking og sporbarheit ┆ 1         │\n",
       "│ Z1107281100559960160KWPRX_Tilsyn… ┆ 998066662 ┆ Golfkafeen                        ┆ Belsjøveien 50 ┆ … ┆ 0         ┆ Merking og sporbarhet ┆ Merking og sporbarheit ┆ 1         │\n",
       "└───────────────────────────────────┴───────────┴───────────────────────────────────┴────────────────┴───┴───────────┴───────────────────────┴────────────────────────┴───────────┘"
      ]
     },
     "execution_count": 7,
     "metadata": {},
     "output_type": "execute_result"
    }
   ],
   "source": [
    "df_t = pl.scan_csv(\"tilsyn.csv\", separator=\";\", dtypes={\"postnr\":str, \"dato\":str}).with_columns(\n",
    "    pl.col(\"dato\").str.to_date(format=\"%d%m%Y\")\n",
    ").collect()\n",
    "df_t.head(3)"
   ]
  },
  {
   "cell_type": "code",
   "execution_count": 5,
   "id": "7dba6fa5-b106-478c-93bc-13d6be07fcae",
   "metadata": {},
   "outputs": [
    {
     "data": {
      "text/html": [
       "<div><style>\n",
       ".dataframe > thead > tr,\n",
       ".dataframe > tbody > tr {\n",
       "  text-align: right;\n",
       "  white-space: pre-wrap;\n",
       "}\n",
       "</style>\n",
       "<small>shape: (1, 25)</small><table border=\"1\" class=\"dataframe\"><thead><tr><th>tilsynsobjektid</th><th>orgnummer</th><th>navn</th><th>adrlinje1</th><th>adrlinje2</th><th>postnr</th><th>poststed</th><th>tilsynid</th><th>sakref</th><th>status</th><th>dato</th><th>total_karakter</th><th>tilsynsbesoektype</th><th>tema1_no</th><th>tema1_nn</th><th>karakter1</th><th>tema2_no</th><th>tema2_nn</th><th>karakter2</th><th>tema3_no</th><th>tema3_nn</th><th>karakter3</th><th>tema4_no</th><th>tema4_nn</th><th>karakter4</th></tr><tr><td>u32</td><td>u32</td><td>u32</td><td>u32</td><td>u32</td><td>u32</td><td>u32</td><td>u32</td><td>u32</td><td>u32</td><td>u32</td><td>u32</td><td>u32</td><td>u32</td><td>u32</td><td>u32</td><td>u32</td><td>u32</td><td>u32</td><td>u32</td><td>u32</td><td>u32</td><td>u32</td><td>u32</td><td>u32</td></tr></thead><tbody><tr><td>8988</td><td>8964</td><td>8988</td><td>8960</td><td>70</td><td>8986</td><td>8986</td><td>8988</td><td>8988</td><td>8988</td><td>8988</td><td>8988</td><td>8988</td><td>8988</td><td>8988</td><td>8973</td><td>8988</td><td>8988</td><td>8987</td><td>8988</td><td>8988</td><td>8984</td><td>8988</td><td>8988</td><td>8977</td></tr></tbody></table></div>"
      ],
      "text/plain": [
       "shape: (1, 25)\n",
       "┌─────────────────┬───────────┬──────┬───────────┬───┬───────────┬──────────┬──────────┬───────────┐\n",
       "│ tilsynsobjektid ┆ orgnummer ┆ navn ┆ adrlinje1 ┆ … ┆ karakter3 ┆ tema4_no ┆ tema4_nn ┆ karakter4 │\n",
       "│ ---             ┆ ---       ┆ ---  ┆ ---       ┆   ┆ ---       ┆ ---      ┆ ---      ┆ ---       │\n",
       "│ u32             ┆ u32       ┆ u32  ┆ u32       ┆   ┆ u32       ┆ u32      ┆ u32      ┆ u32       │\n",
       "╞═════════════════╪═══════════╪══════╪═══════════╪═══╪═══════════╪══════════╪══════════╪═══════════╡\n",
       "│ 8988            ┆ 8964      ┆ 8988 ┆ 8960      ┆ … ┆ 8984      ┆ 8988     ┆ 8988     ┆ 8977      │\n",
       "└─────────────────┴───────────┴──────┴───────────┴───┴───────────┴──────────┴──────────┴───────────┘"
      ]
     },
     "execution_count": 5,
     "metadata": {},
     "output_type": "execute_result"
    }
   ],
   "source": [
    "#Finn antall unike serveringssted (bruk navn og orgnummer) \n",
    "df_t.unique(subset=[\"navn\", \"orgnummer\"]).count()"
   ]
  },
  {
   "cell_type": "code",
   "execution_count": 12,
   "id": "bbaa63eb-626c-41b6-98dc-d41a3d838bb0",
   "metadata": {},
   "outputs": [
    {
     "data": {
      "text/html": [
       "<div><style>\n",
       ".dataframe > thead > tr,\n",
       ".dataframe > tbody > tr {\n",
       "  text-align: right;\n",
       "  white-space: pre-wrap;\n",
       "}\n",
       "</style>\n",
       "<small>shape: (2, 26)</small><table border=\"1\" class=\"dataframe\"><thead><tr><th>tilsynsobjektid</th><th>orgnummer</th><th>navn</th><th>adrlinje1</th><th>adrlinje2</th><th>postnr</th><th>poststed</th><th>tilsynid</th><th>sakref</th><th>status</th><th>dato</th><th>total_karakter</th><th>tilsynsbesoektype</th><th>tema1_no</th><th>tema1_nn</th><th>karakter1</th><th>tema2_no</th><th>tema2_nn</th><th>karakter2</th><th>tema3_no</th><th>tema3_nn</th><th>karakter3</th><th>tema4_no</th><th>tema4_nn</th><th>karakter4</th><th>surmunn</th></tr><tr><td>str</td><td>i64</td><td>str</td><td>str</td><td>str</td><td>str</td><td>str</td><td>str</td><td>str</td><td>i64</td><td>date</td><td>i64</td><td>i64</td><td>str</td><td>str</td><td>i64</td><td>str</td><td>str</td><td>i64</td><td>str</td><td>str</td><td>i64</td><td>str</td><td>str</td><td>i64</td><td>bool</td></tr></thead><tbody><tr><td>&quot;Z1501071230082…</td><td>914541034</td><td>&quot;Bakeriet i Bru…</td><td>&quot;VANGSVEGEN 62&quot;</td><td>null</td><td>&quot;2317&quot;</td><td>&quot;HAMAR&quot;</td><td>&quot;Z1601211510285…</td><td>&quot;2016/6663&quot;</td><td>0</td><td>2016-01-21</td><td>1</td><td>0</td><td>&quot;Rutiner og led…</td><td>&quot;Rutiner og lei…</td><td>1</td><td>&quot;Lokaler og uts…</td><td>&quot;Lokaler og uts…</td><td>1</td><td>&quot;Mat-håndtering…</td><td>&quot;Mat-handtering…</td><td>1</td><td>&quot;Merking og spo…</td><td>&quot;Merking og spo…</td><td>0</td><td>false</td></tr><tr><td>&quot;Z1006120609250…</td><td>987770740</td><td>&quot;Aktiven skihei…</td><td>&quot;Kvamskogen&quot;</td><td>null</td><td>&quot;5600&quot;</td><td>&quot;NORHEIMSUND&quot;</td><td>&quot;Z1603101430592…</td><td>&quot;2016/53185&quot;</td><td>0</td><td>2016-03-10</td><td>1</td><td>0</td><td>&quot;Rutiner og led…</td><td>&quot;Rutiner og lei…</td><td>0</td><td>&quot;Lokaler og uts…</td><td>&quot;Lokaler og uts…</td><td>0</td><td>&quot;Mat-håndtering…</td><td>&quot;Mat-handtering…</td><td>0</td><td>&quot;Merking og spo…</td><td>&quot;Merking og spo…</td><td>1</td><td>false</td></tr></tbody></table></div>"
      ],
      "text/plain": [
       "shape: (2, 26)\n",
       "┌───────────────────────────────────┬───────────┬───────────────────────────────────┬───────────────┬───┬───────────────────────┬────────────────────────┬───────────┬─────────┐\n",
       "│ tilsynsobjektid                   ┆ orgnummer ┆ navn                              ┆ adrlinje1     ┆ … ┆ tema4_no              ┆ tema4_nn               ┆ karakter4 ┆ surmunn │\n",
       "│ ---                               ┆ ---       ┆ ---                               ┆ ---           ┆   ┆ ---                   ┆ ---                    ┆ ---       ┆ ---     │\n",
       "│ str                               ┆ i64       ┆ str                               ┆ str           ┆   ┆ str                   ┆ str                    ┆ i64       ┆ bool    │\n",
       "╞═══════════════════════════════════╪═══════════╪═══════════════════════════════════╪═══════════════╪═══╪═══════════════════════╪════════════════════════╪═══════════╪═════════╡\n",
       "│ Z1501071230082032024GTOXC_Tilsyn… ┆ 914541034 ┆ Bakeriet i Brumunddal avdeling C… ┆ VANGSVEGEN 62 ┆ … ┆ Merking og sporbarhet ┆ Merking og sporbarheit ┆ 0         ┆ false   │\n",
       "│ Z1006120609250331126HFNXO_Tilsyn… ┆ 987770740 ┆ Aktiven skiheis - Varmestova og … ┆ Kvamskogen    ┆ … ┆ Merking og sporbarhet ┆ Merking og sporbarheit ┆ 1         ┆ false   │\n",
       "└───────────────────────────────────┴───────────┴───────────────────────────────────┴───────────────┴───┴───────────────────────┴────────────────────────┴───────────┴─────────┘"
      ]
     },
     "execution_count": 12,
     "metadata": {},
     "output_type": "execute_result"
    }
   ],
   "source": [
    "#2 Lag en ny kolonne som er true hvis kontrollen er surmunn (bruk total_karakter), false hvis ikke. Kall kolonnen \"surmunn\".\n",
    "df_t = df_t.with_columns(\n",
    "    surmunn=pl.col(\"total_karakter\").eq(pl.lit(3))\n",
    ")\n",
    "df_t.head(2)"
   ]
  },
  {
   "cell_type": "code",
   "execution_count": 15,
   "id": "c5d1b907-18bc-4225-8f40-d75f962bf55e",
   "metadata": {},
   "outputs": [
    {
     "data": {
      "text/html": [
       "<div><style>\n",
       ".dataframe > thead > tr,\n",
       ".dataframe > tbody > tr {\n",
       "  text-align: right;\n",
       "  white-space: pre-wrap;\n",
       "}\n",
       "</style>\n",
       "<small>shape: (2, 27)</small><table border=\"1\" class=\"dataframe\"><thead><tr><th>tilsynsobjektid</th><th>orgnummer</th><th>navn</th><th>adrlinje1</th><th>adrlinje2</th><th>postnr</th><th>poststed</th><th>tilsynid</th><th>sakref</th><th>status</th><th>dato</th><th>total_karakter</th><th>tilsynsbesoektype</th><th>tema1_no</th><th>tema1_nn</th><th>karakter1</th><th>tema2_no</th><th>tema2_nn</th><th>karakter2</th><th>tema3_no</th><th>tema3_nn</th><th>karakter3</th><th>tema4_no</th><th>tema4_nn</th><th>karakter4</th><th>surmunn</th><th>år</th></tr><tr><td>str</td><td>i64</td><td>str</td><td>str</td><td>str</td><td>str</td><td>str</td><td>str</td><td>str</td><td>i64</td><td>date</td><td>i64</td><td>i64</td><td>str</td><td>str</td><td>i64</td><td>str</td><td>str</td><td>i64</td><td>str</td><td>str</td><td>i64</td><td>str</td><td>str</td><td>i64</td><td>bool</td><td>i32</td></tr></thead><tbody><tr><td>&quot;Z1501071230082…</td><td>914541034</td><td>&quot;Bakeriet i Bru…</td><td>&quot;VANGSVEGEN 62&quot;</td><td>null</td><td>&quot;2317&quot;</td><td>&quot;HAMAR&quot;</td><td>&quot;Z1601211510285…</td><td>&quot;2016/6663&quot;</td><td>0</td><td>2016-01-21</td><td>1</td><td>0</td><td>&quot;Rutiner og led…</td><td>&quot;Rutiner og lei…</td><td>1</td><td>&quot;Lokaler og uts…</td><td>&quot;Lokaler og uts…</td><td>1</td><td>&quot;Mat-håndtering…</td><td>&quot;Mat-handtering…</td><td>1</td><td>&quot;Merking og spo…</td><td>&quot;Merking og spo…</td><td>0</td><td>false</td><td>2016</td></tr><tr><td>&quot;Z1006120609250…</td><td>987770740</td><td>&quot;Aktiven skihei…</td><td>&quot;Kvamskogen&quot;</td><td>null</td><td>&quot;5600&quot;</td><td>&quot;NORHEIMSUND&quot;</td><td>&quot;Z1603101430592…</td><td>&quot;2016/53185&quot;</td><td>0</td><td>2016-03-10</td><td>1</td><td>0</td><td>&quot;Rutiner og led…</td><td>&quot;Rutiner og lei…</td><td>0</td><td>&quot;Lokaler og uts…</td><td>&quot;Lokaler og uts…</td><td>0</td><td>&quot;Mat-håndtering…</td><td>&quot;Mat-handtering…</td><td>0</td><td>&quot;Merking og spo…</td><td>&quot;Merking og spo…</td><td>1</td><td>false</td><td>2016</td></tr></tbody></table></div>"
      ],
      "text/plain": [
       "shape: (2, 27)\n",
       "┌───────────────────────────────────┬───────────┬───────────────────────────────────┬───────────────┬───┬────────────────────────┬───────────┬─────────┬──────┐\n",
       "│ tilsynsobjektid                   ┆ orgnummer ┆ navn                              ┆ adrlinje1     ┆ … ┆ tema4_nn               ┆ karakter4 ┆ surmunn ┆ år   │\n",
       "│ ---                               ┆ ---       ┆ ---                               ┆ ---           ┆   ┆ ---                    ┆ ---       ┆ ---     ┆ ---  │\n",
       "│ str                               ┆ i64       ┆ str                               ┆ str           ┆   ┆ str                    ┆ i64       ┆ bool    ┆ i32  │\n",
       "╞═══════════════════════════════════╪═══════════╪═══════════════════════════════════╪═══════════════╪═══╪════════════════════════╪═══════════╪═════════╪══════╡\n",
       "│ Z1501071230082032024GTOXC_Tilsyn… ┆ 914541034 ┆ Bakeriet i Brumunddal avdeling C… ┆ VANGSVEGEN 62 ┆ … ┆ Merking og sporbarheit ┆ 0         ┆ false   ┆ 2016 │\n",
       "│ Z1006120609250331126HFNXO_Tilsyn… ┆ 987770740 ┆ Aktiven skiheis - Varmestova og … ┆ Kvamskogen    ┆ … ┆ Merking og sporbarheit ┆ 1         ┆ false   ┆ 2016 │\n",
       "└───────────────────────────────────┴───────────┴───────────────────────────────────┴───────────────┴───┴────────────────────────┴───────────┴─────────┴──────┘"
      ]
     },
     "execution_count": 15,
     "metadata": {},
     "output_type": "execute_result"
    }
   ],
   "source": [
    "#3 Lag en ny kolonne med årstallet for kontrollen. Kall denne kolonnen for \"år\".\n",
    "df_t = df_t.with_columns(\n",
    "    år=pl.col(\"dato\").dt.year(),\n",
    ")\n",
    "df_t.head(2)"
   ]
  },
  {
   "cell_type": "code",
   "execution_count": 16,
   "id": "70c3d975-be28-4688-874e-86a0c9327ffd",
   "metadata": {},
   "outputs": [
    {
     "data": {
      "text/html": [
       "<div><style>\n",
       ".dataframe > thead > tr,\n",
       ".dataframe > tbody > tr {\n",
       "  text-align: right;\n",
       "  white-space: pre-wrap;\n",
       "}\n",
       "</style>\n",
       "<small>shape: (8_988, 3)</small><table border=\"1\" class=\"dataframe\"><thead><tr><th>orgnummer</th><th>navn</th><th>antall_kontroller</th></tr><tr><td>i64</td><td>str</td><td>u32</td></tr></thead><tbody><tr><td>914541034</td><td>&quot;Bakeriet i Bru…</td><td>10</td></tr><tr><td>987046848</td><td>&quot;Kjelstad Baker…</td><td>7</td></tr><tr><td>997644832</td><td>&quot;Café Lasse&quot;</td><td>9</td></tr><tr><td>972805025</td><td>&quot;Kafe Edgar&quot;</td><td>6</td></tr><tr><td>984934580</td><td>&quot;Bliss Consept …</td><td>2</td></tr><tr><td>974052393</td><td>&quot;Magnussen Kaff…</td><td>9</td></tr><tr><td>994811428</td><td>&quot;Lofoten Fisker…</td><td>7</td></tr><tr><td>816392012</td><td>&quot;Pronto Pizza A…</td><td>7</td></tr><tr><td>989541137</td><td>&quot;Park cafeen&quot;</td><td>2</td></tr><tr><td>984097549</td><td>&quot;Thon Hotel Are…</td><td>5</td></tr><tr><td>894174552</td><td>&quot;Serranos Bodeg…</td><td>9</td></tr><tr><td>972044806</td><td>&quot;Harry Pepper &quot;</td><td>9</td></tr><tr><td>&hellip;</td><td>&hellip;</td><td>&hellip;</td></tr><tr><td>926779729</td><td>&quot;Di Sopra Di So…</td><td>1</td></tr><tr><td>931267051</td><td>&quot;Møteplassen MB…</td><td>1</td></tr><tr><td>919504714</td><td>&quot;MS Richard Wit…</td><td>1</td></tr><tr><td>822221122</td><td>&quot;Hytta Pizzeria…</td><td>1</td></tr><tr><td>919903805</td><td>&quot;Dominos pizza …</td><td>1</td></tr><tr><td>929009371</td><td>&quot;Injera &quot;</td><td>1</td></tr><tr><td>913086775</td><td>&quot;Bymisjonskafée…</td><td>1</td></tr><tr><td>917605556</td><td>&quot;Mad Goat Tap R…</td><td>1</td></tr><tr><td>983243258</td><td>&quot;McDonald Grims…</td><td>1</td></tr><tr><td>929472160</td><td>&quot;Tollboden rest…</td><td>1</td></tr><tr><td>972390119</td><td>&quot;McDonalds Tøns…</td><td>1</td></tr><tr><td>925729353</td><td>&quot;Moxy Bergen &quot;</td><td>1</td></tr></tbody></table></div>"
      ],
      "text/plain": [
       "shape: (8_988, 3)\n",
       "┌───────────┬───────────────────────────────────┬───────────────────┐\n",
       "│ orgnummer ┆ navn                              ┆ antall_kontroller │\n",
       "│ ---       ┆ ---                               ┆ ---               │\n",
       "│ i64       ┆ str                               ┆ u32               │\n",
       "╞═══════════╪═══════════════════════════════════╪═══════════════════╡\n",
       "│ 914541034 ┆ Bakeriet i Brumunddal avdeling C… ┆ 10                │\n",
       "│ 987046848 ┆ Kjelstad Bakeri Gjøvik            ┆ 7                 │\n",
       "│ 997644832 ┆ Café Lasse                        ┆ 9                 │\n",
       "│ 972805025 ┆ Kafe Edgar                        ┆ 6                 │\n",
       "│ 984934580 ┆ Bliss Consept AS                  ┆ 2                 │\n",
       "│ …         ┆ …                                 ┆ …                 │\n",
       "│ 917605556 ┆ Mad Goat Tap Room                 ┆ 1                 │\n",
       "│ 983243258 ┆ McDonald Grimstad                 ┆ 1                 │\n",
       "│ 929472160 ┆ Tollboden restaurant              ┆ 1                 │\n",
       "│ 972390119 ┆ McDonalds Tønsberg                ┆ 1                 │\n",
       "│ 925729353 ┆ Moxy Bergen                       ┆ 1                 │\n",
       "└───────────┴───────────────────────────────────┴───────────────────┘"
      ]
     },
     "execution_count": 16,
     "metadata": {},
     "output_type": "execute_result"
    }
   ],
   "source": [
    "#4 Tell antall kontroller pr. serveringssted \n",
    "df_t.group_by(\"orgnummer\", \"navn\").agg(\n",
    "    pl.col(\"tilsynid\").count().alias(\"antall_kontroller\")\n",
    ")"
   ]
  },
  {
   "cell_type": "code",
   "execution_count": 18,
   "id": "dd14bb90-a904-4144-99dc-ace48a94c77e",
   "metadata": {},
   "outputs": [
    {
     "data": {
      "text/html": [
       "<div><style>\n",
       ".dataframe > thead > tr,\n",
       ".dataframe > tbody > tr {\n",
       "  text-align: right;\n",
       "  white-space: pre-wrap;\n",
       "}\n",
       "</style>\n",
       "<small>shape: (7, 3)</small><table border=\"1\" class=\"dataframe\"><thead><tr><th>orgnummer</th><th>navn</th><th>antall_kontroller</th></tr><tr><td>i64</td><td>str</td><td>u32</td></tr></thead><tbody><tr><td>917820902</td><td>&quot;FAST AND TASTY…</td><td>23</td></tr><tr><td>974004267</td><td>&quot;Nye Kro og Piz…</td><td>22</td></tr><tr><td>914275857</td><td>&quot;(Ikke gyldig, …</td><td>22</td></tr><tr><td>815977882</td><td>&quot;Kebabish Origi…</td><td>20</td></tr><tr><td>997605764</td><td>&quot;Teater Kebab&quot;</td><td>19</td></tr><tr><td>972311308</td><td>&quot;Punjabi Masala…</td><td>19</td></tr><tr><td>993386642</td><td>&quot;Beijing Restau…</td><td>19</td></tr></tbody></table></div>"
      ],
      "text/plain": [
       "shape: (7, 3)\n",
       "┌───────────┬───────────────────────────────────┬───────────────────┐\n",
       "│ orgnummer ┆ navn                              ┆ antall_kontroller │\n",
       "│ ---       ┆ ---                               ┆ ---               │\n",
       "│ i64       ┆ str                               ┆ u32               │\n",
       "╞═══════════╪═══════════════════════════════════╪═══════════════════╡\n",
       "│ 917820902 ┆ FAST AND TASTY                    ┆ 23                │\n",
       "│ 974004267 ┆ Nye Kro og Pizzabakeriet          ┆ 22                │\n",
       "│ 914275857 ┆ (Ikke gyldig, se ny) Din Sushi L… ┆ 22                │\n",
       "│ 815977882 ┆ Kebabish Original                 ┆ 20                │\n",
       "│ 997605764 ┆ Teater Kebab                      ┆ 19                │\n",
       "│ 972311308 ┆ Punjabi Masala                    ┆ 19                │\n",
       "│ 993386642 ┆ Beijing Restaurant                ┆ 19                │\n",
       "└───────────┴───────────────────────────────────┴───────────────────┘"
      ]
     },
     "execution_count": 18,
     "metadata": {},
     "output_type": "execute_result"
    }
   ],
   "source": [
    "#5 Finn serveringsstedet med flest antall kontroller.\n",
    "df_t.group_by(\"orgnummer\", \"navn\").agg(\n",
    "    pl.col(\"tilsynid\").count().alias(\"antall_kontroller\")\n",
    ").sort(\"antall_kontroller\", descending=True).head(7)"
   ]
  },
  {
   "cell_type": "code",
   "execution_count": 21,
   "id": "846fafde-cb93-4bd5-a854-54280d3c3b26",
   "metadata": {},
   "outputs": [
    {
     "data": {
      "text/html": [
       "<div><style>\n",
       ".dataframe > thead > tr,\n",
       ".dataframe > tbody > tr {\n",
       "  text-align: right;\n",
       "  white-space: pre-wrap;\n",
       "}\n",
       "</style>\n",
       "<small>shape: (10, 4)</small><table border=\"1\" class=\"dataframe\"><thead><tr><th>orgnummer</th><th>navn</th><th>år</th><th>antall_kontroller</th></tr><tr><td>i64</td><td>str</td><td>i32</td><td>u32</td></tr></thead><tbody><tr><td>974004267</td><td>&quot;Nye Kro og Piz…</td><td>2018</td><td>11</td></tr><tr><td>815977882</td><td>&quot;Kebabish Origi…</td><td>2016</td><td>8</td></tr><tr><td>918969497</td><td>&quot;Taj India&quot;</td><td>2023</td><td>8</td></tr><tr><td>920375944</td><td>&quot;St bar m Zafar…</td><td>2023</td><td>8</td></tr><tr><td>995243199</td><td>&quot;Veitvet Sportb…</td><td>2018</td><td>8</td></tr><tr><td>917820902</td><td>&quot;FAST AND TASTY…</td><td>2017</td><td>8</td></tr><tr><td>922531188</td><td>&quot;Hos Martin Øst…</td><td>2023</td><td>7</td></tr><tr><td>899607562</td><td>&quot;Dovrestua &quot;</td><td>2017</td><td>7</td></tr><tr><td>919785101</td><td>&quot;Raudals Kro v.…</td><td>2019</td><td>7</td></tr><tr><td>997458419</td><td>&quot;Manis Mat og B…</td><td>2018</td><td>7</td></tr></tbody></table></div>"
      ],
      "text/plain": [
       "shape: (10, 4)\n",
       "┌───────────┬───────────────────────────────┬──────┬───────────────────┐\n",
       "│ orgnummer ┆ navn                          ┆ år   ┆ antall_kontroller │\n",
       "│ ---       ┆ ---                           ┆ ---  ┆ ---               │\n",
       "│ i64       ┆ str                           ┆ i32  ┆ u32               │\n",
       "╞═══════════╪═══════════════════════════════╪══════╪═══════════════════╡\n",
       "│ 974004267 ┆ Nye Kro og Pizzabakeriet      ┆ 2018 ┆ 11                │\n",
       "│ 815977882 ┆ Kebabish Original             ┆ 2016 ┆ 8                 │\n",
       "│ 918969497 ┆ Taj India                     ┆ 2023 ┆ 8                 │\n",
       "│ 920375944 ┆ St bar m Zafar                ┆ 2023 ┆ 8                 │\n",
       "│ 995243199 ┆ Veitvet Sportbar & Pizza AS   ┆ 2018 ┆ 8                 │\n",
       "│ 917820902 ┆ FAST AND TASTY                ┆ 2017 ┆ 8                 │\n",
       "│ 922531188 ┆ Hos Martin Øst                ┆ 2023 ┆ 7                 │\n",
       "│ 899607562 ┆ Dovrestua                     ┆ 2017 ┆ 7                 │\n",
       "│ 919785101 ┆ Raudals Kro v. Bulent Øzsirin ┆ 2019 ┆ 7                 │\n",
       "│ 997458419 ┆ Manis Mat og Bar              ┆ 2018 ┆ 7                 │\n",
       "└───────────┴───────────────────────────────┴──────┴───────────────────┘"
      ]
     },
     "execution_count": 21,
     "metadata": {},
     "output_type": "execute_result"
    }
   ],
   "source": [
    "#6. Finn serveringsstedet med flest antall kontroller i et år - hint: bruk pl.col(\"dato\").dt.year() i grupperingen.\n",
    "df_t.group_by(\"orgnummer\", \"navn\", \"år\").agg(\n",
    "    pl.col(\"tilsynid\").count().alias(\"antall_kontroller\")\n",
    ").sort(\"antall_kontroller\", descending=True).head(10)"
   ]
  },
  {
   "cell_type": "code",
   "execution_count": 22,
   "id": "6ce3616f-7ef7-4c9c-99ba-78f0a88a9354",
   "metadata": {},
   "outputs": [
    {
     "data": {
      "text/html": [
       "<div><style>\n",
       ".dataframe > thead > tr,\n",
       ".dataframe > tbody > tr {\n",
       "  text-align: right;\n",
       "  white-space: pre-wrap;\n",
       "}\n",
       "</style>\n",
       "<small>shape: (8_988, 3)</small><table border=\"1\" class=\"dataframe\"><thead><tr><th>orgnummer</th><th>navn</th><th>antall_surmunn</th></tr><tr><td>i64</td><td>str</td><td>u32</td></tr></thead><tbody><tr><td>995243199</td><td>&quot;Veitvet Sportb…</td><td>6</td></tr><tr><td>921187777</td><td>&quot;Oslo kebab &amp; p…</td><td>6</td></tr><tr><td>913966244</td><td>&quot;Sanjays AS&quot;</td><td>5</td></tr><tr><td>921642571</td><td>&quot;Mikado&quot;</td><td>4</td></tr><tr><td>914275857</td><td>&quot;(Ikke gyldig, …</td><td>4</td></tr><tr><td>915170390</td><td>&quot;Høland`s Pizza…</td><td>4</td></tr><tr><td>922002894</td><td>&quot;Savanna&quot;</td><td>4</td></tr><tr><td>927025183</td><td>&quot;Nem. Vietnames…</td><td>4</td></tr><tr><td>924536551</td><td>&quot;Valeri Kebab&quot;</td><td>4</td></tr><tr><td>813412012</td><td>&quot;Baba sushi&quot;</td><td>4</td></tr><tr><td>972003859</td><td>&quot;Vindfjelltunet…</td><td>3</td></tr><tr><td>993267732</td><td>&quot;Fuji Sushi AS&quot;</td><td>3</td></tr><tr><td>&hellip;</td><td>&hellip;</td><td>&hellip;</td></tr><tr><td>932514761</td><td>&quot;Hos Martin Vic…</td><td>0</td></tr><tr><td>919504714</td><td>&quot;MS Richard Wit…</td><td>0</td></tr><tr><td>979535759</td><td>&quot;Aurdal Fjellpa…</td><td>0</td></tr><tr><td>919504714</td><td>&quot;MS Trollfjord&quot;</td><td>0</td></tr><tr><td>829669862</td><td>&quot;Silver Chopsti…</td><td>0</td></tr><tr><td>929093887</td><td>&quot;Namaste&quot;</td><td>0</td></tr><tr><td>925221546</td><td>&quot;Kroa Kvinesdal…</td><td>0</td></tr><tr><td>925104698</td><td>&quot;Ni Hao Restaur…</td><td>0</td></tr><tr><td>918558411</td><td>&quot;Baker Hansen W…</td><td>0</td></tr><tr><td>931733761</td><td>&quot;Fishy Busines&quot;</td><td>0</td></tr><tr><td>929227603</td><td>&quot;Fru Ulrickes&quot;</td><td>0</td></tr><tr><td>932158868</td><td>&quot;Tinholt bakeri…</td><td>0</td></tr></tbody></table></div>"
      ],
      "text/plain": [
       "shape: (8_988, 3)\n",
       "┌───────────┬───────────────────────────────────┬────────────────┐\n",
       "│ orgnummer ┆ navn                              ┆ antall_surmunn │\n",
       "│ ---       ┆ ---                               ┆ ---            │\n",
       "│ i64       ┆ str                               ┆ u32            │\n",
       "╞═══════════╪═══════════════════════════════════╪════════════════╡\n",
       "│ 995243199 ┆ Veitvet Sportbar & Pizza AS       ┆ 6              │\n",
       "│ 921187777 ┆ Oslo kebab & pizza                ┆ 6              │\n",
       "│ 913966244 ┆ Sanjays AS                        ┆ 5              │\n",
       "│ 921642571 ┆ Mikado                            ┆ 4              │\n",
       "│ 914275857 ┆ (Ikke gyldig, se ny) Din Sushi L… ┆ 4              │\n",
       "│ …         ┆ …                                 ┆ …              │\n",
       "│ 925104698 ┆ Ni Hao Restaurant                 ┆ 0              │\n",
       "│ 918558411 ┆ Baker Hansen Wesselsgate          ┆ 0              │\n",
       "│ 931733761 ┆ Fishy Busines                     ┆ 0              │\n",
       "│ 929227603 ┆ Fru Ulrickes                      ┆ 0              │\n",
       "│ 932158868 ┆ Tinholt bakeri - Lietorvet        ┆ 0              │\n",
       "└───────────┴───────────────────────────────────┴────────────────┘"
      ]
     },
     "execution_count": 22,
     "metadata": {},
     "output_type": "execute_result"
    }
   ],
   "source": [
    "# 7. Tell antall surmunn pr. serveringssted, sorter synkende på antall surmunn. Hint: bruk sum over kolonnen surmunn i en groupby agg. \n",
    "df_t.group_by(\"orgnummer\", \"navn\").agg(\n",
    "    pl.col(\"surmunn\").sum().alias(\"antall_surmunn\")\n",
    ").sort(\"antall_surmunn\", descending=True)"
   ]
  },
  {
   "cell_type": "code",
   "execution_count": 23,
   "id": "6c10f730-edcd-459c-8078-b6719d9f8065",
   "metadata": {},
   "outputs": [
    {
     "data": {
      "text/html": [
       "<div><style>\n",
       ".dataframe > thead > tr,\n",
       ".dataframe > tbody > tr {\n",
       "  text-align: right;\n",
       "  white-space: pre-wrap;\n",
       "}\n",
       "</style>\n",
       "<small>shape: (8_988, 3)</small><table border=\"1\" class=\"dataframe\"><thead><tr><th>orgnummer</th><th>navn</th><th>antall_surmunn_eller_strekmunn</th></tr><tr><td>i64</td><td>str</td><td>u32</td></tr></thead><tbody><tr><td>914275857</td><td>&quot;(Ikke gyldig, …</td><td>15</td></tr><tr><td>974004267</td><td>&quot;Nye Kro og Piz…</td><td>13</td></tr><tr><td>917820902</td><td>&quot;FAST AND TASTY…</td><td>12</td></tr><tr><td>972311308</td><td>&quot;Punjabi Masala…</td><td>12</td></tr><tr><td>995243199</td><td>&quot;Veitvet Sportb…</td><td>12</td></tr><tr><td>919785101</td><td>&quot;Raudals Kro v.…</td><td>11</td></tr><tr><td>899607562</td><td>&quot;Dovrestua &quot;</td><td>11</td></tr><tr><td>974432234</td><td>&quot;Tukthuset Mat …</td><td>11</td></tr><tr><td>813412012</td><td>&quot;Baba sushi&quot;</td><td>11</td></tr><tr><td>913966244</td><td>&quot;Sanjays AS&quot;</td><td>11</td></tr><tr><td>998660408</td><td>&quot;SEA SUSHI BAR&quot;</td><td>11</td></tr><tr><td>915839118</td><td>&quot;JOE &amp; THE JUIC…</td><td>11</td></tr><tr><td>&hellip;</td><td>&hellip;</td><td>&hellip;</td></tr><tr><td>931095714</td><td>&quot;Spicy Bite&quot;</td><td>0</td></tr><tr><td>924987766</td><td>&quot;Den Sorte Gryt…</td><td>0</td></tr><tr><td>929009371</td><td>&quot;Injera &quot;</td><td>0</td></tr><tr><td>928702081</td><td>&quot;Apothekeria&quot;</td><td>0</td></tr><tr><td>982137837</td><td>&quot;Napoli Pizzeri…</td><td>0</td></tr><tr><td>974737647</td><td>&quot;MF Moldefjord&quot;</td><td>0</td></tr><tr><td>931695568</td><td>&quot;Baker Samson a…</td><td>0</td></tr><tr><td>974610078</td><td>&quot;Kafe Nissedal …</td><td>0</td></tr><tr><td>827047112</td><td>&quot;Restaurant Hef…</td><td>0</td></tr><tr><td>972390119</td><td>&quot;McDonalds Tøns…</td><td>0</td></tr><tr><td>931733761</td><td>&quot;Fishy Busines&quot;</td><td>0</td></tr><tr><td>931713434</td><td>&quot;Sognaporten&quot;</td><td>0</td></tr></tbody></table></div>"
      ],
      "text/plain": [
       "shape: (8_988, 3)\n",
       "┌───────────┬───────────────────────────────────┬────────────────────────────────┐\n",
       "│ orgnummer ┆ navn                              ┆ antall_surmunn_eller_strekmunn │\n",
       "│ ---       ┆ ---                               ┆ ---                            │\n",
       "│ i64       ┆ str                               ┆ u32                            │\n",
       "╞═══════════╪═══════════════════════════════════╪════════════════════════════════╡\n",
       "│ 914275857 ┆ (Ikke gyldig, se ny) Din Sushi L… ┆ 15                             │\n",
       "│ 974004267 ┆ Nye Kro og Pizzabakeriet          ┆ 13                             │\n",
       "│ 917820902 ┆ FAST AND TASTY                    ┆ 12                             │\n",
       "│ 972311308 ┆ Punjabi Masala                    ┆ 12                             │\n",
       "│ 995243199 ┆ Veitvet Sportbar & Pizza AS       ┆ 12                             │\n",
       "│ …         ┆ …                                 ┆ …                              │\n",
       "│ 974610078 ┆ Kafe Nissedal omsorgsenter        ┆ 0                              │\n",
       "│ 827047112 ┆ Restaurant Heftye                 ┆ 0                              │\n",
       "│ 972390119 ┆ McDonalds Tønsberg                ┆ 0                              │\n",
       "│ 931733761 ┆ Fishy Busines                     ┆ 0                              │\n",
       "│ 931713434 ┆ Sognaporten                       ┆ 0                              │\n",
       "└───────────┴───────────────────────────────────┴────────────────────────────────┘"
      ]
     },
     "execution_count": 23,
     "metadata": {},
     "output_type": "execute_result"
    }
   ],
   "source": [
    "# 8 Finn antall surmunn eller strekmunn pr. serveringssted.\n",
    "df_t.group_by(\"orgnummer\", \"navn\").agg(\n",
    "    pl.col(\"total_karakter\").is_in([2,3]).sum().alias(\"antall_surmunn_eller_strekmunn\")\n",
    ").sort(\"antall_surmunn_eller_strekmunn\", descending=True)"
   ]
  },
  {
   "cell_type": "code",
   "execution_count": 25,
   "id": "6f816193-fe65-426c-bb86-005cd9f95632",
   "metadata": {},
   "outputs": [
    {
     "data": {
      "text/html": [
       "<div><style>\n",
       ".dataframe > thead > tr,\n",
       ".dataframe > tbody > tr {\n",
       "  text-align: right;\n",
       "  white-space: pre-wrap;\n",
       "}\n",
       "</style>\n",
       "<small>shape: (480, 27)</small><table border=\"1\" class=\"dataframe\"><thead><tr><th>tilsynsobjektid</th><th>orgnummer</th><th>navn</th><th>adrlinje1</th><th>adrlinje2</th><th>postnr</th><th>poststed</th><th>tilsynid</th><th>sakref</th><th>status</th><th>dato</th><th>total_karakter</th><th>tilsynsbesoektype</th><th>tema1_no</th><th>tema1_nn</th><th>karakter1</th><th>tema2_no</th><th>tema2_nn</th><th>karakter2</th><th>tema3_no</th><th>tema3_nn</th><th>karakter3</th><th>tema4_no</th><th>tema4_nn</th><th>karakter4</th><th>surmunn</th><th>år</th></tr><tr><td>str</td><td>i64</td><td>str</td><td>str</td><td>str</td><td>str</td><td>str</td><td>str</td><td>str</td><td>i64</td><td>date</td><td>i64</td><td>i64</td><td>str</td><td>str</td><td>i64</td><td>str</td><td>str</td><td>i64</td><td>str</td><td>str</td><td>i64</td><td>str</td><td>str</td><td>i64</td><td>bool</td><td>i32</td></tr></thead><tbody><tr><td>&quot;Z1909261320111…</td><td>916942931</td><td>&quot;Kontoret&quot;</td><td>&quot;Storgaten 30&quot;</td><td>null</td><td>&quot;3126&quot;</td><td>&quot;TØNSBERG&quot;</td><td>&quot;Z2401191036505…</td><td>&quot;2024/7310&quot;</td><td>0</td><td>2024-01-19</td><td>0</td><td>1</td><td>&quot;Rutiner og led…</td><td>&quot;Rutiner og lei…</td><td>0</td><td>&quot;Lokaler og uts…</td><td>&quot;Lokaler og uts…</td><td>0</td><td>&quot;Mat-håndtering…</td><td>&quot;Mat-handtering…</td><td>1</td><td>&quot;Merking og spo…</td><td>&quot;Merking og spo…</td><td>null</td><td>false</td><td>2024</td></tr><tr><td>&quot;Z1909261320111…</td><td>916942931</td><td>&quot;Kontoret&quot;</td><td>&quot;Storgaten 30&quot;</td><td>null</td><td>&quot;3126&quot;</td><td>&quot;TØNSBERG&quot;</td><td>&quot;Z2401111324403…</td><td>&quot;2024/7310&quot;</td><td>0</td><td>2024-01-11</td><td>2</td><td>0</td><td>&quot;Rutiner og led…</td><td>&quot;Rutiner og lei…</td><td>2</td><td>&quot;Lokaler og uts…</td><td>&quot;Lokaler og uts…</td><td>2</td><td>&quot;Mat-håndtering…</td><td>&quot;Mat-handtering…</td><td>2</td><td>&quot;Merking og spo…</td><td>&quot;Merking og spo…</td><td>null</td><td>false</td><td>2024</td></tr><tr><td>&quot;Z2006101112483…</td><td>995084929</td><td>&quot;Lucky Bowl, Ho…</td><td>&quot;Borreveien 42&quot;</td><td>null</td><td>&quot;3186&quot;</td><td>&quot;HORTEN&quot;</td><td>&quot;Z2310171505090…</td><td>&quot;2023/222122&quot;</td><td>0</td><td>2023-10-17</td><td>1</td><td>0</td><td>&quot;Rutiner og led…</td><td>&quot;Rutiner og lei…</td><td>0</td><td>&quot;Lokaler og uts…</td><td>&quot;Lokaler og uts…</td><td>1</td><td>&quot;Mat-håndtering…</td><td>&quot;Mat-handtering…</td><td>0</td><td>&quot;Merking og spo…</td><td>&quot;Merking og spo…</td><td>0</td><td>false</td><td>2023</td></tr><tr><td>&quot;Z2309251213012…</td><td>932199327</td><td>&quot;Traktern AS&quot;</td><td>&quot;Falsens gate 1…</td><td>null</td><td>&quot;3187&quot;</td><td>&quot;HORTEN&quot;</td><td>&quot;Z2310121408593…</td><td>&quot;2023/218688&quot;</td><td>0</td><td>2023-10-12</td><td>0</td><td>0</td><td>&quot;Rutiner og led…</td><td>&quot;Rutiner og lei…</td><td>0</td><td>&quot;Lokaler og uts…</td><td>&quot;Lokaler og uts…</td><td>0</td><td>&quot;Mat-håndtering…</td><td>&quot;Mat-handtering…</td><td>0</td><td>&quot;Merking og spo…</td><td>&quot;Merking og spo…</td><td>0</td><td>false</td><td>2023</td></tr><tr><td>&quot;Z1505120919157…</td><td>971945389</td><td>&quot;Nye Bamboo Gar…</td><td>&quot;Øvre Langgate …</td><td>null</td><td>&quot;3110&quot;</td><td>&quot;TØNSBERG&quot;</td><td>&quot;Z2310051608534…</td><td>&quot;2023/213328&quot;</td><td>0</td><td>2023-10-05</td><td>1</td><td>0</td><td>&quot;Rutiner og led…</td><td>&quot;Rutiner og lei…</td><td>0</td><td>&quot;Lokaler og uts…</td><td>&quot;Lokaler og uts…</td><td>1</td><td>&quot;Mat-håndtering…</td><td>&quot;Mat-handtering…</td><td>1</td><td>&quot;Merking og spo…</td><td>&quot;Merking og spo…</td><td>1</td><td>false</td><td>2023</td></tr><tr><td>&quot;Z1703031027480…</td><td>979536461</td><td>&quot;Cafe  Eiktoppe…</td><td>&quot;EIKVEIEN 49&quot;</td><td>null</td><td>&quot;3122&quot;</td><td>&quot;TØNSBERG&quot;</td><td>&quot;Z2309281325030…</td><td>&quot;2023/207250&quot;</td><td>0</td><td>2023-09-28</td><td>1</td><td>0</td><td>&quot;Rutiner og led…</td><td>&quot;Rutiner og lei…</td><td>0</td><td>&quot;Lokaler og uts…</td><td>&quot;Lokaler og uts…</td><td>1</td><td>&quot;Mat-håndtering…</td><td>&quot;Mat-handtering…</td><td>0</td><td>&quot;Merking og spo…</td><td>&quot;Merking og spo…</td><td>0</td><td>false</td><td>2023</td></tr><tr><td>&quot;Z2112062350006…</td><td>987446722</td><td>&quot;Alfredo Rossi&quot;</td><td>&quot;Vektergården&quot;</td><td>&quot;Langgata 2&quot;</td><td>&quot;3188&quot;</td><td>&quot;HORTEN&quot;</td><td>&quot;Z2309211401502…</td><td>&quot;2023/201204&quot;</td><td>0</td><td>2023-09-21</td><td>1</td><td>0</td><td>&quot;Rutiner og led…</td><td>&quot;Rutiner og lei…</td><td>0</td><td>&quot;Lokaler og uts…</td><td>&quot;Lokaler og uts…</td><td>1</td><td>&quot;Mat-håndtering…</td><td>&quot;Mat-handtering…</td><td>1</td><td>&quot;Merking og spo…</td><td>&quot;Merking og spo…</td><td>0</td><td>false</td><td>2023</td></tr><tr><td>&quot;Z1511031231512…</td><td>916144636</td><td>&quot;La Pergola&quot;</td><td>&quot;NEDRE LANGGATE…</td><td>null</td><td>&quot;3126&quot;</td><td>&quot;TØNSBERG&quot;</td><td>&quot;Z2309201455078…</td><td>&quot;2023/189969&quot;</td><td>0</td><td>2023-09-20</td><td>0</td><td>1</td><td>&quot;Rutiner og led…</td><td>&quot;Rutiner og lei…</td><td>0</td><td>&quot;Lokaler og uts…</td><td>&quot;Lokaler og uts…</td><td>0</td><td>&quot;Mat-håndtering…</td><td>&quot;Mat-handtering…</td><td>0</td><td>&quot;Merking og spo…</td><td>&quot;Merking og spo…</td><td>0</td><td>false</td><td>2023</td></tr><tr><td>&quot;Z2301241156064…</td><td>930215805</td><td>&quot;Bella Vista Ho…</td><td>&quot;Prestegaten 2A…</td><td>null</td><td>&quot;3181&quot;</td><td>&quot;HORTEN&quot;</td><td>&quot;Z2309141558437…</td><td>&quot;2023/195529&quot;</td><td>0</td><td>2023-09-14</td><td>1</td><td>0</td><td>&quot;Rutiner og led…</td><td>&quot;Rutiner og lei…</td><td>0</td><td>&quot;Lokaler og uts…</td><td>&quot;Lokaler og uts…</td><td>1</td><td>&quot;Mat-håndtering…</td><td>&quot;Mat-handtering…</td><td>0</td><td>&quot;Merking og spo…</td><td>&quot;Merking og spo…</td><td>0</td><td>false</td><td>2023</td></tr><tr><td>&quot;Z1006060856264…</td><td>983138535</td><td>&quot;Quality Hotel …</td><td>&quot;OLLEBUKTA 3&quot;</td><td>null</td><td>&quot;3126&quot;</td><td>&quot;TØNSBERG&quot;</td><td>&quot;Z2309141534143…</td><td>&quot;2023/195501&quot;</td><td>0</td><td>2023-09-14</td><td>1</td><td>0</td><td>&quot;Rutiner og led…</td><td>&quot;Rutiner og lei…</td><td>0</td><td>&quot;Lokaler og uts…</td><td>&quot;Lokaler og uts…</td><td>1</td><td>&quot;Mat-håndtering…</td><td>&quot;Mat-handtering…</td><td>0</td><td>&quot;Merking og spo…</td><td>&quot;Merking og spo…</td><td>0</td><td>false</td><td>2023</td></tr><tr><td>&quot;Z1511031231512…</td><td>916144636</td><td>&quot;La Pergola&quot;</td><td>&quot;NEDRE LANGGATE…</td><td>null</td><td>&quot;3126&quot;</td><td>&quot;TØNSBERG&quot;</td><td>&quot;Z2309081339421…</td><td>&quot;2023/189969&quot;</td><td>0</td><td>2023-09-06</td><td>2</td><td>0</td><td>&quot;Rutiner og led…</td><td>&quot;Rutiner og lei…</td><td>0</td><td>&quot;Lokaler og uts…</td><td>&quot;Lokaler og uts…</td><td>2</td><td>&quot;Mat-håndtering…</td><td>&quot;Mat-handtering…</td><td>0</td><td>&quot;Merking og spo…</td><td>&quot;Merking og spo…</td><td>0</td><td>false</td><td>2023</td></tr><tr><td>&quot;Z1708180846359…</td><td>918423206</td><td>&quot;Nynas Sushi Da…</td><td>&quot;Torvet 1A&quot;</td><td>null</td><td>&quot;3181&quot;</td><td>&quot;HORTEN&quot;</td><td>&quot;Z2308181804284…</td><td>&quot;2023/174768&quot;</td><td>0</td><td>2023-08-18</td><td>1</td><td>0</td><td>&quot;Rutiner og led…</td><td>&quot;Rutiner og lei…</td><td>0</td><td>&quot;Lokaler og uts…</td><td>&quot;Lokaler og uts…</td><td>1</td><td>&quot;Mat-håndtering…</td><td>&quot;Mat-handtering…</td><td>0</td><td>&quot;Merking og spo…</td><td>&quot;Merking og spo…</td><td>0</td><td>false</td><td>2023</td></tr><tr><td>&hellip;</td><td>&hellip;</td><td>&hellip;</td><td>&hellip;</td><td>&hellip;</td><td>&hellip;</td><td>&hellip;</td><td>&hellip;</td><td>&hellip;</td><td>&hellip;</td><td>&hellip;</td><td>&hellip;</td><td>&hellip;</td><td>&hellip;</td><td>&hellip;</td><td>&hellip;</td><td>&hellip;</td><td>&hellip;</td><td>&hellip;</td><td>&hellip;</td><td>&hellip;</td><td>&hellip;</td><td>&hellip;</td><td>&hellip;</td><td>&hellip;</td><td>&hellip;</td><td>&hellip;</td></tr><tr><td>&quot;Z1006060856264…</td><td>983138535</td><td>&quot;Quality Hotel …</td><td>&quot;OLLEBUKTA 3&quot;</td><td>null</td><td>&quot;3126&quot;</td><td>&quot;TØNSBERG&quot;</td><td>&quot;Z1602161451172…</td><td>&quot;2016/34946&quot;</td><td>0</td><td>2016-02-16</td><td>2</td><td>0</td><td>&quot;Rutiner og led…</td><td>&quot;Rutiner og lei…</td><td>1</td><td>&quot;Lokaler og uts…</td><td>&quot;Lokaler og uts…</td><td>2</td><td>&quot;Mat-håndtering…</td><td>&quot;Mat-handtering…</td><td>1</td><td>&quot;Merking og spo…</td><td>&quot;Merking og spo…</td><td>1</td><td>false</td><td>2016</td></tr><tr><td>&quot;Z1006060856237…</td><td>994692038</td><td>&quot;Paparazzi&quot;</td><td>&quot;NEDRE LANGGATE…</td><td>null</td><td>&quot;3126&quot;</td><td>&quot;TØNSBERG&quot;</td><td>&quot;Z1602151503337…</td><td>&quot;2016/34235&quot;</td><td>0</td><td>2016-02-15</td><td>1</td><td>0</td><td>&quot;Rutiner og led…</td><td>&quot;Rutiner og lei…</td><td>0</td><td>&quot;Lokaler og uts…</td><td>&quot;Lokaler og uts…</td><td>1</td><td>&quot;Mat-håndtering…</td><td>&quot;Mat-handtering…</td><td>0</td><td>&quot;Merking og spo…</td><td>&quot;Merking og spo…</td><td>0</td><td>false</td><td>2016</td></tr><tr><td>&quot;Z1006060856133…</td><td>972254568</td><td>&quot;Havariet&quot;</td><td>&quot;NEDRE LANGGATE…</td><td>null</td><td>&quot;3126&quot;</td><td>&quot;TØNSBERG&quot;</td><td>&quot;Z1602151229413…</td><td>&quot;2016/13613&quot;</td><td>0</td><td>2016-02-15</td><td>0</td><td>0</td><td>&quot;Rutiner og led…</td><td>&quot;Rutiner og lei…</td><td>0</td><td>&quot;Lokaler og uts…</td><td>&quot;Lokaler og uts…</td><td>0</td><td>&quot;Mat-håndtering…</td><td>&quot;Mat-handtering…</td><td>0</td><td>&quot;Merking og spo…</td><td>&quot;Merking og spo…</td><td>0</td><td>false</td><td>2016</td></tr><tr><td>&quot;Z1006180909084…</td><td>895373222</td><td>&quot;Kilden Bowling…</td><td>&quot;KILDEN 8&quot;</td><td>null</td><td>&quot;3118&quot;</td><td>&quot;TØNSBERG&quot;</td><td>&quot;Z1602121233139…</td><td>&quot;2016/32985&quot;</td><td>0</td><td>2016-02-12</td><td>1</td><td>0</td><td>&quot;Rutiner og led…</td><td>&quot;Rutiner og lei…</td><td>0</td><td>&quot;Lokaler og uts…</td><td>&quot;Lokaler og uts…</td><td>0</td><td>&quot;Mat-håndtering…</td><td>&quot;Mat-handtering…</td><td>1</td><td>&quot;Merking og spo…</td><td>&quot;Merking og spo…</td><td>0</td><td>false</td><td>2016</td></tr><tr><td>&quot;Z1504281442144…</td><td>984386931</td><td>&quot;Pizzavera Solv…</td><td>&quot;WERGELANDS VEI…</td><td>null</td><td>&quot;3117&quot;</td><td>&quot;TØNSBERG&quot;</td><td>&quot;Z1602120842515…</td><td>&quot;2016/29592&quot;</td><td>0</td><td>2016-02-11</td><td>2</td><td>0</td><td>&quot;Rutiner og led…</td><td>&quot;Rutiner og lei…</td><td>1</td><td>&quot;Lokaler og uts…</td><td>&quot;Lokaler og uts…</td><td>2</td><td>&quot;Mat-håndtering…</td><td>&quot;Mat-handtering…</td><td>2</td><td>&quot;Merking og spo…</td><td>&quot;Merking og spo…</td><td>2</td><td>false</td><td>2016</td></tr><tr><td>&quot;Z1006060856198…</td><td>974196506</td><td>&quot;Nøtterøy Baker…</td><td>&quot;STORGATEN 39&quot;</td><td>null</td><td>&quot;3126&quot;</td><td>&quot;TØNSBERG&quot;</td><td>&quot;Z1602090956264…</td><td>&quot;2016/24824&quot;</td><td>0</td><td>2016-02-09</td><td>2</td><td>1</td><td>&quot;Rutiner og led…</td><td>&quot;Rutiner og lei…</td><td>1</td><td>&quot;Lokaler og uts…</td><td>&quot;Lokaler og uts…</td><td>2</td><td>&quot;Mat-håndtering…</td><td>&quot;Mat-handtering…</td><td>1</td><td>&quot;Merking og spo…</td><td>&quot;Merking og spo…</td><td>1</td><td>false</td><td>2016</td></tr><tr><td>&quot;Z1006060856168…</td><td>992699183</td><td>&quot;Jordbærpikene …</td><td>&quot;FARMANDSTREDET…</td><td>null</td><td>&quot;3110&quot;</td><td>&quot;TØNSBERG&quot;</td><td>&quot;Z1602091430521…</td><td>&quot;2016/29566&quot;</td><td>0</td><td>2016-02-09</td><td>1</td><td>0</td><td>&quot;Rutiner og led…</td><td>&quot;Rutiner og lei…</td><td>0</td><td>&quot;Lokaler og uts…</td><td>&quot;Lokaler og uts…</td><td>1</td><td>&quot;Mat-håndtering…</td><td>&quot;Mat-handtering…</td><td>1</td><td>&quot;Merking og spo…</td><td>&quot;Merking og spo…</td><td>0</td><td>false</td><td>2016</td></tr><tr><td>&quot;Z1006060856334…</td><td>994602446</td><td>&quot;Sawatdee Thai …</td><td>&quot;ØVRE LANGGATE …</td><td>null</td><td>&quot;3110&quot;</td><td>&quot;TØNSBERG&quot;</td><td>&quot;Z1602100940018…</td><td>&quot;2016/28432&quot;</td><td>0</td><td>2016-02-08</td><td>2</td><td>0</td><td>&quot;Rutiner og led…</td><td>&quot;Rutiner og lei…</td><td>0</td><td>&quot;Lokaler og uts…</td><td>&quot;Lokaler og uts…</td><td>2</td><td>&quot;Mat-håndtering…</td><td>&quot;Mat-handtering…</td><td>0</td><td>&quot;Merking og spo…</td><td>&quot;Merking og spo…</td><td>2</td><td>false</td><td>2016</td></tr><tr><td>&quot;Z1006060856198…</td><td>974196506</td><td>&quot;Nøtterøy Baker…</td><td>&quot;STORGATEN 39&quot;</td><td>null</td><td>&quot;3126&quot;</td><td>&quot;TØNSBERG&quot;</td><td>&quot;Z1602031631190…</td><td>&quot;2016/24824&quot;</td><td>0</td><td>2016-02-03</td><td>2</td><td>0</td><td>&quot;Rutiner og led…</td><td>&quot;Rutiner og lei…</td><td>1</td><td>&quot;Lokaler og uts…</td><td>&quot;Lokaler og uts…</td><td>2</td><td>&quot;Mat-håndtering…</td><td>&quot;Mat-handtering…</td><td>1</td><td>&quot;Merking og spo…</td><td>&quot;Merking og spo…</td><td>1</td><td>false</td><td>2016</td></tr><tr><td>&quot;Z1310280923306…</td><td>996207943</td><td>&quot;New Tajmahal&quot;</td><td>&quot;STORGATEN 30&quot;</td><td>null</td><td>&quot;3126&quot;</td><td>&quot;TØNSBERG&quot;</td><td>&quot;Z1602031532369…</td><td>&quot;2016/24985&quot;</td><td>0</td><td>2016-02-03</td><td>2</td><td>0</td><td>&quot;Rutiner og led…</td><td>&quot;Rutiner og lei…</td><td>0</td><td>&quot;Lokaler og uts…</td><td>&quot;Lokaler og uts…</td><td>2</td><td>&quot;Mat-håndtering…</td><td>&quot;Mat-handtering…</td><td>2</td><td>&quot;Merking og spo…</td><td>&quot;Merking og spo…</td><td>2</td><td>false</td><td>2016</td></tr><tr><td>&quot;Z1511031231512…</td><td>916144636</td><td>&quot;La Pergola&quot;</td><td>&quot;NEDRE LANGGATE…</td><td>null</td><td>&quot;3126&quot;</td><td>&quot;TØNSBERG&quot;</td><td>&quot;Z1601211617498…</td><td>&quot;2016/13256&quot;</td><td>0</td><td>2016-01-21</td><td>0</td><td>1</td><td>&quot;Rutiner og led…</td><td>&quot;Rutiner og lei…</td><td>1</td><td>&quot;Lokaler og uts…</td><td>&quot;Lokaler og uts…</td><td>0</td><td>&quot;Mat-håndtering…</td><td>&quot;Mat-handtering…</td><td>0</td><td>&quot;Merking og spo…</td><td>&quot;Merking og spo…</td><td>1</td><td>false</td><td>2016</td></tr><tr><td>&quot;Z1511031231512…</td><td>916144636</td><td>&quot;La Pergola&quot;</td><td>&quot;NEDRE LANGGATE…</td><td>null</td><td>&quot;3126&quot;</td><td>&quot;TØNSBERG&quot;</td><td>&quot;Z1601201546362…</td><td>&quot;2016/13256&quot;</td><td>0</td><td>2016-01-20</td><td>2</td><td>0</td><td>&quot;Rutiner og led…</td><td>&quot;Rutiner og lei…</td><td>1</td><td>&quot;Lokaler og uts…</td><td>&quot;Lokaler og uts…</td><td>2</td><td>&quot;Mat-håndtering…</td><td>&quot;Mat-handtering…</td><td>2</td><td>&quot;Merking og spo…</td><td>&quot;Merking og spo…</td><td>1</td><td>false</td><td>2016</td></tr></tbody></table></div>"
      ],
      "text/plain": [
       "shape: (480, 27)\n",
       "┌───────────────────────────────────┬───────────┬───────────────────────────────────┬───────────────────┬───┬────────────────────────┬───────────┬─────────┬──────┐\n",
       "│ tilsynsobjektid                   ┆ orgnummer ┆ navn                              ┆ adrlinje1         ┆ … ┆ tema4_nn               ┆ karakter4 ┆ surmunn ┆ år   │\n",
       "│ ---                               ┆ ---       ┆ ---                               ┆ ---               ┆   ┆ ---                    ┆ ---       ┆ ---     ┆ ---  │\n",
       "│ str                               ┆ i64       ┆ str                               ┆ str               ┆   ┆ str                    ┆ i64       ┆ bool    ┆ i32  │\n",
       "╞═══════════════════════════════════╪═══════════╪═══════════════════════════════════╪═══════════════════╪═══╪════════════════════════╪═══════════╪═════════╪══════╡\n",
       "│ Z1909261320111130128ZDJWG_Tilsyn… ┆ 916942931 ┆ Kontoret                          ┆ Storgaten 30      ┆ … ┆ Merking og sporbarheit ┆ null      ┆ false   ┆ 2024 │\n",
       "│ Z1909261320111130128ZDJWG_Tilsyn… ┆ 916942931 ┆ Kontoret                          ┆ Storgaten 30      ┆ … ┆ Merking og sporbarheit ┆ null      ┆ false   ┆ 2024 │\n",
       "│ Z2006101112483642025OYXHJ_Tilsyn… ┆ 995084929 ┆ Lucky Bowl, Horten                ┆ Borreveien 42     ┆ … ┆ Merking og sporbarheit ┆ 0         ┆ false   ┆ 2023 │\n",
       "│ Z2309251213012840128LFMWW_Tilsyn… ┆ 932199327 ┆ Traktern AS                       ┆ Falsens gate 11   ┆ … ┆ Merking og sporbarheit ┆ 0         ┆ false   ┆ 2023 │\n",
       "│ Z1505120919157502025DKFUR_Tilsyn… ┆ 971945389 ┆ Nye Bamboo Garden                 ┆ Øvre Langgate 49  ┆ … ┆ Merking og sporbarheit ┆ 1         ┆ false   ┆ 2023 │\n",
       "│ …                                 ┆ …         ┆ …                                 ┆ …                 ┆ … ┆ …                      ┆ …         ┆ …       ┆ …    │\n",
       "│ Z1006060856334741127GLEHM_Tilsyn… ┆ 994602446 ┆ Sawatdee Thai Restaurant          ┆ ØVRE LANGGATE 65  ┆ … ┆ Merking og sporbarheit ┆ 2         ┆ false   ┆ 2016 │\n",
       "│ Z1006060856198541190LUGFW_Tilsyn… ┆ 974196506 ┆ Nøtterøy Bakeri & Konditori - To… ┆ STORGATEN 39      ┆ … ┆ Merking og sporbarheit ┆ 1         ┆ false   ┆ 2016 │\n",
       "│ Z1310280923306003117OXRYH_Tilsyn… ┆ 996207943 ┆ New Tajmahal                      ┆ STORGATEN 30      ┆ … ┆ Merking og sporbarheit ┆ 2         ┆ false   ┆ 2016 │\n",
       "│ Z1511031231512243251OSWHR_Tilsyn… ┆ 916144636 ┆ La Pergola                        ┆ NEDRE LANGGATE 18 ┆ … ┆ Merking og sporbarheit ┆ 1         ┆ false   ┆ 2016 │\n",
       "│ Z1511031231512243251OSWHR_Tilsyn… ┆ 916144636 ┆ La Pergola                        ┆ NEDRE LANGGATE 18 ┆ … ┆ Merking og sporbarheit ┆ 1         ┆ false   ┆ 2016 │\n",
       "└───────────────────────────────────┴───────────┴───────────────────────────────────┴───────────────────┴───┴────────────────────────┴───────────┴─────────┴──────┘"
      ]
     },
     "execution_count": 25,
     "metadata": {},
     "output_type": "execute_result"
    }
   ],
   "source": [
    "# 9 Finn tilsynene i Tønsberg eller Horten, nyeste tilsyn først. \n",
    "df_t.filter(\n",
    "    pl.col(\"poststed\").is_in([\"TØNSBERG\", \"HORTEN\"])\n",
    ").sort(pl.col(\"dato\"), descending=True)"
   ]
  },
  {
   "cell_type": "code",
   "execution_count": 26,
   "id": "8307a56f-fd8e-4100-b063-59fa3d9ebc99",
   "metadata": {},
   "outputs": [
    {
     "data": {
      "text/html": [
       "<div><style>\n",
       ".dataframe > thead > tr,\n",
       ".dataframe > tbody > tr {\n",
       "  text-align: right;\n",
       "  white-space: pre-wrap;\n",
       "}\n",
       "</style>\n",
       "<small>shape: (1_846_193, 8)</small><table border=\"1\" class=\"dataframe\"><thead><tr><th>tilsynid</th><th>dato</th><th>ordningsverdi</th><th>kravpunktnavn_no</th><th>kravpunktnavn_nn</th><th>karakter</th><th>tekst_no</th><th>tekst_nn</th></tr><tr><td>str</td><td>date</td><td>f64</td><td>str</td><td>str</td><td>i64</td><td>str</td><td>str</td></tr></thead><tbody><tr><td>&quot;Z1601041508412…</td><td>2016-01-04</td><td>1.1</td><td>&quot;Synlig rapport…</td><td>&quot;Synleg rapport…</td><td>5</td><td>&quot;Ikke vurdert&quot;</td><td>&quot;Ikkje vurdert&quot;</td></tr><tr><td>&quot;Z1601041508412…</td><td>2016-01-04</td><td>1.2</td><td>&quot;Meldeplikt for…</td><td>&quot;Meldeplikt for…</td><td>5</td><td>&quot;Ikke vurdert&quot;</td><td>&quot;Ikkje vurdert&quot;</td></tr><tr><td>&quot;Z1601041508412…</td><td>2016-01-04</td><td>1.3</td><td>&quot;Ansvaret til d…</td><td>&quot;Ansvaret til d…</td><td>5</td><td>&quot;Ikke vurdert&quot;</td><td>&quot;Ikkje vurdert&quot;</td></tr><tr><td>&quot;Z1601041508412…</td><td>2016-01-04</td><td>1.4</td><td>&quot;Internkontroll…</td><td>&quot;Internkontroll…</td><td>0</td><td>null</td><td>null</td></tr><tr><td>&quot;Z1601041508412…</td><td>2016-01-04</td><td>1.5</td><td>&quot;Farevurdering …</td><td>&quot;Farevurdering …</td><td>5</td><td>&quot;Ikke vurdert&quot;</td><td>&quot;Ikkje vurdert&quot;</td></tr><tr><td>&quot;Z1601041508412…</td><td>2016-01-04</td><td>1.6</td><td>&quot;Opplæring og k…</td><td>&quot;Opplæring og k…</td><td>5</td><td>&quot;Ikke vurdert&quot;</td><td>&quot;Ikkje vurdert&quot;</td></tr><tr><td>&quot;Z1601041508412…</td><td>2016-01-04</td><td>2.1</td><td>&quot;Generelt - pla…</td><td>&quot;Generelt - pla…</td><td>2</td><td>&quot;Mangler ved hy…</td><td>&quot;Manglar ved hy…</td></tr><tr><td>&quot;Z1601041508412…</td><td>2016-01-04</td><td>2.2</td><td>&quot;Lokaler - spes…</td><td>&quot;Lokaler - spes…</td><td>5</td><td>&quot;Ikke vurdert&quot;</td><td>&quot;Ikkje vurdert&quot;</td></tr><tr><td>&quot;Z1601041508412…</td><td>2016-01-04</td><td>2.3</td><td>&quot;Renhold&quot;</td><td>&quot;Reinhald&quot;</td><td>0</td><td>null</td><td>null</td></tr><tr><td>&quot;Z1601041508412…</td><td>2016-01-04</td><td>2.4</td><td>&quot;Håndtering av …</td><td>&quot;Handtering av …</td><td>5</td><td>&quot;Ikke vurdert&quot;</td><td>&quot;Ikkje vurdert&quot;</td></tr><tr><td>&quot;Z1601041508412…</td><td>2016-01-04</td><td>2.5</td><td>&quot;Bekjempe skade…</td><td>&quot;Bekjempe skade…</td><td>5</td><td>&quot;Ikke vurdert&quot;</td><td>&quot;Ikkje vurdert&quot;</td></tr><tr><td>&quot;Z1601041508412…</td><td>2016-01-04</td><td>2.6</td><td>&quot;Håndvask&quot;</td><td>&quot;Handvask&quot;</td><td>0</td><td>null</td><td>null</td></tr><tr><td>&hellip;</td><td>&hellip;</td><td>&hellip;</td><td>&hellip;</td><td>&hellip;</td><td>&hellip;</td><td>&hellip;</td><td>&hellip;</td></tr><tr><td>&quot;Z2401191653359…</td><td>2024-01-19</td><td>3.1</td><td>&quot;Råvarer&quot;</td><td>&quot;Råvarer&quot;</td><td>5</td><td>&quot;Ikke vurdert&quot;</td><td>&quot;Ikkje vurdert&quot;</td></tr><tr><td>&quot;Z2401191653359…</td><td>2024-01-19</td><td>3.2</td><td>&quot;Vann og is&quot;</td><td>&quot;Vatn og is&quot;</td><td>5</td><td>&quot;Ikke vurdert&quot;</td><td>&quot;Ikkje vurdert&quot;</td></tr><tr><td>&quot;Z2401191653359…</td><td>2024-01-19</td><td>3.3</td><td>&quot;Forurensningsf…</td><td>&quot;Fare for forur…</td><td>2</td><td>&quot;Mangler ved ru…</td><td>&quot;Manglar ved ru…</td></tr><tr><td>&quot;Z2401191653359…</td><td>2024-01-19</td><td>3.4</td><td>&quot;Lagring&quot;</td><td>&quot;Lagring&quot;</td><td>5</td><td>&quot;Ikke vurdert&quot;</td><td>&quot;Ikkje vurdert&quot;</td></tr><tr><td>&quot;Z2401191653359…</td><td>2024-01-19</td><td>3.5</td><td>&quot;Transport&quot;</td><td>&quot;Transport&quot;</td><td>5</td><td>&quot;Ikke vurdert&quot;</td><td>&quot;Ikkje vurdert&quot;</td></tr><tr><td>&quot;Z2401191653359…</td><td>2024-01-19</td><td>3.6</td><td>&quot;Personalets he…</td><td>&quot;Personalets he…</td><td>5</td><td>&quot;Ikke vurdert&quot;</td><td>&quot;Ikkje vurdert&quot;</td></tr><tr><td>&quot;Z2401191653359…</td><td>2024-01-19</td><td>3.7</td><td>&quot;Kjølekjeden&quot;</td><td>&quot;Kjølekjeda&quot;</td><td>0</td><td>null</td><td>null</td></tr><tr><td>&quot;Z2401191653359…</td><td>2024-01-19</td><td>3.8</td><td>&quot;Varmebehandlin…</td><td>&quot;Varmebehandlin…</td><td>5</td><td>&quot;Ikke vurdert&quot;</td><td>&quot;Ikkje vurdert&quot;</td></tr><tr><td>&quot;Z2401191653359…</td><td>2024-01-19</td><td>3.9</td><td>&quot;Nedkjøling&quot;</td><td>&quot;Nedkjøling&quot;</td><td>5</td><td>&quot;Ikke vurdert&quot;</td><td>&quot;Ikkje vurdert&quot;</td></tr><tr><td>&quot;Z2401191653359…</td><td>2024-01-19</td><td>3.1</td><td>&quot;Tining&quot;</td><td>&quot;Tining&quot;</td><td>5</td><td>&quot;Ikke vurdert&quot;</td><td>&quot;Ikkje vurdert&quot;</td></tr><tr><td>&quot;Z2401191653359…</td><td>2024-01-19</td><td>4.1</td><td>&quot;Sporbarhet og …</td><td>&quot;Sporbarheit og…</td><td>0</td><td>null</td><td>null</td></tr><tr><td>&quot;Z2401191653359…</td><td>2024-01-19</td><td>4.2</td><td>&quot;Merking av all…</td><td>&quot;Merking av all…</td><td>5</td><td>&quot;Ikke vurdert&quot;</td><td>&quot;Ikkje vurdert&quot;</td></tr></tbody></table></div>"
      ],
      "text/plain": [
       "shape: (1_846_193, 8)\n",
       "┌───────────────────────────────────┬────────────┬───────────────┬─────────────────────────────────┬─────────────────────────────────┬──────────┬──────────────┬───────────────┐\n",
       "│ tilsynid                          ┆ dato       ┆ ordningsverdi ┆ kravpunktnavn_no                ┆ kravpunktnavn_nn                ┆ karakter ┆ tekst_no     ┆ tekst_nn      │\n",
       "│ ---                               ┆ ---        ┆ ---           ┆ ---                             ┆ ---                             ┆ ---      ┆ ---          ┆ ---           │\n",
       "│ str                               ┆ date       ┆ f64           ┆ str                             ┆ str                             ┆ i64      ┆ str          ┆ str           │\n",
       "╞═══════════════════════════════════╪════════════╪═══════════════╪═════════════════════════════════╪═════════════════════════════════╪══════════╪══════════════╪═══════════════╡\n",
       "│ Z1601041508412850239LCXIE_Tilsyn… ┆ 2016-01-04 ┆ 1.1           ┆ Synlig rapport for smilefjes    ┆ Synleg rapport for smilefjes    ┆ 5        ┆ Ikke vurdert ┆ Ikkje vurdert │\n",
       "│ Z1601041508412850239LCXIE_Tilsyn… ┆ 2016-01-04 ┆ 1.2           ┆ Meldeplikt for virksomheten     ┆ Meldeplikt for verksemda        ┆ 5        ┆ Ikke vurdert ┆ Ikkje vurdert │\n",
       "│ Z1601041508412850239LCXIE_Tilsyn… ┆ 2016-01-04 ┆ 1.3           ┆ Ansvaret til driftsansvarlige   ┆ Ansvaret til driftsansvarlege   ┆ 5        ┆ Ikke vurdert ┆ Ikkje vurdert │\n",
       "│ Z1601041508412850239LCXIE_Tilsyn… ┆ 2016-01-04 ┆ 1.4           ┆ Internkontroll                  ┆ Internkontroll                  ┆ 0        ┆ null         ┆ null          │\n",
       "│ Z1601041508412850239LCXIE_Tilsyn… ┆ 2016-01-04 ┆ 1.5           ┆ Farevurdering og styringstiltak ┆ Farevurdering og styringstiltak ┆ 5        ┆ Ikke vurdert ┆ Ikkje vurdert │\n",
       "│ …                                 ┆ …          ┆ …             ┆ …                               ┆ …                               ┆ …        ┆ …            ┆ …             │\n",
       "│ Z2401191653359700239RCXWH_Tilsyn… ┆ 2024-01-19 ┆ 3.8           ┆ Varmebehandling                 ┆ Varmebehandling                 ┆ 5        ┆ Ikke vurdert ┆ Ikkje vurdert │\n",
       "│ Z2401191653359700239RCXWH_Tilsyn… ┆ 2024-01-19 ┆ 3.9           ┆ Nedkjøling                      ┆ Nedkjøling                      ┆ 5        ┆ Ikke vurdert ┆ Ikkje vurdert │\n",
       "│ Z2401191653359700239RCXWH_Tilsyn… ┆ 2024-01-19 ┆ 3.1           ┆ Tining                          ┆ Tining                          ┆ 5        ┆ Ikke vurdert ┆ Ikkje vurdert │\n",
       "│ Z2401191653359700239RCXWH_Tilsyn… ┆ 2024-01-19 ┆ 4.1           ┆ Sporbarhet og merking           ┆ Sporbarheit og merking          ┆ 0        ┆ null         ┆ null          │\n",
       "│ Z2401191653359700239RCXWH_Tilsyn… ┆ 2024-01-19 ┆ 4.2           ┆ Merking av allergeningredienser ┆ Merking av allergeningrediensar ┆ 5        ┆ Ikke vurdert ┆ Ikkje vurdert │\n",
       "└───────────────────────────────────┴────────────┴───────────────┴─────────────────────────────────┴─────────────────────────────────┴──────────┴──────────────┴───────────────┘"
      ]
     },
     "execution_count": 26,
     "metadata": {},
     "output_type": "execute_result"
    }
   ],
   "source": [
    "#10  Finn tilsyn i Tønsberg eller Horten hvor det er gitt karakteren 2 eller 3 til Renhold. Her må du joine med kravpunktene. \n",
    "df_k = pl.read_csv(\"kravpunkter.csv\", separator=\";\").with_columns(\n",
    "    pl.col(\"dato\").cast(str).str.pad_start(8, \"0\").str.to_date(format=\"%d%m%Y\")\n",
    ")\n",
    "df_k"
   ]
  },
  {
   "cell_type": "code",
   "execution_count": 28,
   "id": "199d1a69-6aac-48a1-9cbb-84c96984ec7e",
   "metadata": {},
   "outputs": [
    {
     "data": {
      "text/html": [
       "<div><style>\n",
       ".dataframe > thead > tr,\n",
       ".dataframe > tbody > tr {\n",
       "  text-align: right;\n",
       "  white-space: pre-wrap;\n",
       "}\n",
       "</style>\n",
       "<small>shape: (27, 4)</small><table border=\"1\" class=\"dataframe\"><thead><tr><th>navn</th><th>orgnummer</th><th>tilsynid</th><th>karakter</th></tr><tr><td>str</td><td>i64</td><td>str</td><td>i64</td></tr></thead><tbody><tr><td>&quot;La Pergola&quot;</td><td>916144636</td><td>&quot;Z1601201546362…</td><td>2</td></tr><tr><td>&quot;Nøtterøy Baker…</td><td>974196506</td><td>&quot;Z1602031631190…</td><td>2</td></tr><tr><td>&quot;Pizzavera Solv…</td><td>984386931</td><td>&quot;Z1602120842515…</td><td>2</td></tr><tr><td>&quot;Fregatten sush…</td><td>971785551</td><td>&quot;Z1602251117043…</td><td>2</td></tr><tr><td>&quot;Fregatten sush…</td><td>971785551</td><td>&quot;Z1603010920011…</td><td>2</td></tr><tr><td>&quot;Rosalinda`s Or…</td><td>972876909</td><td>&quot;Z1604041455592…</td><td>2</td></tr><tr><td>&quot;Ms. Bubble Tea…</td><td>998183251</td><td>&quot;Z1605241651478…</td><td>3</td></tr><tr><td>&quot;Quality Hotel …</td><td>983138535</td><td>&quot;Z1609201130465…</td><td>2</td></tr><tr><td>&quot;Paparazzi&quot;</td><td>994692038</td><td>&quot;Z1610201631027…</td><td>2</td></tr><tr><td>&quot;Sawatdee Thai …</td><td>994602446</td><td>&quot;Z1610211135023…</td><td>2</td></tr><tr><td>&quot;Sawatdee Thai …</td><td>994602446</td><td>&quot;Z1610281309194…</td><td>2</td></tr><tr><td>&quot;Rosalinda`s Or…</td><td>972876909</td><td>&quot;Z1611231101545…</td><td>2</td></tr><tr><td>&hellip;</td><td>&hellip;</td><td>&hellip;</td><td>&hellip;</td></tr><tr><td>&quot;Ms. Bubble Tea…</td><td>998183251</td><td>&quot;Z1712041709524…</td><td>3</td></tr><tr><td>&quot;Quality Hotel …</td><td>983138535</td><td>&quot;Z1808071239383…</td><td>2</td></tr><tr><td>&quot;Hotel Klubben&quot;</td><td>973222597</td><td>&quot;Z1904041608278…</td><td>2</td></tr><tr><td>&quot;Ms. Bubble Tea…</td><td>998183251</td><td>&quot;Z1912091339231…</td><td>2</td></tr><tr><td>&quot;Groovy Diner&quot;</td><td>895373222</td><td>&quot;Z2109241555308…</td><td>2</td></tr><tr><td>&quot;Jordbærpikene …</td><td>992699183</td><td>&quot;Z2110051531040…</td><td>2</td></tr><tr><td>&quot;Kontoret&quot;</td><td>916942931</td><td>&quot;Z2205301054215…</td><td>2</td></tr><tr><td>&quot;My Cafe&quot;</td><td>989385690</td><td>&quot;Z2302231505002…</td><td>2</td></tr><tr><td>&quot;My Cafe&quot;</td><td>989385690</td><td>&quot;Z2303011454051…</td><td>2</td></tr><tr><td>&quot;ALMA&quot;</td><td>922286108</td><td>&quot;Z2303221455296…</td><td>2</td></tr><tr><td>&quot;Jordbærpikene …</td><td>992699183</td><td>&quot;Z2304211434490…</td><td>2</td></tr><tr><td>&quot;Paparazzi&quot;</td><td>994692038</td><td>&quot;Z2305241435323…</td><td>2</td></tr></tbody></table></div>"
      ],
      "text/plain": [
       "shape: (27, 4)\n",
       "┌───────────────────────────────────┬───────────┬───────────────────────────────────┬──────────┐\n",
       "│ navn                              ┆ orgnummer ┆ tilsynid                          ┆ karakter │\n",
       "│ ---                               ┆ ---       ┆ ---                               ┆ ---      │\n",
       "│ str                               ┆ i64       ┆ str                               ┆ i64      │\n",
       "╞═══════════════════════════════════╪═══════════╪═══════════════════════════════════╪══════════╡\n",
       "│ La Pergola                        ┆ 916144636 ┆ Z1601201546362500239HHCNI_Tilsyn… ┆ 2        │\n",
       "│ Nøtterøy Bakeri & Konditori - To… ┆ 974196506 ┆ Z1602031631190920239WKPQP_Tilsyn… ┆ 2        │\n",
       "│ Pizzavera Solvang                 ┆ 984386931 ┆ Z1602120842515700240SSZXJ_Tilsyn… ┆ 2        │\n",
       "│ Fregatten sushi restaurant og ho… ┆ 971785551 ┆ Z1602251117043850239XPJTW_Tilsyn… ┆ 2        │\n",
       "│ Fregatten sushi restaurant og ho… ┆ 971785551 ┆ Z1603010920011890239WAPZL_Tilsyn… ┆ 2        │\n",
       "│ …                                 ┆ …         ┆ …                                 ┆ …        │\n",
       "│ My Cafe                           ┆ 989385690 ┆ Z2302231505002350240IMLJX_Tilsyn… ┆ 2        │\n",
       "│ My Cafe                           ┆ 989385690 ┆ Z2303011454051470240LOCEQ_Tilsyn… ┆ 2        │\n",
       "│ ALMA                              ┆ 922286108 ┆ Z2303221455296950240RRTLS_Tilsyn… ┆ 2        │\n",
       "│ Jordbærpikene Tønsberg            ┆ 992699183 ┆ Z2304211434490830240YKMLL_Tilsyn… ┆ 2        │\n",
       "│ Paparazzi                         ┆ 994692038 ┆ Z2305241435323410239DNTWB_Tilsyn… ┆ 2        │\n",
       "└───────────────────────────────────┴───────────┴───────────────────────────────────┴──────────┘"
      ]
     },
     "execution_count": 28,
     "metadata": {},
     "output_type": "execute_result"
    }
   ],
   "source": [
    "df_t.filter(\n",
    "    pl.col(\"poststed\").is_in([\"TØNSBERG\", \"HORTEN\"])\n",
    ").select(\"navn\",\"orgnummer\", \"tilsynid\").join(\n",
    "    df_k.filter(\n",
    "        pl.col(\"karakter\").is_in([2,3])\n",
    "    ).filter(\n",
    "        pl.col(\"kravpunktnavn_no\").eq(pl.lit(\"Renhold\"))\n",
    "    ).select(\"tilsynid\", \"karakter\"),\n",
    "    on = \"tilsynid\",\n",
    "    how = \"inner\"\n",
    ")"
   ]
  },
  {
   "cell_type": "code",
   "execution_count": 32,
   "id": "7b74d129-6bc7-4369-8cdc-ad66d5f97339",
   "metadata": {},
   "outputs": [
    {
     "data": {
      "text/html": [
       "<div><style>\n",
       ".dataframe > thead > tr,\n",
       ".dataframe > tbody > tr {\n",
       "  text-align: right;\n",
       "  white-space: pre-wrap;\n",
       "}\n",
       "</style>\n",
       "<small>shape: (8, 5)</small><table border=\"1\" class=\"dataframe\"><thead><tr><th>navn</th><th>orgnummer</th><th>tilsynid</th><th>dato</th><th>kravpunktnavn_no</th></tr><tr><td>str</td><td>i64</td><td>str</td><td>date</td><td>list[str]</td></tr></thead><tbody><tr><td>&quot;Ms. Bubble Tea…</td><td>998183251</td><td>&quot;Z1605241651478…</td><td>2016-05-24</td><td>[&quot;Generelt - planløsning, standard og vedlikehold&quot;, &quot;Renhold&quot;, … &quot;Tining&quot;]</td></tr><tr><td>&quot;Golden Crown&quot;</td><td>972204668</td><td>&quot;Z1702021943311…</td><td>2017-02-02</td><td>[&quot;Generelt - planløsning, standard og vedlikehold&quot;, &quot;Forurensningsfare&quot;, &quot;Varmebehandling&quot;]</td></tr><tr><td>&quot;Fregatten sush…</td><td>971785551</td><td>&quot;Z1603010920011…</td><td>2016-02-29</td><td>[&quot;Generelt - planløsning, standard og vedlikehold&quot;, &quot;Forurensningsfare&quot;]</td></tr><tr><td>&quot;NANA Thaikaway…</td><td>999372368</td><td>&quot;Z1706151853247…</td><td>2017-06-15</td><td>[&quot;Generelt - planløsning, standard og vedlikehold&quot;, &quot;Renhold&quot;, … &quot;Nedkjøling&quot;]</td></tr><tr><td>&quot;My Cafe&quot;</td><td>989385690</td><td>&quot;Z2303011454051…</td><td>2023-03-01</td><td>[&quot;Råvarer&quot;, &quot;Kjølekjeden&quot;]</td></tr><tr><td>&quot;Ms. Bubble Tea…</td><td>998183251</td><td>&quot;Z1712041709524…</td><td>2017-12-04</td><td>[&quot;Generelt - planløsning, standard og vedlikehold&quot;, &quot;Renhold&quot;, … &quot;Kjølekjeden&quot;]</td></tr><tr><td>&quot;Fregatten sush…</td><td>971785551</td><td>&quot;Z1602251117043…</td><td>2016-02-24</td><td>[&quot;Generelt - planløsning, standard og vedlikehold&quot;, &quot;Forurensningsfare&quot;]</td></tr><tr><td>&quot;My Cafe&quot;</td><td>989385690</td><td>&quot;Z2302231505002…</td><td>2023-02-23</td><td>[&quot;Råvarer&quot;, &quot;Kjølekjeden&quot;]</td></tr></tbody></table></div>"
      ],
      "text/plain": [
       "shape: (8, 5)\n",
       "┌───────────────────────────────────┬───────────┬───────────────────────────────────┬────────────┬───────────────────────────────────┐\n",
       "│ navn                              ┆ orgnummer ┆ tilsynid                          ┆ dato       ┆ kravpunktnavn_no                  │\n",
       "│ ---                               ┆ ---       ┆ ---                               ┆ ---        ┆ ---                               │\n",
       "│ str                               ┆ i64       ┆ str                               ┆ date       ┆ list[str]                         │\n",
       "╞═══════════════════════════════════╪═══════════╪═══════════════════════════════════╪════════════╪═══════════════════════════════════╡\n",
       "│ Ms. Bubble Tea                    ┆ 998183251 ┆ Z1605241651478160240RDPDQ_Tilsyn… ┆ 2016-05-24 ┆ [\"Generelt - planløsning, standa… │\n",
       "│ Golden Crown                      ┆ 972204668 ┆ Z1702021943311810239HOKCD_Tilsyn… ┆ 2017-02-02 ┆ [\"Generelt - planløsning, standa… │\n",
       "│ Fregatten sushi restaurant og ho… ┆ 971785551 ┆ Z1603010920011890239WAPZL_Tilsyn… ┆ 2016-02-29 ┆ [\"Generelt - planløsning, standa… │\n",
       "│ NANA Thaikaway & Restaurant       ┆ 999372368 ┆ Z1706151853247420239XCGLJ_Tilsyn… ┆ 2017-06-15 ┆ [\"Generelt - planløsning, standa… │\n",
       "│ My Cafe                           ┆ 989385690 ┆ Z2303011454051470240LOCEQ_Tilsyn… ┆ 2023-03-01 ┆ [\"Råvarer\", \"Kjølekjeden\"]        │\n",
       "│ Ms. Bubble Tea                    ┆ 998183251 ┆ Z1712041709524340240ISPUF_Tilsyn… ┆ 2017-12-04 ┆ [\"Generelt - planløsning, standa… │\n",
       "│ Fregatten sushi restaurant og ho… ┆ 971785551 ┆ Z1602251117043850239XPJTW_Tilsyn… ┆ 2016-02-24 ┆ [\"Generelt - planløsning, standa… │\n",
       "│ My Cafe                           ┆ 989385690 ┆ Z2302231505002350240IMLJX_Tilsyn… ┆ 2023-02-23 ┆ [\"Råvarer\", \"Kjølekjeden\"]        │\n",
       "└───────────────────────────────────┴───────────┴───────────────────────────────────┴────────────┴───────────────────────────────────┘"
      ]
     },
     "execution_count": 32,
     "metadata": {},
     "output_type": "execute_result"
    }
   ],
   "source": [
    "# 11 Finn tilsyn i Tønsberg eller Horten hvor det er gitt surmunn som totalkarakter, og samle opp kravpunktene som har fått surmunn 3 i en liste.\n",
    "df_t.filter(\n",
    "    pl.col(\"poststed\").is_in([\"TØNSBERG\", \"HORTEN\"])\n",
    ").filter(\n",
    "    pl.col(\"surmunn\")\n",
    ").select(\n",
    "    \"navn\", \"orgnummer\", \"total_karakter\", \"tilsynid\", \"dato\"\n",
    ").join(\n",
    "    df_k.filter(\n",
    "        pl.col(\"karakter\").eq(3)\n",
    "    ).select(\"tilsynid\", \"karakter\", \"kravpunktnavn_no\"),\n",
    "    on = \"tilsynid\",\n",
    "    how = \"inner\"\n",
    ").group_by(\n",
    "    \"navn\", \"orgnummer\", \"tilsynid\", \"dato\"\n",
    ").agg(\n",
    "    pl.col(\"kravpunktnavn_no\")\n",
    ")"
   ]
  },
  {
   "cell_type": "code",
   "execution_count": 38,
   "id": "ac36d176-e000-4cc9-829d-282faa4996c8",
   "metadata": {},
   "outputs": [
    {
     "data": {
      "text/html": [
       "<div><style>\n",
       ".dataframe > thead > tr,\n",
       ".dataframe > tbody > tr {\n",
       "  text-align: right;\n",
       "  white-space: pre-wrap;\n",
       "}\n",
       "</style>\n",
       "<small>shape: (100, 6)</small><table border=\"1\" class=\"dataframe\"><thead><tr><th>navn</th><th>orgnummer</th><th>total_karakter</th><th>dato</th><th>surmunn_liste</th><th>strekmunn_liste</th></tr><tr><td>str</td><td>i64</td><td>i64</td><td>date</td><td>list[str]</td><td>list[str]</td></tr></thead><tbody><tr><td>&quot;Kontoret&quot;</td><td>916942931</td><td>2</td><td>2024-01-11</td><td>[]</td><td>[&quot;Internkontroll&quot;, &quot;Generelt - planløsning, standard og vedlikehold&quot;, … &quot;Kjølekjeden&quot;]</td></tr><tr><td>&quot;La Pergola&quot;</td><td>916144636</td><td>2</td><td>2023-09-06</td><td>[]</td><td>[&quot;Generelt - planløsning, standard og vedlikehold&quot;, &quot;Bekjempe skadedyr&quot;]</td></tr><tr><td>&quot;Burger King - …</td><td>929545435</td><td>2</td><td>2023-07-20</td><td>[]</td><td>[&quot;Forurensningsfare&quot;, &quot;Kjølekjeden&quot;]</td></tr><tr><td>&quot;Roar i Bua&quot;</td><td>979728468</td><td>2</td><td>2023-06-29</td><td>[]</td><td>[&quot;Internkontroll&quot;, &quot;Generelt - planløsning, standard og vedlikehold&quot;, … &quot;Kjølekjeden&quot;]</td></tr><tr><td>&quot;Paparazzi&quot;</td><td>994692038</td><td>2</td><td>2023-05-24</td><td>[]</td><td>[&quot;Generelt - planløsning, standard og vedlikehold&quot;, &quot;Renhold&quot;, &quot;Kjølekjeden&quot;]</td></tr><tr><td>&quot;Jordbærpikene …</td><td>992699183</td><td>2</td><td>2023-04-21</td><td>[]</td><td>[&quot;Generelt - planløsning, standard og vedlikehold&quot;, &quot;Renhold&quot;]</td></tr><tr><td>&quot;ALMA&quot;</td><td>922286108</td><td>2</td><td>2023-03-22</td><td>[]</td><td>[&quot;Renhold&quot;, &quot;Personaltoalett og garderobe&quot;]</td></tr><tr><td>&quot;URO på Haugar …</td><td>925813885</td><td>2</td><td>2023-03-09</td><td>[]</td><td>[&quot;Internkontroll&quot;, &quot;Personaltoalett og garderobe&quot;]</td></tr><tr><td>&quot;My Cafe&quot;</td><td>989385690</td><td>3</td><td>2023-03-01</td><td>[&quot;Råvarer&quot;, &quot;Kjølekjeden&quot;]</td><td>[&quot;Synlig rapport for smilefjes&quot;, &quot;Internkontroll&quot;, … &quot;Tining&quot;]</td></tr><tr><td>&quot;My Cafe&quot;</td><td>989385690</td><td>3</td><td>2023-02-23</td><td>[&quot;Råvarer&quot;, &quot;Kjølekjeden&quot;]</td><td>[&quot;Synlig rapport for smilefjes&quot;, &quot;Internkontroll&quot;, … &quot;Tining&quot;]</td></tr><tr><td>&quot;New Tajmahal&quot;</td><td>996207943</td><td>2</td><td>2023-02-06</td><td>[]</td><td>[&quot;Nedkjøling&quot;]</td></tr><tr><td>&quot;Sjømilitære Sa…</td><td>977259789</td><td>2</td><td>2023-02-02</td><td>[]</td><td>[&quot;Internkontroll&quot;, &quot;Kjølekjeden&quot;]</td></tr><tr><td>&hellip;</td><td>&hellip;</td><td>&hellip;</td><td>&hellip;</td><td>&hellip;</td><td>&hellip;</td></tr><tr><td>&quot;Fregatten sush…</td><td>971785551</td><td>2</td><td>2016-03-10</td><td>[]</td><td>[&quot;Lokaler - spesielle krav ved tilberedning, bearbeiding og foredling&quot;, &quot;Merking av allergeningredienser&quot;]</td></tr><tr><td>&quot;Fregatten sush…</td><td>971785551</td><td>3</td><td>2016-02-29</td><td>[&quot;Generelt - planløsning, standard og vedlikehold&quot;, &quot;Forurensningsfare&quot;]</td><td>[&quot;Internkontroll&quot;, &quot;Lokaler - spesielle krav ved tilberedning, bearbeiding og foredling&quot;, … &quot;Merking av allergeningredienser&quot;]</td></tr><tr><td>&quot;Tønsberg Pizza…</td><td>985782806</td><td>2</td><td>2016-02-25</td><td>[]</td><td>[&quot;Generelt - planløsning, standard og vedlikehold&quot;, &quot;Merking av allergeningredienser&quot;]</td></tr><tr><td>&quot;Fregatten sush…</td><td>971785551</td><td>3</td><td>2016-02-24</td><td>[&quot;Generelt - planløsning, standard og vedlikehold&quot;, &quot;Forurensningsfare&quot;]</td><td>[&quot;Internkontroll&quot;, &quot;Lokaler - spesielle krav ved tilberedning, bearbeiding og foredling&quot;, … &quot;Merking av allergeningredienser&quot;]</td></tr><tr><td>&quot;Pizzavera Solv…</td><td>984386931</td><td>2</td><td>2016-02-17</td><td>[]</td><td>[&quot;Lokaler - spesielle krav ved tilberedning, bearbeiding og foredling&quot;, &quot;Merking av allergeningredienser&quot;]</td></tr><tr><td>&quot;Quality Hotel …</td><td>983138535</td><td>2</td><td>2016-02-16</td><td>[]</td><td>[&quot;Generelt - planløsning, standard og vedlikehold&quot;]</td></tr><tr><td>&quot;Pizzavera Solv…</td><td>984386931</td><td>2</td><td>2016-02-11</td><td>[]</td><td>[&quot;Generelt - planløsning, standard og vedlikehold&quot;, &quot;Lokaler - spesielle krav ved tilberedning, bearbeiding og foredling&quot;, … &quot;Merking av allergeningredienser&quot;]</td></tr><tr><td>&quot;Nøtterøy Baker…</td><td>974196506</td><td>2</td><td>2016-02-09</td><td>[]</td><td>[&quot;Lokaler - spesielle krav ved tilberedning, bearbeiding og foredling&quot;]</td></tr><tr><td>&quot;Sawatdee Thai …</td><td>994602446</td><td>2</td><td>2016-02-08</td><td>[]</td><td>[&quot;Generelt - planløsning, standard og vedlikehold&quot;, &quot;Merking av allergeningredienser&quot;]</td></tr><tr><td>&quot;New Tajmahal&quot;</td><td>996207943</td><td>2</td><td>2016-02-03</td><td>[]</td><td>[&quot;Generelt - planløsning, standard og vedlikehold&quot;, &quot;Lokaler - spesielle krav ved tilberedning, bearbeiding og foredling&quot;, … &quot;Merking av allergeningredienser&quot;]</td></tr><tr><td>&quot;Nøtterøy Baker…</td><td>974196506</td><td>2</td><td>2016-02-03</td><td>[]</td><td>[&quot;Lokaler - spesielle krav ved tilberedning, bearbeiding og foredling&quot;, &quot;Renhold&quot;, &quot;Håndvask&quot;]</td></tr><tr><td>&quot;La Pergola&quot;</td><td>916144636</td><td>2</td><td>2016-01-20</td><td>[]</td><td>[&quot;Generelt - planløsning, standard og vedlikehold&quot;, &quot;Renhold&quot;, … &quot;Kjølekjeden&quot;]</td></tr></tbody></table></div>"
      ],
      "text/plain": [
       "shape: (100, 6)\n",
       "┌───────────────────────────────────┬───────────┬────────────────┬────────────┬───────────────┬───────────────────────────────────┐\n",
       "│ navn                              ┆ orgnummer ┆ total_karakter ┆ dato       ┆ surmunn_liste ┆ strekmunn_liste                   │\n",
       "│ ---                               ┆ ---       ┆ ---            ┆ ---        ┆ ---           ┆ ---                               │\n",
       "│ str                               ┆ i64       ┆ i64            ┆ date       ┆ list[str]     ┆ list[str]                         │\n",
       "╞═══════════════════════════════════╪═══════════╪════════════════╪════════════╪═══════════════╪═══════════════════════════════════╡\n",
       "│ Kontoret                          ┆ 916942931 ┆ 2              ┆ 2024-01-11 ┆ []            ┆ [\"Internkontroll\", \"Generelt - p… │\n",
       "│ La Pergola                        ┆ 916144636 ┆ 2              ┆ 2023-09-06 ┆ []            ┆ [\"Generelt - planløsning, standa… │\n",
       "│ Burger King - Nedre Langgate      ┆ 929545435 ┆ 2              ┆ 2023-07-20 ┆ []            ┆ [\"Forurensningsfare\", \"Kjølekjed… │\n",
       "│ Roar i Bua                        ┆ 979728468 ┆ 2              ┆ 2023-06-29 ┆ []            ┆ [\"Internkontroll\", \"Generelt - p… │\n",
       "│ Paparazzi                         ┆ 994692038 ┆ 2              ┆ 2023-05-24 ┆ []            ┆ [\"Generelt - planløsning, standa… │\n",
       "│ …                                 ┆ …         ┆ …              ┆ …          ┆ …             ┆ …                                 │\n",
       "│ Nøtterøy Bakeri & Konditori - To… ┆ 974196506 ┆ 2              ┆ 2016-02-09 ┆ []            ┆ [\"Lokaler - spesielle krav ved t… │\n",
       "│ Sawatdee Thai Restaurant          ┆ 994602446 ┆ 2              ┆ 2016-02-08 ┆ []            ┆ [\"Generelt - planløsning, standa… │\n",
       "│ New Tajmahal                      ┆ 996207943 ┆ 2              ┆ 2016-02-03 ┆ []            ┆ [\"Generelt - planløsning, standa… │\n",
       "│ Nøtterøy Bakeri & Konditori - To… ┆ 974196506 ┆ 2              ┆ 2016-02-03 ┆ []            ┆ [\"Lokaler - spesielle krav ved t… │\n",
       "│ La Pergola                        ┆ 916144636 ┆ 2              ┆ 2016-01-20 ┆ []            ┆ [\"Generelt - planløsning, standa… │\n",
       "└───────────────────────────────────┴───────────┴────────────────┴────────────┴───────────────┴───────────────────────────────────┘"
      ]
     },
     "execution_count": 38,
     "metadata": {},
     "output_type": "execute_result"
    }
   ],
   "source": [
    "# 12 \n",
    "# I denne oppgaven skal du bruke lazy evaluering. \n",
    "# Start med å bruke scan_csv til å lese inn csvene. \n",
    "# Deretter skal du lage en rapport over seneste kontrollene i Tønsberg og Horten hvor det er gitt strekmunn eller surmunn. \n",
    "# Rapporten skal inneholde karakteren som er gitt, \n",
    "# en liste over kravpunktene som har strekmunn i en av kolonnene,\n",
    "# en liste over kravpunktene som har surmunn i en av kolonnene. \n",
    "# Rapporten skal være sortert nyeste kontroll først.\n",
    "fix_date = pl.col(\"dato\").str.to_date(format=\"%d%m%Y\")\n",
    "lf_t = pl.scan_csv(\"tilsyn.csv\", separator=\";\", dtypes={\"postnr\":str, \"dato\":str}).with_columns(\n",
    "    fix_date\n",
    ")\n",
    "lf_k = pl.scan_csv(\"kravpunkter.csv\", separator=\";\",  dtypes={\"dato\":str}).with_columns(\n",
    "    fix_date\n",
    ")\n",
    "lf_t = lf_t.filter(\n",
    "    pl.col(\"poststed\").is_in([\"TØNSBERG\", \"HORTEN\"])\n",
    ").filter(\n",
    "    pl.col(\"total_karakter\").is_in([2,3])\n",
    ").select(\n",
    "    \"navn\", \"orgnummer\", \"total_karakter\", \"tilsynid\", \"dato\"\n",
    ")\n",
    "\n",
    "lf_k = lf_k.select(\"tilsynid\", \"kravpunktnavn_no\", \"karakter\")\n",
    "\n",
    "lf_t = lf_t.join(lf_k, on=\"tilsynid\")\n",
    "lf_t = lf_t.group_by(\n",
    "    \"navn\", \"orgnummer\", \"total_karakter\", \"dato\"\n",
    ").agg(\n",
    "    pl.col(\"kravpunktnavn_no\").filter(pl.col(\"karakter\").eq(3)).alias(\"surmunn_liste\"),\n",
    "    pl.col(\"kravpunktnavn_no\").filter(pl.col(\"karakter\").eq(2)).alias(\"strekmunn_liste\")    \n",
    ").sort(\n",
    "    pl.col(\"dato\"), descending=True\n",
    ")\n",
    "lf_t.collect()"
   ]
  },
  {
   "cell_type": "code",
   "execution_count": 44,
   "id": "a8533962-a237-4220-813b-519b0b9970c3",
   "metadata": {},
   "outputs": [
    {
     "data": {
      "text/html": [
       "<div><style>\n",
       ".dataframe > thead > tr,\n",
       ".dataframe > tbody > tr {\n",
       "  text-align: right;\n",
       "  white-space: pre-wrap;\n",
       "}\n",
       "</style>\n",
       "<small>shape: (100, 7)</small><table border=\"1\" class=\"dataframe\"><thead><tr><th>navn</th><th>orgnummer</th><th>total_karakter</th><th>forrige_total_karakter</th><th>dato</th><th>surmunn_liste</th><th>strekmunn_liste</th></tr><tr><td>str</td><td>i64</td><td>i64</td><td>i64</td><td>date</td><td>list[str]</td><td>list[str]</td></tr></thead><tbody><tr><td>&quot;Kontoret&quot;</td><td>916942931</td><td>2</td><td>0</td><td>2024-01-11</td><td>[]</td><td>[&quot;Internkontroll&quot;, &quot;Generelt - planløsning, standard og vedlikehold&quot;, … &quot;Kjølekjeden&quot;]</td></tr><tr><td>&quot;La Pergola&quot;</td><td>916144636</td><td>2</td><td>1</td><td>2023-09-06</td><td>[]</td><td>[&quot;Generelt - planløsning, standard og vedlikehold&quot;, &quot;Bekjempe skadedyr&quot;]</td></tr><tr><td>&quot;Burger King - …</td><td>929545435</td><td>2</td><td>null</td><td>2023-07-20</td><td>[]</td><td>[&quot;Forurensningsfare&quot;, &quot;Kjølekjeden&quot;]</td></tr><tr><td>&quot;Roar i Bua&quot;</td><td>979728468</td><td>2</td><td>0</td><td>2023-06-29</td><td>[]</td><td>[&quot;Internkontroll&quot;, &quot;Generelt - planløsning, standard og vedlikehold&quot;, … &quot;Kjølekjeden&quot;]</td></tr><tr><td>&quot;Paparazzi&quot;</td><td>994692038</td><td>2</td><td>1</td><td>2023-05-24</td><td>[]</td><td>[&quot;Generelt - planløsning, standard og vedlikehold&quot;, &quot;Renhold&quot;, &quot;Kjølekjeden&quot;]</td></tr><tr><td>&quot;Jordbærpikene …</td><td>992699183</td><td>2</td><td>0</td><td>2023-04-21</td><td>[]</td><td>[&quot;Generelt - planløsning, standard og vedlikehold&quot;, &quot;Renhold&quot;]</td></tr><tr><td>&quot;ALMA&quot;</td><td>922286108</td><td>2</td><td>1</td><td>2023-03-22</td><td>[]</td><td>[&quot;Renhold&quot;, &quot;Personaltoalett og garderobe&quot;]</td></tr><tr><td>&quot;URO på Haugar …</td><td>925813885</td><td>2</td><td>0</td><td>2023-03-09</td><td>[]</td><td>[&quot;Internkontroll&quot;, &quot;Personaltoalett og garderobe&quot;]</td></tr><tr><td>&quot;My Cafe&quot;</td><td>989385690</td><td>3</td><td>3</td><td>2023-03-01</td><td>[&quot;Råvarer&quot;, &quot;Kjølekjeden&quot;]</td><td>[&quot;Synlig rapport for smilefjes&quot;, &quot;Internkontroll&quot;, … &quot;Tining&quot;]</td></tr><tr><td>&quot;My Cafe&quot;</td><td>989385690</td><td>3</td><td>0</td><td>2023-02-23</td><td>[&quot;Råvarer&quot;, &quot;Kjølekjeden&quot;]</td><td>[&quot;Synlig rapport for smilefjes&quot;, &quot;Internkontroll&quot;, … &quot;Tining&quot;]</td></tr><tr><td>&quot;New Tajmahal&quot;</td><td>996207943</td><td>2</td><td>1</td><td>2023-02-06</td><td>[]</td><td>[&quot;Nedkjøling&quot;]</td></tr><tr><td>&quot;Sjømilitære Sa…</td><td>977259789</td><td>2</td><td>1</td><td>2023-02-02</td><td>[]</td><td>[&quot;Internkontroll&quot;, &quot;Kjølekjeden&quot;]</td></tr><tr><td>&hellip;</td><td>&hellip;</td><td>&hellip;</td><td>&hellip;</td><td>&hellip;</td><td>&hellip;</td><td>&hellip;</td></tr><tr><td>&quot;Fregatten sush…</td><td>971785551</td><td>2</td><td>3</td><td>2016-03-10</td><td>[]</td><td>[&quot;Lokaler - spesielle krav ved tilberedning, bearbeiding og foredling&quot;, &quot;Merking av allergeningredienser&quot;]</td></tr><tr><td>&quot;Fregatten sush…</td><td>971785551</td><td>3</td><td>3</td><td>2016-02-29</td><td>[&quot;Generelt - planløsning, standard og vedlikehold&quot;, &quot;Forurensningsfare&quot;]</td><td>[&quot;Internkontroll&quot;, &quot;Lokaler - spesielle krav ved tilberedning, bearbeiding og foredling&quot;, … &quot;Merking av allergeningredienser&quot;]</td></tr><tr><td>&quot;Tønsberg Pizza…</td><td>985782806</td><td>2</td><td>null</td><td>2016-02-25</td><td>[]</td><td>[&quot;Generelt - planløsning, standard og vedlikehold&quot;, &quot;Merking av allergeningredienser&quot;]</td></tr><tr><td>&quot;Fregatten sush…</td><td>971785551</td><td>3</td><td>null</td><td>2016-02-24</td><td>[&quot;Generelt - planløsning, standard og vedlikehold&quot;, &quot;Forurensningsfare&quot;]</td><td>[&quot;Internkontroll&quot;, &quot;Lokaler - spesielle krav ved tilberedning, bearbeiding og foredling&quot;, … &quot;Merking av allergeningredienser&quot;]</td></tr><tr><td>&quot;Pizzavera Solv…</td><td>984386931</td><td>2</td><td>2</td><td>2016-02-17</td><td>[]</td><td>[&quot;Lokaler - spesielle krav ved tilberedning, bearbeiding og foredling&quot;, &quot;Merking av allergeningredienser&quot;]</td></tr><tr><td>&quot;Quality Hotel …</td><td>983138535</td><td>2</td><td>null</td><td>2016-02-16</td><td>[]</td><td>[&quot;Generelt - planløsning, standard og vedlikehold&quot;]</td></tr><tr><td>&quot;Pizzavera Solv…</td><td>984386931</td><td>2</td><td>null</td><td>2016-02-11</td><td>[]</td><td>[&quot;Generelt - planløsning, standard og vedlikehold&quot;, &quot;Lokaler - spesielle krav ved tilberedning, bearbeiding og foredling&quot;, … &quot;Merking av allergeningredienser&quot;]</td></tr><tr><td>&quot;Nøtterøy Baker…</td><td>974196506</td><td>2</td><td>2</td><td>2016-02-09</td><td>[]</td><td>[&quot;Lokaler - spesielle krav ved tilberedning, bearbeiding og foredling&quot;]</td></tr><tr><td>&quot;Sawatdee Thai …</td><td>994602446</td><td>2</td><td>null</td><td>2016-02-08</td><td>[]</td><td>[&quot;Generelt - planløsning, standard og vedlikehold&quot;, &quot;Merking av allergeningredienser&quot;]</td></tr><tr><td>&quot;Nøtterøy Baker…</td><td>974196506</td><td>2</td><td>null</td><td>2016-02-03</td><td>[]</td><td>[&quot;Lokaler - spesielle krav ved tilberedning, bearbeiding og foredling&quot;, &quot;Renhold&quot;, &quot;Håndvask&quot;]</td></tr><tr><td>&quot;New Tajmahal&quot;</td><td>996207943</td><td>2</td><td>null</td><td>2016-02-03</td><td>[]</td><td>[&quot;Generelt - planløsning, standard og vedlikehold&quot;, &quot;Lokaler - spesielle krav ved tilberedning, bearbeiding og foredling&quot;, … &quot;Merking av allergeningredienser&quot;]</td></tr><tr><td>&quot;La Pergola&quot;</td><td>916144636</td><td>2</td><td>null</td><td>2016-01-20</td><td>[]</td><td>[&quot;Generelt - planløsning, standard og vedlikehold&quot;, &quot;Renhold&quot;, … &quot;Kjølekjeden&quot;]</td></tr></tbody></table></div>"
      ],
      "text/plain": [
       "shape: (100, 7)\n",
       "┌───────────────────────────────────┬───────────┬────────────────┬────────────────────────┬────────────┬───────────────┬───────────────────────────────────┐\n",
       "│ navn                              ┆ orgnummer ┆ total_karakter ┆ forrige_total_karakter ┆ dato       ┆ surmunn_liste ┆ strekmunn_liste                   │\n",
       "│ ---                               ┆ ---       ┆ ---            ┆ ---                    ┆ ---        ┆ ---           ┆ ---                               │\n",
       "│ str                               ┆ i64       ┆ i64            ┆ i64                    ┆ date       ┆ list[str]     ┆ list[str]                         │\n",
       "╞═══════════════════════════════════╪═══════════╪════════════════╪════════════════════════╪════════════╪═══════════════╪═══════════════════════════════════╡\n",
       "│ Kontoret                          ┆ 916942931 ┆ 2              ┆ 0                      ┆ 2024-01-11 ┆ []            ┆ [\"Internkontroll\", \"Generelt - p… │\n",
       "│ La Pergola                        ┆ 916144636 ┆ 2              ┆ 1                      ┆ 2023-09-06 ┆ []            ┆ [\"Generelt - planløsning, standa… │\n",
       "│ Burger King - Nedre Langgate      ┆ 929545435 ┆ 2              ┆ null                   ┆ 2023-07-20 ┆ []            ┆ [\"Forurensningsfare\", \"Kjølekjed… │\n",
       "│ Roar i Bua                        ┆ 979728468 ┆ 2              ┆ 0                      ┆ 2023-06-29 ┆ []            ┆ [\"Internkontroll\", \"Generelt - p… │\n",
       "│ Paparazzi                         ┆ 994692038 ┆ 2              ┆ 1                      ┆ 2023-05-24 ┆ []            ┆ [\"Generelt - planløsning, standa… │\n",
       "│ …                                 ┆ …         ┆ …              ┆ …                      ┆ …          ┆ …             ┆ …                                 │\n",
       "│ Nøtterøy Bakeri & Konditori - To… ┆ 974196506 ┆ 2              ┆ 2                      ┆ 2016-02-09 ┆ []            ┆ [\"Lokaler - spesielle krav ved t… │\n",
       "│ Sawatdee Thai Restaurant          ┆ 994602446 ┆ 2              ┆ null                   ┆ 2016-02-08 ┆ []            ┆ [\"Generelt - planløsning, standa… │\n",
       "│ Nøtterøy Bakeri & Konditori - To… ┆ 974196506 ┆ 2              ┆ null                   ┆ 2016-02-03 ┆ []            ┆ [\"Lokaler - spesielle krav ved t… │\n",
       "│ New Tajmahal                      ┆ 996207943 ┆ 2              ┆ null                   ┆ 2016-02-03 ┆ []            ┆ [\"Generelt - planløsning, standa… │\n",
       "│ La Pergola                        ┆ 916144636 ┆ 2              ┆ null                   ┆ 2016-01-20 ┆ []            ┆ [\"Generelt - planløsning, standa… │\n",
       "└───────────────────────────────────┴───────────┴────────────────┴────────────────────────┴────────────┴───────────────┴───────────────────────────────────┘"
      ]
     },
     "execution_count": 44,
     "metadata": {},
     "output_type": "execute_result"
    }
   ],
   "source": [
    "# 13. Utvid oppgaven over ved å inkludere totalkarakteren på forrige kontroll dersom den finnes i rapporten.\n",
    "fix_date = pl.col(\"dato\").str.to_date(format=\"%d%m%Y\")\n",
    "lf_t = pl.scan_csv(\"tilsyn.csv\", separator=\";\", dtypes={\"postnr\":str, \"dato\":str}).with_columns(\n",
    "    fix_date\n",
    ").sort(\n",
    "    [\"orgnummer\", \"navn\", \"dato\"], descending=[False, False, True],\n",
    ").with_columns(\n",
    "    pl.col(\"total_karakter\").shift(-1).over([\"orgnummer\", \"navn\"]).alias(\"forrige_total_karakter\")\n",
    ")\n",
    "\n",
    "lf_k = pl.scan_csv(\"kravpunkter.csv\", separator=\";\",  dtypes={\"dato\":str}).with_columns(\n",
    "    fix_date\n",
    ")\n",
    "lf_t = lf_t.filter(\n",
    "    pl.col(\"poststed\").is_in([\"TØNSBERG\", \"HORTEN\"])\n",
    ").filter(\n",
    "    pl.col(\"total_karakter\").is_in([2,3])\n",
    ").select(\n",
    "    \"navn\", \"orgnummer\", \"total_karakter\", \"tilsynid\", \"dato\", \"forrige_total_karakter\"\n",
    ")\n",
    "\n",
    "lf_k = lf_k.select(\"tilsynid\", \"kravpunktnavn_no\", \"karakter\")\n",
    "\n",
    "lf_t = lf_t.join(lf_k, on=\"tilsynid\")\n",
    "lf_t = lf_t.group_by(\n",
    "    \"navn\", \"orgnummer\", \"total_karakter\",\"forrige_total_karakter\", \"dato\"\n",
    ").agg(\n",
    "    pl.col(\"kravpunktnavn_no\").filter(pl.col(\"karakter\").eq(3)).alias(\"surmunn_liste\"),\n",
    "    pl.col(\"kravpunktnavn_no\").filter(pl.col(\"karakter\").eq(2)).alias(\"strekmunn_liste\")    \n",
    ").sort(\n",
    "    pl.col(\"dato\"), descending=True\n",
    ")\n",
    "lf_t.collect()\n"
   ]
  },
  {
   "cell_type": "code",
   "execution_count": null,
   "id": "f88741c0-3e02-4bd1-9063-c5b1c049dfe0",
   "metadata": {},
   "outputs": [],
   "source": []
  }
 ],
 "metadata": {
  "kernelspec": {
   "display_name": "Python 3 (ipykernel)",
   "language": "python",
   "name": "python3"
  },
  "language_info": {
   "codemirror_mode": {
    "name": "ipython",
    "version": 3
   },
   "file_extension": ".py",
   "mimetype": "text/x-python",
   "name": "python",
   "nbconvert_exporter": "python",
   "pygments_lexer": "ipython3",
   "version": "3.10.13"
  }
 },
 "nbformat": 4,
 "nbformat_minor": 5
}
