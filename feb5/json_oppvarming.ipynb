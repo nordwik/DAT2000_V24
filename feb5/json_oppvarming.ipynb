{
 "cells": [
  {
   "cell_type": "code",
   "execution_count": null,
   "id": "initial_id",
   "metadata": {
    "collapsed": true
   },
   "outputs": [],
   "source": [
    "import json"
   ]
  },
  {
   "cell_type": "code",
   "outputs": [],
   "source": [
    "# Vi kan definere en dict på denne måten:\n",
    "d={}\n",
    "\n",
    "# Deretter kan vi sette noen verdier\n",
    "d[\"A\"] = [1,2]\n",
    "d[\"B\"] = 3\n",
    "d[\"C\"] = True\n",
    "d"
   ],
   "metadata": {
    "collapsed": false
   },
   "id": "fa75ab2a5fd9efc2",
   "execution_count": null
  },
  {
   "cell_type": "code",
   "outputs": [],
   "source": [
    "# Vi kunne også definert denne direkte:\n",
    "d2 = {'A': [1, 2], 'B': 3, 'C': True}\n",
    "d2"
   ],
   "metadata": {
    "collapsed": false
   },
   "id": "a21d3ffb2d2e2a93",
   "execution_count": null
  },
  {
   "cell_type": "code",
   "outputs": [],
   "source": [
    "# En dict er ikke en JSON, men kan konverteres til en så lenge vi bare bruker datatyper som hører hjemme i en dict.\n",
    "d_json = json.dumps(d)\n",
    "# Dette er rett og slett veldig likt, men merk at True blir til true når vi har en JSON...\n",
    "d_json"
   ],
   "metadata": {
    "collapsed": false
   },
   "id": "86bc4cf872853242",
   "execution_count": null
  },
  {
   "cell_type": "code",
   "outputs": [],
   "source": [
    "# Vi kan også skrive en dict til en tekstfil. \n",
    "with open(\"d.json\", \"w\") as f:\n",
    "    #Vi skriver ut dict d til json-filen med pen formatering\n",
    "    json.dump(d, f, indent=4, ensure_ascii=False)"
   ],
   "metadata": {
    "collapsed": false
   },
   "id": "bc8a9297f127ee10",
   "execution_count": null
  },
  {
   "cell_type": "code",
   "outputs": [],
   "source": [
    "# Vi kan også lese en json fra fil:\n",
    "with open(\"oppvarming.json\", \"r\") as f:\n",
    "    oppvarming = json.load(f)\n",
    "    \n",
    "oppvarming"
   ],
   "metadata": {
    "collapsed": false
   },
   "id": "946537b2d4bb5dd",
   "execution_count": null
  },
  {
   "cell_type": "code",
   "outputs": [],
   "source": [
    "oppvarming[\"key1\"]"
   ],
   "metadata": {
    "collapsed": false
   },
   "id": "6293c9140a7db6db",
   "execution_count": null
  },
  {
   "cell_type": "code",
   "outputs": [],
   "source": [
    "# Iterering i en dict itererer over nøklene - merk at vi ikke er garantert rekkefølge\n",
    "for k in oppvarming:\n",
    "    print(k)"
   ],
   "metadata": {
    "collapsed": false
   },
   "id": "7db301460ba522ab",
   "execution_count": null
  },
  {
   "cell_type": "code",
   "outputs": [],
   "source": [],
   "metadata": {
    "collapsed": false
   },
   "id": "e9d9b7b1a67a8293"
  }
 ],
 "metadata": {
  "kernelspec": {
   "display_name": "Python 3",
   "language": "python",
   "name": "python3"
  },
  "language_info": {
   "codemirror_mode": {
    "name": "ipython",
    "version": 2
   },
   "file_extension": ".py",
   "mimetype": "text/x-python",
   "name": "python",
   "nbconvert_exporter": "python",
   "pygments_lexer": "ipython2",
   "version": "2.7.6"
  }
 },
 "nbformat": 4,
 "nbformat_minor": 5
}
