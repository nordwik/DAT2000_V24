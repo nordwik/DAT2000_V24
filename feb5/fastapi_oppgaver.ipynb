{
 "cells": [
  {
   "cell_type": "markdown",
   "source": [
    "# FastAPI-oppgaver\n",
    "\n",
    "Dette har jeg basert på tutorials [her](https://fastapi.tiangolo.com/tutorial/)\n",
    "I disse oppgavene skal vi gjøre noen enkle ting med FastAPI og requests.\n",
    "Kjør:\n",
    " \n",
    "```bash \n",
    "pip install \"fastapi[all]\"\n",
    "```\n",
    "\n",
    "Deretter cd til feb5-mappa og kjør:\n",
    "```bash\n",
    "uvicorn main:app --reload\n",
    "```\n",
    "\n",
    "Dette kjører en webserver med innholdet i main.py\n",
    "Når noe endrer seg så lastes innholdet på nytt, så du slipper å restarte hver gang du endrer noe. "
   ],
   "metadata": {
    "collapsed": false
   },
   "id": "4455b017e96cd36a"
  },
  {
   "cell_type": "code",
   "outputs": [],
   "source": [
    "# Oppgave 1:\n",
    "# Når dette snurrer, så sjekk at du får kjørt koden under og at svaret er som forventet. \n",
    "# Gjør en liten endring og sjekk denne.. "
   ],
   "metadata": {
    "collapsed": false
   },
   "id": "175a3d2ece30f737",
   "execution_count": null
  },
  {
   "cell_type": "code",
   "outputs": [],
   "source": [
    "import requests"
   ],
   "metadata": {
    "collapsed": true
   },
   "id": "initial_id",
   "execution_count": null
  },
  {
   "cell_type": "code",
   "outputs": [],
   "source": [
    "URL = \"http://127.0.0.1:8000\"\n",
    "\n",
    "resp = requests.get(URL)\n",
    "resp.json()"
   ],
   "metadata": {
    "collapsed": false
   },
   "id": "5f5f9449e16cfbb3",
   "execution_count": null
  },
  {
   "cell_type": "code",
   "outputs": [],
   "source": [
    "# Oppgave 2: \n",
    "# Ta en titt på http://localhost:8000/docs og se hva du finner."
   ],
   "metadata": {
    "collapsed": false
   },
   "id": "a8adf91d1ab376fb",
   "execution_count": null
  },
  {
   "cell_type": "code",
   "outputs": [],
   "source": [
    "# Oppgave 3:\n",
    "# Lag en ny rute, dvs. legg til:\n",
    "# @app.get(\"/heiparam/\")\n",
    "# async def root():\n",
    "#    return {\"message\": \"Hello World\"}\n",
    "# Se om du kan få satt en parameter navn i spørringen, sånn at message blir: \"Hello Navn Navnesen\".  \n",
    "# https://fastapi.tiangolo.com/tutorial/query-params/\n",
    "# https://requests.readthedocs.io/en/latest/user/quickstart/#passing-parameters-in-urls \n",
    "# Test at dette fungerer under\n",
    "# Sjekk også http://localhost:8000/docs og se hvordan dette ser ut nå. "
   ],
   "metadata": {
    "collapsed": false
   },
   "id": "a6c3f846ac9366fc"
  },
  {
   "cell_type": "code",
   "outputs": [],
   "source": [
    "# Oppgave 4:\n",
    "# Gjør det samme som i oppgave 3 men denne gangen med path:\n",
    "# https://fastapi.tiangolo.com/tutorial/path-params/ "
   ],
   "metadata": {
    "collapsed": false
   },
   "id": "bfa2da5b09328456"
  },
  {
   "cell_type": "code",
   "outputs": [],
   "source": [
    "# Oppgave 5:\n",
    "# Gjør det samme som i oppgavene over, men denne gangen skal man kunne angi:\n",
    "# navn (datatype str)\n",
    "# alder (datatype int).\n",
    "# Dette skal sendes som en json-body (nå må du bytte til post fra get)\n",
    "# Svaret skal være {\"message\": \"Hei Navn Navnesen, 4 år\"}\n",
    "# Bruk denne: \n",
    "# https://fastapi.tiangolo.com/tutorial/body/\n",
    "# For å teste så bruker du requests.post og data={\"alder\":4, \"navn\":\"Navn Navnesen\"}\n",
    "# Sjekk også Swagger og se hva som dukker opp (http://localhost:8000/docs)  "
   ],
   "metadata": {
    "collapsed": false
   },
   "id": "7043e0100e20a3d0"
  },
  {
   "cell_type": "code",
   "outputs": [],
   "source": [
    "# Oppgave 6\n",
    "# Se om du kan lage en rute som henter en verdi fra en dict.\n",
    "# Dicten kan du f.eks lese inn fra en json-fil eller hardkode. \n",
    "# Innlesningen kan du definere like etter linjen app = FastAPI()\n",
    "# Bruk https://fastapi.tiangolo.com/tutorial/query-params/ som inspirasjon. "
   ],
   "metadata": {
    "collapsed": false
   },
   "id": "5f215f55145df0fc"
  },
  {
   "cell_type": "code",
   "outputs": [],
   "source": [
    "# Oppgave 7\n",
    "# Sett opp postgres-databasen fra første øving 8. januar. \n",
    "# Sørg for at oppsett av databasen kjører like etter linjen app = FastAPI()\n",
    "# Lag ruter for å hente beatle.\n",
    "# Denne oppgaven kan kanskje være vanskelig - men gi det gjerne et forsøk. "
   ],
   "metadata": {
    "collapsed": false
   },
   "id": "7fa3be7375147591"
  }
 ],
 "metadata": {
  "kernelspec": {
   "display_name": "Python 3",
   "language": "python",
   "name": "python3"
  },
  "language_info": {
   "codemirror_mode": {
    "name": "ipython",
    "version": 2
   },
   "file_extension": ".py",
   "mimetype": "text/x-python",
   "name": "python",
   "nbconvert_exporter": "python",
   "pygments_lexer": "ipython2",
   "version": "2.7.6"
  }
 },
 "nbformat": 4,
 "nbformat_minor": 5
}
