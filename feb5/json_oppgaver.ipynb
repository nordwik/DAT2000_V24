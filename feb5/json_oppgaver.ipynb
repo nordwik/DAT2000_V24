{
 "cells": [
  {
   "cell_type": "code",
   "execution_count": null,
   "id": "initial_id",
   "metadata": {
    "collapsed": true
   },
   "outputs": [],
   "source": [
    "import json\n",
    "import requests"
   ]
  },
  {
   "cell_type": "code",
   "outputs": [],
   "source": [
    "# Dette henter ulike objekter knyttet til veier i Norsk Vegdatabank (NVDB)\n",
    "\n",
    "# Vi bruker https://nvdbapiles-v3.atlas.vegvesen.no/dokumentasjon/openapi/swagger-ui/index.html#/Datakatalog/get_vegobjekttyper\n",
    "\n",
    "NVDB_API_URL = \"https://nvdbapiles-v3.atlas.vegvesen.no\"\n",
    "VEGOBJEKT_TYPER = f\"{NVDB_API_URL}/vegobjekttyper\"\n",
    "headers = {\"X-Client\":\"USN-DAT2000-V24-TEST\"}\n",
    "\n",
    "resp = requests.get(VEGOBJEKT_TYPER, headers=headers, params={})\n",
    "resp_dict = resp.json()\n",
    "resp_dict"
   ],
   "metadata": {
    "collapsed": false
   },
   "id": "a76e9cbfaf9ce74",
   "execution_count": null
  },
  {
   "cell_type": "code",
   "outputs": [],
   "source": [
    "# Oppgave 1:\n",
    "# \n",
    "# Fyll dicten oppslag_mt slik at:\n",
    "# nøklene er kortnavn, men bare de med status: 'NVDB, ok'\n",
    "# verdiene er en dict med id, navn og beskrivelse som hører til kortnavn\n",
    "\n",
    "oppslag_vt = {}\n",
    "\n",
    "for obj in resp_dict:\n",
    "    print(obj) "
   ],
   "metadata": {
    "collapsed": false
   },
   "id": "abd9a29ee329757a",
   "execution_count": null
  },
  {
   "cell_type": "code",
   "outputs": [],
   "source": [
    "# Oppgave 2:\n",
    "#\n",
    "# Skriv ut alle kortnavn og beskrivelser \n",
    "for (k,v) in oppslag_vt.items():\n",
    "    pass"
   ],
   "metadata": {
    "collapsed": false
   },
   "id": "91158caf416e318d",
   "execution_count": null
  },
  {
   "cell_type": "code",
   "outputs": [],
   "source": [
    "# Oppgave 3:\n",
    "# Velg en vegobjekttype og skriv ut dicten som hører til til en fil som heter \"mitt_objekt.json\" "
   ],
   "metadata": {
    "collapsed": false
   },
   "id": "3d4188362153f1fa"
  },
  {
   "cell_type": "code",
   "outputs": [],
   "source": [
    "# Oppgave 4:\n",
    "# \n",
    "# Velg en vegobjekttype du er interessert i og hent noen slike.\n",
    "# i stedet for id_goes_here skal du bruke oppslag_vt[\"kortnavn\"][\"id\"]\n",
    "# Sett også inn parameter sånn at du bare får 10 objekter om gangen. \n",
    "# Se om du klarer å finne ut hvilken parameter du skal sette i dokumentasjonen: \n",
    "# https://nvdbapiles-v3.atlas.vegvesen.no/dokumentasjon/openapi/swagger-ui/index.html#/Vegobjekter/get_vegobjekter__vegobjekttypeid_\n",
    "\n",
    "objekter_resp = requests.get(f\"{NVDB_API_URL}/vegobjekter/{id_goes_here}\", headers=headers, params={})\n",
    "objekter_dict = objekter_resp.json()\n",
    "objekter_dict"
   ],
   "metadata": {
    "collapsed": false
   },
   "id": "5bf069c9174feb22",
   "execution_count": null
  },
  {
   "cell_type": "code",
   "outputs": [],
   "source": [
    "# Oppgave 5:\n",
    "# \n",
    "# Nå skal du plukke ut href tilhørende første objekt i listen over, og sette den inn i koden under.\n",
    "# Det er ikke lov å copy-paste strengen. Du må bruke objekter_resp\n",
    "resp = requests.get(fyll_inn_href_her, headers=headers)\n",
    "resp_dict = resp.json()\n",
    "resp_dict"
   ],
   "metadata": {
    "collapsed": false
   },
   "id": "f2b01219ca80476b",
   "execution_count": null
  },
  {
   "cell_type": "code",
   "outputs": [],
   "source": [
    "# Oppgave 6:\n",
    "FYLKESVEIEN = \"FV325\"\n",
    "# Bruk koden over til å finne alle fartsgrenser på fylkesveg 325, som går forbi Bakkenteigen\n",
    "# Bruk vegreferanse = fylkesveien i params. "
   ],
   "metadata": {
    "collapsed": false
   },
   "id": "499ecc79b8c6acff"
  }
 ],
 "metadata": {
  "kernelspec": {
   "display_name": "Python 3",
   "language": "python",
   "name": "python3"
  },
  "language_info": {
   "codemirror_mode": {
    "name": "ipython",
    "version": 2
   },
   "file_extension": ".py",
   "mimetype": "text/x-python",
   "name": "python",
   "nbconvert_exporter": "python",
   "pygments_lexer": "ipython2",
   "version": "2.7.6"
  }
 },
 "nbformat": 4,
 "nbformat_minor": 5
}
