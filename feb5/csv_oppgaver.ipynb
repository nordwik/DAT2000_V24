{
 "cells": [
  {
   "cell_type": "code",
   "execution_count": null,
   "id": "initial_id",
   "metadata": {
    "collapsed": true
   },
   "outputs": [],
   "source": [
    "import polars as pl\n",
    "import time"
   ]
  },
  {
   "cell_type": "code",
   "outputs": [],
   "source": [
    "# Oppgave 1:\n",
    "# Studer litt_data.csv nøye, hvorfor tror du datatypen blir så rar på A? \n",
    "# Er ikke dette et tall?\n",
    "# Se om du kan fikse problemet sånn at kolonnen A blir parset som tall.. \n",
    "# Dette skyldes at CSV ikke angir datatyper\n",
    "df = pl.read_csv(\"litt_data.csv\")\n",
    "print(df.dtypes)\n",
    "df"
   ],
   "metadata": {
    "collapsed": false
   },
   "id": "7b4c1e4b20799f86",
   "execution_count": null
  },
  {
   "cell_type": "code",
   "outputs": [],
   "source": [
    "# Oppgave 2:\n",
    "#\n",
    "# Bruk df = df.with_columns(pl.col(kolonnenavn).cast(datatype)) til å caste kolonnen A til pl.UInt32\n",
    "# Dette gjør om kolonnen til et 32-biters tall uten fortegn.\n",
    "# Skriv df til \"litt_data2.csv\" (df.write_csv(..))\n",
    "# Les inn \"litt_data2.csv\" til df2. \n",
    "# Sjekk datatypen med dtypes.  "
   ],
   "metadata": {
    "collapsed": false
   },
   "id": "78eeb9408acc728"
  },
  {
   "cell_type": "code",
   "outputs": [],
   "source": [
    "# Oppgave 3:\n",
    "# \n",
    "# Gjør det samme som over, men denne gangen med write_parquet(..) til en .parquet-fil.\n",
    "# Bruk read_parquet() for å lese inn til df3.\n",
    "# Sjekk at datatypen er bevart. "
   ],
   "metadata": {
    "collapsed": false
   },
   "id": "47bce91e5ad57242"
  },
  {
   "cell_type": "code",
   "outputs": [],
   "source": [
    "# Oppgave 4:\n",
    "# \n",
    "# Koden under måler tiden det tar å lese inn kravpunkter.csv fra forrige uke, denne er på ca. 200MB\n",
    "# Sammenlign denne med tiden det tar å skrive til parquet.\n",
    "start = time.time()\n",
    "df = pl.read_csv(\"kravpunkter.csv\", separator=\";\")\n",
    "end = time.time()\n",
    "print(f\"Took: {round(end-start, 3)}\")\n",
    "\n",
    "df.write_parquet(\"kravpunkter.parquet\")"
   ],
   "metadata": {
    "collapsed": false
   },
   "id": "2aaa9e80ce90ef97",
   "execution_count": null
  },
  {
   "cell_type": "code",
   "outputs": [],
   "source": [
    "# Oppgave 5\n",
    "#\n",
    "# Sammenlign tiden det tar å skrive kravpunkter til csv kontra parquet som over.\n",
    "# Pass på at du ikke overskriver den originale kravpunkter.csv, bruk f.eks. df.write_csv(\"kravpunkter2.csv\")\n",
    "# Sammenlign deretter størrelsen på filene på disk.\n",
    "# Parquet-filen er komprimert, og komprimeringen tar litt tid når man skal skrive til disk. "
   ],
   "metadata": {
    "collapsed": false
   },
   "id": "948acc346095036c",
   "execution_count": null
  },
  {
   "cell_type": "code",
   "outputs": [],
   "source": [
    "# Oppgave 6\n",
    "#\n",
    "# "
   ],
   "metadata": {
    "collapsed": false
   },
   "id": "9b89f1af42dd6bf8"
  }
 ],
 "metadata": {
  "kernelspec": {
   "display_name": "Python 3",
   "language": "python",
   "name": "python3"
  },
  "language_info": {
   "codemirror_mode": {
    "name": "ipython",
    "version": 2
   },
   "file_extension": ".py",
   "mimetype": "text/x-python",
   "name": "python",
   "nbconvert_exporter": "python",
   "pygments_lexer": "ipython2",
   "version": "2.7.6"
  }
 },
 "nbformat": 4,
 "nbformat_minor": 5
}
